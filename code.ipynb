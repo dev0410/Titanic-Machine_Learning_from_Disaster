{
 "cells": [
  {
   "cell_type": "markdown",
   "id": "6e44dd64",
   "metadata": {
    "papermill": {
     "duration": 0.0098,
     "end_time": "2022-07-17T23:30:33.951901",
     "exception": false,
     "start_time": "2022-07-17T23:30:33.942101",
     "status": "completed"
    },
    "tags": []
   },
   "source": [
    "# Titanic - Machine Learning from Disaster"
   ]
  },
  {
   "cell_type": "code",
   "execution_count": 1,
   "id": "cddd07de",
   "metadata": {
    "execution": {
     "iopub.execute_input": "2022-07-17T23:30:33.971734Z",
     "iopub.status.busy": "2022-07-17T23:30:33.971000Z",
     "iopub.status.idle": "2022-07-17T23:30:35.294897Z",
     "shell.execute_reply": "2022-07-17T23:30:35.293967Z"
    },
    "papermill": {
     "duration": 1.336212,
     "end_time": "2022-07-17T23:30:35.297334",
     "exception": false,
     "start_time": "2022-07-17T23:30:33.961122",
     "status": "completed"
    },
    "tags": []
   },
   "outputs": [],
   "source": [
    "import pandas as pd\n",
    "from sklearn.preprocessing import OneHotEncoder\n",
    "from sklearn.model_selection import train_test_split\n",
    "from sklearn.ensemble import RandomForestClassifier\n",
    "from sklearn.impute import SimpleImputer\n",
    "from sklearn.metrics import accuracy_score\n",
    "from sklearn.model_selection import cross_val_score"
   ]
  },
  {
   "cell_type": "markdown",
   "id": "75c11e04",
   "metadata": {
    "papermill": {
     "duration": 0.008218,
     "end_time": "2022-07-17T23:30:35.314695",
     "exception": false,
     "start_time": "2022-07-17T23:30:35.306477",
     "status": "completed"
    },
    "tags": []
   },
   "source": [
    "## Load datasets\n",
    "Load all datasets for compeition from files.<br>\n",
    "\"train.csv\" is the train data and \"test.csv\" is test data."
   ]
  },
  {
   "cell_type": "markdown",
   "id": "7c08f595",
   "metadata": {
    "papermill": {
     "duration": 0.008419,
     "end_time": "2022-07-17T23:30:35.331593",
     "exception": false,
     "start_time": "2022-07-17T23:30:35.323174",
     "status": "completed"
    },
    "tags": []
   },
   "source": [
    "### load train data"
   ]
  },
  {
   "cell_type": "code",
   "execution_count": 2,
   "id": "21c64098",
   "metadata": {
    "execution": {
     "iopub.execute_input": "2022-07-17T23:30:35.350573Z",
     "iopub.status.busy": "2022-07-17T23:30:35.349892Z",
     "iopub.status.idle": "2022-07-17T23:30:35.402973Z",
     "shell.execute_reply": "2022-07-17T23:30:35.401933Z"
    },
    "papermill": {
     "duration": 0.066158,
     "end_time": "2022-07-17T23:30:35.406398",
     "exception": false,
     "start_time": "2022-07-17T23:30:35.340240",
     "status": "completed"
    },
    "tags": []
   },
   "outputs": [
    {
     "data": {
      "text/html": [
       "<div>\n",
       "<style scoped>\n",
       "    .dataframe tbody tr th:only-of-type {\n",
       "        vertical-align: middle;\n",
       "    }\n",
       "\n",
       "    .dataframe tbody tr th {\n",
       "        vertical-align: top;\n",
       "    }\n",
       "\n",
       "    .dataframe thead th {\n",
       "        text-align: right;\n",
       "    }\n",
       "</style>\n",
       "<table border=\"1\" class=\"dataframe\">\n",
       "  <thead>\n",
       "    <tr style=\"text-align: right;\">\n",
       "      <th></th>\n",
       "      <th>Survived</th>\n",
       "      <th>Pclass</th>\n",
       "      <th>Name</th>\n",
       "      <th>Sex</th>\n",
       "      <th>Age</th>\n",
       "      <th>SibSp</th>\n",
       "      <th>Parch</th>\n",
       "      <th>Ticket</th>\n",
       "      <th>Fare</th>\n",
       "      <th>Cabin</th>\n",
       "      <th>Embarked</th>\n",
       "    </tr>\n",
       "    <tr>\n",
       "      <th>PassengerId</th>\n",
       "      <th></th>\n",
       "      <th></th>\n",
       "      <th></th>\n",
       "      <th></th>\n",
       "      <th></th>\n",
       "      <th></th>\n",
       "      <th></th>\n",
       "      <th></th>\n",
       "      <th></th>\n",
       "      <th></th>\n",
       "      <th></th>\n",
       "    </tr>\n",
       "  </thead>\n",
       "  <tbody>\n",
       "    <tr>\n",
       "      <th>1</th>\n",
       "      <td>0</td>\n",
       "      <td>3</td>\n",
       "      <td>Braund, Mr. Owen Harris</td>\n",
       "      <td>male</td>\n",
       "      <td>22.0</td>\n",
       "      <td>1</td>\n",
       "      <td>0</td>\n",
       "      <td>A/5 21171</td>\n",
       "      <td>7.2500</td>\n",
       "      <td>NaN</td>\n",
       "      <td>S</td>\n",
       "    </tr>\n",
       "    <tr>\n",
       "      <th>2</th>\n",
       "      <td>1</td>\n",
       "      <td>1</td>\n",
       "      <td>Cumings, Mrs. John Bradley (Florence Briggs Th...</td>\n",
       "      <td>female</td>\n",
       "      <td>38.0</td>\n",
       "      <td>1</td>\n",
       "      <td>0</td>\n",
       "      <td>PC 17599</td>\n",
       "      <td>71.2833</td>\n",
       "      <td>C85</td>\n",
       "      <td>C</td>\n",
       "    </tr>\n",
       "    <tr>\n",
       "      <th>3</th>\n",
       "      <td>1</td>\n",
       "      <td>3</td>\n",
       "      <td>Heikkinen, Miss. Laina</td>\n",
       "      <td>female</td>\n",
       "      <td>26.0</td>\n",
       "      <td>0</td>\n",
       "      <td>0</td>\n",
       "      <td>STON/O2. 3101282</td>\n",
       "      <td>7.9250</td>\n",
       "      <td>NaN</td>\n",
       "      <td>S</td>\n",
       "    </tr>\n",
       "    <tr>\n",
       "      <th>4</th>\n",
       "      <td>1</td>\n",
       "      <td>1</td>\n",
       "      <td>Futrelle, Mrs. Jacques Heath (Lily May Peel)</td>\n",
       "      <td>female</td>\n",
       "      <td>35.0</td>\n",
       "      <td>1</td>\n",
       "      <td>0</td>\n",
       "      <td>113803</td>\n",
       "      <td>53.1000</td>\n",
       "      <td>C123</td>\n",
       "      <td>S</td>\n",
       "    </tr>\n",
       "    <tr>\n",
       "      <th>5</th>\n",
       "      <td>0</td>\n",
       "      <td>3</td>\n",
       "      <td>Allen, Mr. William Henry</td>\n",
       "      <td>male</td>\n",
       "      <td>35.0</td>\n",
       "      <td>0</td>\n",
       "      <td>0</td>\n",
       "      <td>373450</td>\n",
       "      <td>8.0500</td>\n",
       "      <td>NaN</td>\n",
       "      <td>S</td>\n",
       "    </tr>\n",
       "    <tr>\n",
       "      <th>...</th>\n",
       "      <td>...</td>\n",
       "      <td>...</td>\n",
       "      <td>...</td>\n",
       "      <td>...</td>\n",
       "      <td>...</td>\n",
       "      <td>...</td>\n",
       "      <td>...</td>\n",
       "      <td>...</td>\n",
       "      <td>...</td>\n",
       "      <td>...</td>\n",
       "      <td>...</td>\n",
       "    </tr>\n",
       "    <tr>\n",
       "      <th>887</th>\n",
       "      <td>0</td>\n",
       "      <td>2</td>\n",
       "      <td>Montvila, Rev. Juozas</td>\n",
       "      <td>male</td>\n",
       "      <td>27.0</td>\n",
       "      <td>0</td>\n",
       "      <td>0</td>\n",
       "      <td>211536</td>\n",
       "      <td>13.0000</td>\n",
       "      <td>NaN</td>\n",
       "      <td>S</td>\n",
       "    </tr>\n",
       "    <tr>\n",
       "      <th>888</th>\n",
       "      <td>1</td>\n",
       "      <td>1</td>\n",
       "      <td>Graham, Miss. Margaret Edith</td>\n",
       "      <td>female</td>\n",
       "      <td>19.0</td>\n",
       "      <td>0</td>\n",
       "      <td>0</td>\n",
       "      <td>112053</td>\n",
       "      <td>30.0000</td>\n",
       "      <td>B42</td>\n",
       "      <td>S</td>\n",
       "    </tr>\n",
       "    <tr>\n",
       "      <th>889</th>\n",
       "      <td>0</td>\n",
       "      <td>3</td>\n",
       "      <td>Johnston, Miss. Catherine Helen \"Carrie\"</td>\n",
       "      <td>female</td>\n",
       "      <td>NaN</td>\n",
       "      <td>1</td>\n",
       "      <td>2</td>\n",
       "      <td>W./C. 6607</td>\n",
       "      <td>23.4500</td>\n",
       "      <td>NaN</td>\n",
       "      <td>S</td>\n",
       "    </tr>\n",
       "    <tr>\n",
       "      <th>890</th>\n",
       "      <td>1</td>\n",
       "      <td>1</td>\n",
       "      <td>Behr, Mr. Karl Howell</td>\n",
       "      <td>male</td>\n",
       "      <td>26.0</td>\n",
       "      <td>0</td>\n",
       "      <td>0</td>\n",
       "      <td>111369</td>\n",
       "      <td>30.0000</td>\n",
       "      <td>C148</td>\n",
       "      <td>C</td>\n",
       "    </tr>\n",
       "    <tr>\n",
       "      <th>891</th>\n",
       "      <td>0</td>\n",
       "      <td>3</td>\n",
       "      <td>Dooley, Mr. Patrick</td>\n",
       "      <td>male</td>\n",
       "      <td>32.0</td>\n",
       "      <td>0</td>\n",
       "      <td>0</td>\n",
       "      <td>370376</td>\n",
       "      <td>7.7500</td>\n",
       "      <td>NaN</td>\n",
       "      <td>Q</td>\n",
       "    </tr>\n",
       "  </tbody>\n",
       "</table>\n",
       "<p>891 rows × 11 columns</p>\n",
       "</div>"
      ],
      "text/plain": [
       "             Survived  Pclass  \\\n",
       "PassengerId                     \n",
       "1                   0       3   \n",
       "2                   1       1   \n",
       "3                   1       3   \n",
       "4                   1       1   \n",
       "5                   0       3   \n",
       "...               ...     ...   \n",
       "887                 0       2   \n",
       "888                 1       1   \n",
       "889                 0       3   \n",
       "890                 1       1   \n",
       "891                 0       3   \n",
       "\n",
       "                                                          Name     Sex   Age  \\\n",
       "PassengerId                                                                    \n",
       "1                                      Braund, Mr. Owen Harris    male  22.0   \n",
       "2            Cumings, Mrs. John Bradley (Florence Briggs Th...  female  38.0   \n",
       "3                                       Heikkinen, Miss. Laina  female  26.0   \n",
       "4                 Futrelle, Mrs. Jacques Heath (Lily May Peel)  female  35.0   \n",
       "5                                     Allen, Mr. William Henry    male  35.0   \n",
       "...                                                        ...     ...   ...   \n",
       "887                                      Montvila, Rev. Juozas    male  27.0   \n",
       "888                               Graham, Miss. Margaret Edith  female  19.0   \n",
       "889                   Johnston, Miss. Catherine Helen \"Carrie\"  female   NaN   \n",
       "890                                      Behr, Mr. Karl Howell    male  26.0   \n",
       "891                                        Dooley, Mr. Patrick    male  32.0   \n",
       "\n",
       "             SibSp  Parch            Ticket     Fare Cabin Embarked  \n",
       "PassengerId                                                          \n",
       "1                1      0         A/5 21171   7.2500   NaN        S  \n",
       "2                1      0          PC 17599  71.2833   C85        C  \n",
       "3                0      0  STON/O2. 3101282   7.9250   NaN        S  \n",
       "4                1      0            113803  53.1000  C123        S  \n",
       "5                0      0            373450   8.0500   NaN        S  \n",
       "...            ...    ...               ...      ...   ...      ...  \n",
       "887              0      0            211536  13.0000   NaN        S  \n",
       "888              0      0            112053  30.0000   B42        S  \n",
       "889              1      2        W./C. 6607  23.4500   NaN        S  \n",
       "890              0      0            111369  30.0000  C148        C  \n",
       "891              0      0            370376   7.7500   NaN        Q  \n",
       "\n",
       "[891 rows x 11 columns]"
      ]
     },
     "execution_count": 2,
     "metadata": {},
     "output_type": "execute_result"
    }
   ],
   "source": [
    "df_train = pd.read_csv(\"../input/titanic/train.csv\", index_col='PassengerId')\n",
    "df_train"
   ]
  },
  {
   "cell_type": "markdown",
   "id": "f8b357e0",
   "metadata": {
    "papermill": {
     "duration": 0.008829,
     "end_time": "2022-07-17T23:30:35.424406",
     "exception": false,
     "start_time": "2022-07-17T23:30:35.415577",
     "status": "completed"
    },
    "tags": []
   },
   "source": [
    "### load test data"
   ]
  },
  {
   "cell_type": "code",
   "execution_count": 3,
   "id": "d366a221",
   "metadata": {
    "execution": {
     "iopub.execute_input": "2022-07-17T23:30:35.444076Z",
     "iopub.status.busy": "2022-07-17T23:30:35.443707Z",
     "iopub.status.idle": "2022-07-17T23:30:35.471363Z",
     "shell.execute_reply": "2022-07-17T23:30:35.470678Z"
    },
    "papermill": {
     "duration": 0.040251,
     "end_time": "2022-07-17T23:30:35.473320",
     "exception": false,
     "start_time": "2022-07-17T23:30:35.433069",
     "status": "completed"
    },
    "tags": []
   },
   "outputs": [
    {
     "data": {
      "text/html": [
       "<div>\n",
       "<style scoped>\n",
       "    .dataframe tbody tr th:only-of-type {\n",
       "        vertical-align: middle;\n",
       "    }\n",
       "\n",
       "    .dataframe tbody tr th {\n",
       "        vertical-align: top;\n",
       "    }\n",
       "\n",
       "    .dataframe thead th {\n",
       "        text-align: right;\n",
       "    }\n",
       "</style>\n",
       "<table border=\"1\" class=\"dataframe\">\n",
       "  <thead>\n",
       "    <tr style=\"text-align: right;\">\n",
       "      <th></th>\n",
       "      <th>Pclass</th>\n",
       "      <th>Name</th>\n",
       "      <th>Sex</th>\n",
       "      <th>Age</th>\n",
       "      <th>SibSp</th>\n",
       "      <th>Parch</th>\n",
       "      <th>Ticket</th>\n",
       "      <th>Fare</th>\n",
       "      <th>Cabin</th>\n",
       "      <th>Embarked</th>\n",
       "    </tr>\n",
       "    <tr>\n",
       "      <th>PassengerId</th>\n",
       "      <th></th>\n",
       "      <th></th>\n",
       "      <th></th>\n",
       "      <th></th>\n",
       "      <th></th>\n",
       "      <th></th>\n",
       "      <th></th>\n",
       "      <th></th>\n",
       "      <th></th>\n",
       "      <th></th>\n",
       "    </tr>\n",
       "  </thead>\n",
       "  <tbody>\n",
       "    <tr>\n",
       "      <th>892</th>\n",
       "      <td>3</td>\n",
       "      <td>Kelly, Mr. James</td>\n",
       "      <td>male</td>\n",
       "      <td>34.5</td>\n",
       "      <td>0</td>\n",
       "      <td>0</td>\n",
       "      <td>330911</td>\n",
       "      <td>7.8292</td>\n",
       "      <td>NaN</td>\n",
       "      <td>Q</td>\n",
       "    </tr>\n",
       "    <tr>\n",
       "      <th>893</th>\n",
       "      <td>3</td>\n",
       "      <td>Wilkes, Mrs. James (Ellen Needs)</td>\n",
       "      <td>female</td>\n",
       "      <td>47.0</td>\n",
       "      <td>1</td>\n",
       "      <td>0</td>\n",
       "      <td>363272</td>\n",
       "      <td>7.0000</td>\n",
       "      <td>NaN</td>\n",
       "      <td>S</td>\n",
       "    </tr>\n",
       "    <tr>\n",
       "      <th>894</th>\n",
       "      <td>2</td>\n",
       "      <td>Myles, Mr. Thomas Francis</td>\n",
       "      <td>male</td>\n",
       "      <td>62.0</td>\n",
       "      <td>0</td>\n",
       "      <td>0</td>\n",
       "      <td>240276</td>\n",
       "      <td>9.6875</td>\n",
       "      <td>NaN</td>\n",
       "      <td>Q</td>\n",
       "    </tr>\n",
       "    <tr>\n",
       "      <th>895</th>\n",
       "      <td>3</td>\n",
       "      <td>Wirz, Mr. Albert</td>\n",
       "      <td>male</td>\n",
       "      <td>27.0</td>\n",
       "      <td>0</td>\n",
       "      <td>0</td>\n",
       "      <td>315154</td>\n",
       "      <td>8.6625</td>\n",
       "      <td>NaN</td>\n",
       "      <td>S</td>\n",
       "    </tr>\n",
       "    <tr>\n",
       "      <th>896</th>\n",
       "      <td>3</td>\n",
       "      <td>Hirvonen, Mrs. Alexander (Helga E Lindqvist)</td>\n",
       "      <td>female</td>\n",
       "      <td>22.0</td>\n",
       "      <td>1</td>\n",
       "      <td>1</td>\n",
       "      <td>3101298</td>\n",
       "      <td>12.2875</td>\n",
       "      <td>NaN</td>\n",
       "      <td>S</td>\n",
       "    </tr>\n",
       "    <tr>\n",
       "      <th>...</th>\n",
       "      <td>...</td>\n",
       "      <td>...</td>\n",
       "      <td>...</td>\n",
       "      <td>...</td>\n",
       "      <td>...</td>\n",
       "      <td>...</td>\n",
       "      <td>...</td>\n",
       "      <td>...</td>\n",
       "      <td>...</td>\n",
       "      <td>...</td>\n",
       "    </tr>\n",
       "    <tr>\n",
       "      <th>1305</th>\n",
       "      <td>3</td>\n",
       "      <td>Spector, Mr. Woolf</td>\n",
       "      <td>male</td>\n",
       "      <td>NaN</td>\n",
       "      <td>0</td>\n",
       "      <td>0</td>\n",
       "      <td>A.5. 3236</td>\n",
       "      <td>8.0500</td>\n",
       "      <td>NaN</td>\n",
       "      <td>S</td>\n",
       "    </tr>\n",
       "    <tr>\n",
       "      <th>1306</th>\n",
       "      <td>1</td>\n",
       "      <td>Oliva y Ocana, Dona. Fermina</td>\n",
       "      <td>female</td>\n",
       "      <td>39.0</td>\n",
       "      <td>0</td>\n",
       "      <td>0</td>\n",
       "      <td>PC 17758</td>\n",
       "      <td>108.9000</td>\n",
       "      <td>C105</td>\n",
       "      <td>C</td>\n",
       "    </tr>\n",
       "    <tr>\n",
       "      <th>1307</th>\n",
       "      <td>3</td>\n",
       "      <td>Saether, Mr. Simon Sivertsen</td>\n",
       "      <td>male</td>\n",
       "      <td>38.5</td>\n",
       "      <td>0</td>\n",
       "      <td>0</td>\n",
       "      <td>SOTON/O.Q. 3101262</td>\n",
       "      <td>7.2500</td>\n",
       "      <td>NaN</td>\n",
       "      <td>S</td>\n",
       "    </tr>\n",
       "    <tr>\n",
       "      <th>1308</th>\n",
       "      <td>3</td>\n",
       "      <td>Ware, Mr. Frederick</td>\n",
       "      <td>male</td>\n",
       "      <td>NaN</td>\n",
       "      <td>0</td>\n",
       "      <td>0</td>\n",
       "      <td>359309</td>\n",
       "      <td>8.0500</td>\n",
       "      <td>NaN</td>\n",
       "      <td>S</td>\n",
       "    </tr>\n",
       "    <tr>\n",
       "      <th>1309</th>\n",
       "      <td>3</td>\n",
       "      <td>Peter, Master. Michael J</td>\n",
       "      <td>male</td>\n",
       "      <td>NaN</td>\n",
       "      <td>1</td>\n",
       "      <td>1</td>\n",
       "      <td>2668</td>\n",
       "      <td>22.3583</td>\n",
       "      <td>NaN</td>\n",
       "      <td>C</td>\n",
       "    </tr>\n",
       "  </tbody>\n",
       "</table>\n",
       "<p>418 rows × 10 columns</p>\n",
       "</div>"
      ],
      "text/plain": [
       "             Pclass                                          Name     Sex  \\\n",
       "PassengerId                                                                 \n",
       "892               3                              Kelly, Mr. James    male   \n",
       "893               3              Wilkes, Mrs. James (Ellen Needs)  female   \n",
       "894               2                     Myles, Mr. Thomas Francis    male   \n",
       "895               3                              Wirz, Mr. Albert    male   \n",
       "896               3  Hirvonen, Mrs. Alexander (Helga E Lindqvist)  female   \n",
       "...             ...                                           ...     ...   \n",
       "1305              3                            Spector, Mr. Woolf    male   \n",
       "1306              1                  Oliva y Ocana, Dona. Fermina  female   \n",
       "1307              3                  Saether, Mr. Simon Sivertsen    male   \n",
       "1308              3                           Ware, Mr. Frederick    male   \n",
       "1309              3                      Peter, Master. Michael J    male   \n",
       "\n",
       "              Age  SibSp  Parch              Ticket      Fare Cabin Embarked  \n",
       "PassengerId                                                                   \n",
       "892          34.5      0      0              330911    7.8292   NaN        Q  \n",
       "893          47.0      1      0              363272    7.0000   NaN        S  \n",
       "894          62.0      0      0              240276    9.6875   NaN        Q  \n",
       "895          27.0      0      0              315154    8.6625   NaN        S  \n",
       "896          22.0      1      1             3101298   12.2875   NaN        S  \n",
       "...           ...    ...    ...                 ...       ...   ...      ...  \n",
       "1305          NaN      0      0           A.5. 3236    8.0500   NaN        S  \n",
       "1306         39.0      0      0            PC 17758  108.9000  C105        C  \n",
       "1307         38.5      0      0  SOTON/O.Q. 3101262    7.2500   NaN        S  \n",
       "1308          NaN      0      0              359309    8.0500   NaN        S  \n",
       "1309          NaN      1      1                2668   22.3583   NaN        C  \n",
       "\n",
       "[418 rows x 10 columns]"
      ]
     },
     "execution_count": 3,
     "metadata": {},
     "output_type": "execute_result"
    }
   ],
   "source": [
    "df_test = pd.read_csv(\"../input/titanic/test.csv\", index_col='PassengerId')\n",
    "df_test"
   ]
  },
  {
   "cell_type": "markdown",
   "id": "5d900c07",
   "metadata": {
    "papermill": {
     "duration": 0.009437,
     "end_time": "2022-07-17T23:30:35.492756",
     "exception": false,
     "start_time": "2022-07-17T23:30:35.483319",
     "status": "completed"
    },
    "tags": []
   },
   "source": [
    "### join train and test data"
   ]
  },
  {
   "cell_type": "code",
   "execution_count": 4,
   "id": "6411404c",
   "metadata": {
    "execution": {
     "iopub.execute_input": "2022-07-17T23:30:35.514609Z",
     "iopub.status.busy": "2022-07-17T23:30:35.513929Z",
     "iopub.status.idle": "2022-07-17T23:30:35.536955Z",
     "shell.execute_reply": "2022-07-17T23:30:35.536266Z"
    },
    "papermill": {
     "duration": 0.036321,
     "end_time": "2022-07-17T23:30:35.538777",
     "exception": false,
     "start_time": "2022-07-17T23:30:35.502456",
     "status": "completed"
    },
    "tags": []
   },
   "outputs": [
    {
     "data": {
      "text/html": [
       "<div>\n",
       "<style scoped>\n",
       "    .dataframe tbody tr th:only-of-type {\n",
       "        vertical-align: middle;\n",
       "    }\n",
       "\n",
       "    .dataframe tbody tr th {\n",
       "        vertical-align: top;\n",
       "    }\n",
       "\n",
       "    .dataframe thead th {\n",
       "        text-align: right;\n",
       "    }\n",
       "</style>\n",
       "<table border=\"1\" class=\"dataframe\">\n",
       "  <thead>\n",
       "    <tr style=\"text-align: right;\">\n",
       "      <th></th>\n",
       "      <th>Survived</th>\n",
       "      <th>Pclass</th>\n",
       "      <th>Name</th>\n",
       "      <th>Sex</th>\n",
       "      <th>Age</th>\n",
       "      <th>SibSp</th>\n",
       "      <th>Parch</th>\n",
       "      <th>Ticket</th>\n",
       "      <th>Fare</th>\n",
       "      <th>Cabin</th>\n",
       "      <th>Embarked</th>\n",
       "    </tr>\n",
       "    <tr>\n",
       "      <th>PassengerId</th>\n",
       "      <th></th>\n",
       "      <th></th>\n",
       "      <th></th>\n",
       "      <th></th>\n",
       "      <th></th>\n",
       "      <th></th>\n",
       "      <th></th>\n",
       "      <th></th>\n",
       "      <th></th>\n",
       "      <th></th>\n",
       "      <th></th>\n",
       "    </tr>\n",
       "  </thead>\n",
       "  <tbody>\n",
       "    <tr>\n",
       "      <th>1</th>\n",
       "      <td>0.0</td>\n",
       "      <td>3</td>\n",
       "      <td>Braund, Mr. Owen Harris</td>\n",
       "      <td>male</td>\n",
       "      <td>22.0</td>\n",
       "      <td>1</td>\n",
       "      <td>0</td>\n",
       "      <td>A/5 21171</td>\n",
       "      <td>7.2500</td>\n",
       "      <td>NaN</td>\n",
       "      <td>S</td>\n",
       "    </tr>\n",
       "    <tr>\n",
       "      <th>2</th>\n",
       "      <td>1.0</td>\n",
       "      <td>1</td>\n",
       "      <td>Cumings, Mrs. John Bradley (Florence Briggs Th...</td>\n",
       "      <td>female</td>\n",
       "      <td>38.0</td>\n",
       "      <td>1</td>\n",
       "      <td>0</td>\n",
       "      <td>PC 17599</td>\n",
       "      <td>71.2833</td>\n",
       "      <td>C85</td>\n",
       "      <td>C</td>\n",
       "    </tr>\n",
       "    <tr>\n",
       "      <th>3</th>\n",
       "      <td>1.0</td>\n",
       "      <td>3</td>\n",
       "      <td>Heikkinen, Miss. Laina</td>\n",
       "      <td>female</td>\n",
       "      <td>26.0</td>\n",
       "      <td>0</td>\n",
       "      <td>0</td>\n",
       "      <td>STON/O2. 3101282</td>\n",
       "      <td>7.9250</td>\n",
       "      <td>NaN</td>\n",
       "      <td>S</td>\n",
       "    </tr>\n",
       "    <tr>\n",
       "      <th>4</th>\n",
       "      <td>1.0</td>\n",
       "      <td>1</td>\n",
       "      <td>Futrelle, Mrs. Jacques Heath (Lily May Peel)</td>\n",
       "      <td>female</td>\n",
       "      <td>35.0</td>\n",
       "      <td>1</td>\n",
       "      <td>0</td>\n",
       "      <td>113803</td>\n",
       "      <td>53.1000</td>\n",
       "      <td>C123</td>\n",
       "      <td>S</td>\n",
       "    </tr>\n",
       "    <tr>\n",
       "      <th>5</th>\n",
       "      <td>0.0</td>\n",
       "      <td>3</td>\n",
       "      <td>Allen, Mr. William Henry</td>\n",
       "      <td>male</td>\n",
       "      <td>35.0</td>\n",
       "      <td>0</td>\n",
       "      <td>0</td>\n",
       "      <td>373450</td>\n",
       "      <td>8.0500</td>\n",
       "      <td>NaN</td>\n",
       "      <td>S</td>\n",
       "    </tr>\n",
       "    <tr>\n",
       "      <th>...</th>\n",
       "      <td>...</td>\n",
       "      <td>...</td>\n",
       "      <td>...</td>\n",
       "      <td>...</td>\n",
       "      <td>...</td>\n",
       "      <td>...</td>\n",
       "      <td>...</td>\n",
       "      <td>...</td>\n",
       "      <td>...</td>\n",
       "      <td>...</td>\n",
       "      <td>...</td>\n",
       "    </tr>\n",
       "    <tr>\n",
       "      <th>1305</th>\n",
       "      <td>NaN</td>\n",
       "      <td>3</td>\n",
       "      <td>Spector, Mr. Woolf</td>\n",
       "      <td>male</td>\n",
       "      <td>NaN</td>\n",
       "      <td>0</td>\n",
       "      <td>0</td>\n",
       "      <td>A.5. 3236</td>\n",
       "      <td>8.0500</td>\n",
       "      <td>NaN</td>\n",
       "      <td>S</td>\n",
       "    </tr>\n",
       "    <tr>\n",
       "      <th>1306</th>\n",
       "      <td>NaN</td>\n",
       "      <td>1</td>\n",
       "      <td>Oliva y Ocana, Dona. Fermina</td>\n",
       "      <td>female</td>\n",
       "      <td>39.0</td>\n",
       "      <td>0</td>\n",
       "      <td>0</td>\n",
       "      <td>PC 17758</td>\n",
       "      <td>108.9000</td>\n",
       "      <td>C105</td>\n",
       "      <td>C</td>\n",
       "    </tr>\n",
       "    <tr>\n",
       "      <th>1307</th>\n",
       "      <td>NaN</td>\n",
       "      <td>3</td>\n",
       "      <td>Saether, Mr. Simon Sivertsen</td>\n",
       "      <td>male</td>\n",
       "      <td>38.5</td>\n",
       "      <td>0</td>\n",
       "      <td>0</td>\n",
       "      <td>SOTON/O.Q. 3101262</td>\n",
       "      <td>7.2500</td>\n",
       "      <td>NaN</td>\n",
       "      <td>S</td>\n",
       "    </tr>\n",
       "    <tr>\n",
       "      <th>1308</th>\n",
       "      <td>NaN</td>\n",
       "      <td>3</td>\n",
       "      <td>Ware, Mr. Frederick</td>\n",
       "      <td>male</td>\n",
       "      <td>NaN</td>\n",
       "      <td>0</td>\n",
       "      <td>0</td>\n",
       "      <td>359309</td>\n",
       "      <td>8.0500</td>\n",
       "      <td>NaN</td>\n",
       "      <td>S</td>\n",
       "    </tr>\n",
       "    <tr>\n",
       "      <th>1309</th>\n",
       "      <td>NaN</td>\n",
       "      <td>3</td>\n",
       "      <td>Peter, Master. Michael J</td>\n",
       "      <td>male</td>\n",
       "      <td>NaN</td>\n",
       "      <td>1</td>\n",
       "      <td>1</td>\n",
       "      <td>2668</td>\n",
       "      <td>22.3583</td>\n",
       "      <td>NaN</td>\n",
       "      <td>C</td>\n",
       "    </tr>\n",
       "  </tbody>\n",
       "</table>\n",
       "<p>1309 rows × 11 columns</p>\n",
       "</div>"
      ],
      "text/plain": [
       "             Survived  Pclass  \\\n",
       "PassengerId                     \n",
       "1                 0.0       3   \n",
       "2                 1.0       1   \n",
       "3                 1.0       3   \n",
       "4                 1.0       1   \n",
       "5                 0.0       3   \n",
       "...               ...     ...   \n",
       "1305              NaN       3   \n",
       "1306              NaN       1   \n",
       "1307              NaN       3   \n",
       "1308              NaN       3   \n",
       "1309              NaN       3   \n",
       "\n",
       "                                                          Name     Sex   Age  \\\n",
       "PassengerId                                                                    \n",
       "1                                      Braund, Mr. Owen Harris    male  22.0   \n",
       "2            Cumings, Mrs. John Bradley (Florence Briggs Th...  female  38.0   \n",
       "3                                       Heikkinen, Miss. Laina  female  26.0   \n",
       "4                 Futrelle, Mrs. Jacques Heath (Lily May Peel)  female  35.0   \n",
       "5                                     Allen, Mr. William Henry    male  35.0   \n",
       "...                                                        ...     ...   ...   \n",
       "1305                                        Spector, Mr. Woolf    male   NaN   \n",
       "1306                              Oliva y Ocana, Dona. Fermina  female  39.0   \n",
       "1307                              Saether, Mr. Simon Sivertsen    male  38.5   \n",
       "1308                                       Ware, Mr. Frederick    male   NaN   \n",
       "1309                                  Peter, Master. Michael J    male   NaN   \n",
       "\n",
       "             SibSp  Parch              Ticket      Fare Cabin Embarked  \n",
       "PassengerId                                                             \n",
       "1                1      0           A/5 21171    7.2500   NaN        S  \n",
       "2                1      0            PC 17599   71.2833   C85        C  \n",
       "3                0      0    STON/O2. 3101282    7.9250   NaN        S  \n",
       "4                1      0              113803   53.1000  C123        S  \n",
       "5                0      0              373450    8.0500   NaN        S  \n",
       "...            ...    ...                 ...       ...   ...      ...  \n",
       "1305             0      0           A.5. 3236    8.0500   NaN        S  \n",
       "1306             0      0            PC 17758  108.9000  C105        C  \n",
       "1307             0      0  SOTON/O.Q. 3101262    7.2500   NaN        S  \n",
       "1308             0      0              359309    8.0500   NaN        S  \n",
       "1309             1      1                2668   22.3583   NaN        C  \n",
       "\n",
       "[1309 rows x 11 columns]"
      ]
     },
     "execution_count": 4,
     "metadata": {},
     "output_type": "execute_result"
    }
   ],
   "source": [
    "df_full = pd.concat([df_train, df_test])\n",
    "df_full"
   ]
  },
  {
   "cell_type": "markdown",
   "id": "d88b5a2d",
   "metadata": {
    "papermill": {
     "duration": 0.009544,
     "end_time": "2022-07-17T23:30:35.558083",
     "exception": false,
     "start_time": "2022-07-17T23:30:35.548539",
     "status": "completed"
    },
    "tags": []
   },
   "source": [
    "## analyze data\n",
    "Analyze full data to select and create useful features."
   ]
  },
  {
   "cell_type": "markdown",
   "id": "8466b6a0",
   "metadata": {
    "papermill": {
     "duration": 0.009536,
     "end_time": "2022-07-17T23:30:35.577422",
     "exception": false,
     "start_time": "2022-07-17T23:30:35.567886",
     "status": "completed"
    },
    "tags": []
   },
   "source": [
    "### find all missing features"
   ]
  },
  {
   "cell_type": "code",
   "execution_count": 5,
   "id": "453b5100",
   "metadata": {
    "execution": {
     "iopub.execute_input": "2022-07-17T23:30:35.599149Z",
     "iopub.status.busy": "2022-07-17T23:30:35.598784Z",
     "iopub.status.idle": "2022-07-17T23:30:35.610987Z",
     "shell.execute_reply": "2022-07-17T23:30:35.610199Z"
    },
    "papermill": {
     "duration": 0.02586,
     "end_time": "2022-07-17T23:30:35.613195",
     "exception": false,
     "start_time": "2022-07-17T23:30:35.587335",
     "status": "completed"
    },
    "tags": []
   },
   "outputs": [
    {
     "name": "stdout",
     "output_type": "stream",
     "text": [
      "Age --- 263 / 1309\n",
      "Fare --- 1 / 1309\n",
      "Cabin --- 1014 / 1309\n",
      "Embarked --- 2 / 1309\n"
     ]
    }
   ],
   "source": [
    "missing_features = [column for column in df_full.columns if df_full[column].isnull().any()]\n",
    "missing_features.remove('Survived')\n",
    "for feature in missing_features:\n",
    "    print(feature, '---', df_full[feature].isnull().sum(), '/', df_full.shape[0])"
   ]
  },
  {
   "cell_type": "markdown",
   "id": "145e2351",
   "metadata": {
    "papermill": {
     "duration": 0.00957,
     "end_time": "2022-07-17T23:30:35.633005",
     "exception": false,
     "start_time": "2022-07-17T23:30:35.623435",
     "status": "completed"
    },
    "tags": []
   },
   "source": [
    "### calculate cardinality of categorical features"
   ]
  },
  {
   "cell_type": "code",
   "execution_count": 6,
   "id": "17bcc1a0",
   "metadata": {
    "execution": {
     "iopub.execute_input": "2022-07-17T23:30:35.654632Z",
     "iopub.status.busy": "2022-07-17T23:30:35.653912Z",
     "iopub.status.idle": "2022-07-17T23:30:35.662685Z",
     "shell.execute_reply": "2022-07-17T23:30:35.661087Z"
    },
    "papermill": {
     "duration": 0.022096,
     "end_time": "2022-07-17T23:30:35.665033",
     "exception": false,
     "start_time": "2022-07-17T23:30:35.642937",
     "status": "completed"
    },
    "tags": []
   },
   "outputs": [
    {
     "name": "stdout",
     "output_type": "stream",
     "text": [
      "Name --- 1307\n",
      "Sex --- 2\n",
      "Ticket --- 929\n",
      "Cabin --- 187\n",
      "Embarked --- 4\n"
     ]
    }
   ],
   "source": [
    "for column in df_full.columns:\n",
    "    if df_full[column].dtype == object:\n",
    "        print(column, '---', len(df_full[column].unique()))"
   ]
  },
  {
   "cell_type": "markdown",
   "id": "3989efc7",
   "metadata": {
    "papermill": {
     "duration": 0.009823,
     "end_time": "2022-07-17T23:30:35.685033",
     "exception": false,
     "start_time": "2022-07-17T23:30:35.675210",
     "status": "completed"
    },
    "tags": []
   },
   "source": [
    "## Split data\n",
    "Split data into input and label data and also split train data into train and validation data."
   ]
  },
  {
   "cell_type": "markdown",
   "id": "f5046935",
   "metadata": {
    "papermill": {
     "duration": 0.00984,
     "end_time": "2022-07-17T23:30:35.704985",
     "exception": false,
     "start_time": "2022-07-17T23:30:35.695145",
     "status": "completed"
    },
    "tags": []
   },
   "source": [
    "### Split data into input and label data"
   ]
  },
  {
   "cell_type": "code",
   "execution_count": 7,
   "id": "72fb0cab",
   "metadata": {
    "execution": {
     "iopub.execute_input": "2022-07-17T23:30:35.726589Z",
     "iopub.status.busy": "2022-07-17T23:30:35.726243Z",
     "iopub.status.idle": "2022-07-17T23:30:35.733250Z",
     "shell.execute_reply": "2022-07-17T23:30:35.732302Z"
    },
    "papermill": {
     "duration": 0.020576,
     "end_time": "2022-07-17T23:30:35.735474",
     "exception": false,
     "start_time": "2022-07-17T23:30:35.714898",
     "status": "completed"
    },
    "tags": []
   },
   "outputs": [
    {
     "name": "stdout",
     "output_type": "stream",
     "text": [
      "(891, 10)\n",
      "(418, 10)\n"
     ]
    }
   ],
   "source": [
    "x_train = df_train.drop('Survived', axis=1)\n",
    "y_train = df_train['Survived']\n",
    "x_test = df_test.copy()\n",
    "print(x_train.shape)\n",
    "print(x_test.shape)"
   ]
  },
  {
   "cell_type": "markdown",
   "id": "a6406a47",
   "metadata": {
    "papermill": {
     "duration": 0.009451,
     "end_time": "2022-07-17T23:30:35.754918",
     "exception": false,
     "start_time": "2022-07-17T23:30:35.745467",
     "status": "completed"
    },
    "tags": []
   },
   "source": [
    "## Data cleaning\n",
    "Clean data for the best performance."
   ]
  },
  {
   "cell_type": "markdown",
   "id": "e0cced71",
   "metadata": {
    "papermill": {
     "duration": 0.009609,
     "end_time": "2022-07-17T23:30:35.774445",
     "exception": false,
     "start_time": "2022-07-17T23:30:35.764836",
     "status": "completed"
    },
    "tags": []
   },
   "source": [
    "### Drop missing features"
   ]
  },
  {
   "cell_type": "code",
   "execution_count": 8,
   "id": "f407f7f9",
   "metadata": {
    "execution": {
     "iopub.execute_input": "2022-07-17T23:30:35.796300Z",
     "iopub.status.busy": "2022-07-17T23:30:35.795622Z",
     "iopub.status.idle": "2022-07-17T23:30:35.803724Z",
     "shell.execute_reply": "2022-07-17T23:30:35.802572Z"
    },
    "papermill": {
     "duration": 0.021439,
     "end_time": "2022-07-17T23:30:35.805701",
     "exception": false,
     "start_time": "2022-07-17T23:30:35.784262",
     "status": "completed"
    },
    "tags": []
   },
   "outputs": [
    {
     "name": "stdout",
     "output_type": "stream",
     "text": [
      "Index(['Pclass', 'Name', 'Sex', 'SibSp', 'Parch', 'Ticket', 'Fare',\n",
      "       'Embarked'],\n",
      "      dtype='object')\n",
      "Index(['Pclass', 'Name', 'Sex', 'SibSp', 'Parch', 'Ticket', 'Fare',\n",
      "       'Embarked'],\n",
      "      dtype='object')\n"
     ]
    }
   ],
   "source": [
    "missing_features = ['Age', 'Cabin']\n",
    "x_train = x_train.drop(missing_features, axis=1)\n",
    "x_test = x_test.drop(missing_features, axis=1)\n",
    "print(x_train.columns)\n",
    "print(x_test.columns)"
   ]
  },
  {
   "cell_type": "markdown",
   "id": "f22e2194",
   "metadata": {
    "papermill": {
     "duration": 0.009956,
     "end_time": "2022-07-17T23:30:35.825634",
     "exception": false,
     "start_time": "2022-07-17T23:30:35.815678",
     "status": "completed"
    },
    "tags": []
   },
   "source": [
    "### Drop high-cardinality categorical features"
   ]
  },
  {
   "cell_type": "code",
   "execution_count": 9,
   "id": "4a3713cc",
   "metadata": {
    "execution": {
     "iopub.execute_input": "2022-07-17T23:30:35.847932Z",
     "iopub.status.busy": "2022-07-17T23:30:35.847298Z",
     "iopub.status.idle": "2022-07-17T23:30:35.856949Z",
     "shell.execute_reply": "2022-07-17T23:30:35.855990Z"
    },
    "papermill": {
     "duration": 0.023398,
     "end_time": "2022-07-17T23:30:35.859138",
     "exception": false,
     "start_time": "2022-07-17T23:30:35.835740",
     "status": "completed"
    },
    "tags": []
   },
   "outputs": [
    {
     "name": "stdout",
     "output_type": "stream",
     "text": [
      "Index(['Pclass', 'Sex', 'SibSp', 'Parch', 'Fare', 'Embarked'], dtype='object')\n",
      "Index(['Pclass', 'Sex', 'SibSp', 'Parch', 'Fare', 'Embarked'], dtype='object')\n"
     ]
    }
   ],
   "source": [
    "high_cardinality_features = [column for column in x_train.columns if x_train[column].dtype == object and len(x_train[column].unique()) > 10]\n",
    "x_train = x_train.drop(high_cardinality_features, axis=1)\n",
    "x_test = x_test.drop(high_cardinality_features, axis=1)\n",
    "print(x_train.columns)\n",
    "print(x_test.columns)"
   ]
  },
  {
   "cell_type": "markdown",
   "id": "da4c53a3",
   "metadata": {
    "papermill": {
     "duration": 0.010652,
     "end_time": "2022-07-17T23:30:35.880538",
     "exception": false,
     "start_time": "2022-07-17T23:30:35.869886",
     "status": "completed"
    },
    "tags": []
   },
   "source": [
    "### Fill missing values (numerical)"
   ]
  },
  {
   "cell_type": "code",
   "execution_count": 10,
   "id": "f432cf95",
   "metadata": {
    "execution": {
     "iopub.execute_input": "2022-07-17T23:30:35.902440Z",
     "iopub.status.busy": "2022-07-17T23:30:35.901772Z",
     "iopub.status.idle": "2022-07-17T23:30:35.917488Z",
     "shell.execute_reply": "2022-07-17T23:30:35.916126Z"
    },
    "papermill": {
     "duration": 0.029647,
     "end_time": "2022-07-17T23:30:35.920184",
     "exception": false,
     "start_time": "2022-07-17T23:30:35.890537",
     "status": "completed"
    },
    "tags": []
   },
   "outputs": [
    {
     "name": "stdout",
     "output_type": "stream",
     "text": [
      "['Pclass', 'SibSp', 'Parch', 'Fare']\n"
     ]
    }
   ],
   "source": [
    "# find all numerical features\n",
    "numerical_features = [column for column in x_train.columns if x_train[column].dtype != object]\n",
    "print(numerical_features)\n",
    "\n",
    "# fill missing values\n",
    "imputer = SimpleImputer()\n",
    "x_train[numerical_features] = imputer.fit_transform(x_train[numerical_features])\n",
    "x_test[numerical_features] = imputer.transform(x_test[numerical_features])"
   ]
  },
  {
   "cell_type": "markdown",
   "id": "20f5cce5",
   "metadata": {
    "papermill": {
     "duration": 0.010182,
     "end_time": "2022-07-17T23:30:35.941030",
     "exception": false,
     "start_time": "2022-07-17T23:30:35.930848",
     "status": "completed"
    },
    "tags": []
   },
   "source": [
    "### Fill missing values (categorical)"
   ]
  },
  {
   "cell_type": "code",
   "execution_count": 11,
   "id": "548aff33",
   "metadata": {
    "execution": {
     "iopub.execute_input": "2022-07-17T23:30:35.963119Z",
     "iopub.status.busy": "2022-07-17T23:30:35.962257Z",
     "iopub.status.idle": "2022-07-17T23:30:35.976250Z",
     "shell.execute_reply": "2022-07-17T23:30:35.974944Z"
    },
    "papermill": {
     "duration": 0.028176,
     "end_time": "2022-07-17T23:30:35.978951",
     "exception": false,
     "start_time": "2022-07-17T23:30:35.950775",
     "status": "completed"
    },
    "tags": []
   },
   "outputs": [
    {
     "name": "stdout",
     "output_type": "stream",
     "text": [
      "['Sex', 'Embarked']\n"
     ]
    }
   ],
   "source": [
    "# find all numerical features\n",
    "categorical_features = [column for column in x_train.columns if x_train[column].dtype == object]\n",
    "print(categorical_features)\n",
    "\n",
    "# fill missing values\n",
    "imputer = SimpleImputer(strategy=\"most_frequent\")\n",
    "x_train[categorical_features] = imputer.fit_transform(x_train[categorical_features])\n",
    "x_test[categorical_features] = imputer.transform(x_test[categorical_features])"
   ]
  },
  {
   "cell_type": "markdown",
   "id": "e0493019",
   "metadata": {
    "papermill": {
     "duration": 0.009864,
     "end_time": "2022-07-17T23:30:35.999329",
     "exception": false,
     "start_time": "2022-07-17T23:30:35.989465",
     "status": "completed"
    },
    "tags": []
   },
   "source": [
    "### Define one-hot encoder for categorical features"
   ]
  },
  {
   "cell_type": "code",
   "execution_count": 12,
   "id": "c27a2f95",
   "metadata": {
    "execution": {
     "iopub.execute_input": "2022-07-17T23:30:36.028275Z",
     "iopub.status.busy": "2022-07-17T23:30:36.027084Z",
     "iopub.status.idle": "2022-07-17T23:30:36.039074Z",
     "shell.execute_reply": "2022-07-17T23:30:36.037905Z"
    },
    "papermill": {
     "duration": 0.028445,
     "end_time": "2022-07-17T23:30:36.041345",
     "exception": false,
     "start_time": "2022-07-17T23:30:36.012900",
     "status": "completed"
    },
    "tags": []
   },
   "outputs": [
    {
     "name": "stdout",
     "output_type": "stream",
     "text": [
      "['Sex', 'Embarked']\n",
      "['Sex_female' 'Sex_male' 'Embarked_C' 'Embarked_Q' 'Embarked_S']\n",
      "[array(['female', 'male'], dtype=object), array(['C', 'Q', 'S'], dtype=object)]\n"
     ]
    }
   ],
   "source": [
    "# find all categorical features\n",
    "categorical_features = [column for column in x_train.columns if x_train[column].dtype == object]\n",
    "print(categorical_features)\n",
    "\n",
    "# encode object columns\n",
    "encoder = OneHotEncoder()\n",
    "encoder.fit(x_train[categorical_features])\n",
    "new_feature_names = encoder.get_feature_names_out(categorical_features)\n",
    "print(new_feature_names)\n",
    "print(encoder.categories_)"
   ]
  },
  {
   "cell_type": "markdown",
   "id": "2564aa45",
   "metadata": {
    "papermill": {
     "duration": 0.010668,
     "end_time": "2022-07-17T23:30:36.065068",
     "exception": false,
     "start_time": "2022-07-17T23:30:36.054400",
     "status": "completed"
    },
    "tags": []
   },
   "source": [
    "### Encode categorical features"
   ]
  },
  {
   "cell_type": "code",
   "execution_count": 13,
   "id": "f050e03a",
   "metadata": {
    "execution": {
     "iopub.execute_input": "2022-07-17T23:30:36.088651Z",
     "iopub.status.busy": "2022-07-17T23:30:36.087770Z",
     "iopub.status.idle": "2022-07-17T23:30:36.107967Z",
     "shell.execute_reply": "2022-07-17T23:30:36.107206Z"
    },
    "papermill": {
     "duration": 0.035425,
     "end_time": "2022-07-17T23:30:36.110574",
     "exception": false,
     "start_time": "2022-07-17T23:30:36.075149",
     "status": "completed"
    },
    "tags": []
   },
   "outputs": [
    {
     "data": {
      "text/html": [
       "<div>\n",
       "<style scoped>\n",
       "    .dataframe tbody tr th:only-of-type {\n",
       "        vertical-align: middle;\n",
       "    }\n",
       "\n",
       "    .dataframe tbody tr th {\n",
       "        vertical-align: top;\n",
       "    }\n",
       "\n",
       "    .dataframe thead th {\n",
       "        text-align: right;\n",
       "    }\n",
       "</style>\n",
       "<table border=\"1\" class=\"dataframe\">\n",
       "  <thead>\n",
       "    <tr style=\"text-align: right;\">\n",
       "      <th></th>\n",
       "      <th>Sex_female</th>\n",
       "      <th>Sex_male</th>\n",
       "      <th>Embarked_C</th>\n",
       "      <th>Embarked_Q</th>\n",
       "      <th>Embarked_S</th>\n",
       "    </tr>\n",
       "    <tr>\n",
       "      <th>PassengerId</th>\n",
       "      <th></th>\n",
       "      <th></th>\n",
       "      <th></th>\n",
       "      <th></th>\n",
       "      <th></th>\n",
       "    </tr>\n",
       "  </thead>\n",
       "  <tbody>\n",
       "    <tr>\n",
       "      <th>1</th>\n",
       "      <td>0.0</td>\n",
       "      <td>1.0</td>\n",
       "      <td>0.0</td>\n",
       "      <td>0.0</td>\n",
       "      <td>1.0</td>\n",
       "    </tr>\n",
       "    <tr>\n",
       "      <th>2</th>\n",
       "      <td>1.0</td>\n",
       "      <td>0.0</td>\n",
       "      <td>1.0</td>\n",
       "      <td>0.0</td>\n",
       "      <td>0.0</td>\n",
       "    </tr>\n",
       "    <tr>\n",
       "      <th>3</th>\n",
       "      <td>1.0</td>\n",
       "      <td>0.0</td>\n",
       "      <td>0.0</td>\n",
       "      <td>0.0</td>\n",
       "      <td>1.0</td>\n",
       "    </tr>\n",
       "    <tr>\n",
       "      <th>4</th>\n",
       "      <td>1.0</td>\n",
       "      <td>0.0</td>\n",
       "      <td>0.0</td>\n",
       "      <td>0.0</td>\n",
       "      <td>1.0</td>\n",
       "    </tr>\n",
       "    <tr>\n",
       "      <th>5</th>\n",
       "      <td>0.0</td>\n",
       "      <td>1.0</td>\n",
       "      <td>0.0</td>\n",
       "      <td>0.0</td>\n",
       "      <td>1.0</td>\n",
       "    </tr>\n",
       "  </tbody>\n",
       "</table>\n",
       "</div>"
      ],
      "text/plain": [
       "             Sex_female  Sex_male  Embarked_C  Embarked_Q  Embarked_S\n",
       "PassengerId                                                          \n",
       "1                   0.0       1.0         0.0         0.0         1.0\n",
       "2                   1.0       0.0         1.0         0.0         0.0\n",
       "3                   1.0       0.0         0.0         0.0         1.0\n",
       "4                   1.0       0.0         0.0         0.0         1.0\n",
       "5                   0.0       1.0         0.0         0.0         1.0"
      ]
     },
     "execution_count": 13,
     "metadata": {},
     "output_type": "execute_result"
    }
   ],
   "source": [
    "x_train_encoded = pd.DataFrame(encoder.transform(x_train[categorical_features]).toarray(), columns=new_feature_names, index=x_train.index)\n",
    "x_test_encoded = pd.DataFrame(encoder.transform(x_test[categorical_features]).toarray(), columns=new_feature_names, index=x_test.index)\n",
    "x_train_encoded.head()"
   ]
  },
  {
   "cell_type": "markdown",
   "id": "a3dca67e",
   "metadata": {
    "papermill": {
     "duration": 0.010376,
     "end_time": "2022-07-17T23:30:36.141812",
     "exception": false,
     "start_time": "2022-07-17T23:30:36.131436",
     "status": "completed"
    },
    "tags": []
   },
   "source": [
    "### Replace categorical features with encoded values"
   ]
  },
  {
   "cell_type": "code",
   "execution_count": 14,
   "id": "936e41c2",
   "metadata": {
    "execution": {
     "iopub.execute_input": "2022-07-17T23:30:36.165599Z",
     "iopub.status.busy": "2022-07-17T23:30:36.164771Z",
     "iopub.status.idle": "2022-07-17T23:30:36.190540Z",
     "shell.execute_reply": "2022-07-17T23:30:36.189395Z"
    },
    "papermill": {
     "duration": 0.040007,
     "end_time": "2022-07-17T23:30:36.192808",
     "exception": false,
     "start_time": "2022-07-17T23:30:36.152801",
     "status": "completed"
    },
    "tags": []
   },
   "outputs": [
    {
     "data": {
      "text/html": [
       "<div>\n",
       "<style scoped>\n",
       "    .dataframe tbody tr th:only-of-type {\n",
       "        vertical-align: middle;\n",
       "    }\n",
       "\n",
       "    .dataframe tbody tr th {\n",
       "        vertical-align: top;\n",
       "    }\n",
       "\n",
       "    .dataframe thead th {\n",
       "        text-align: right;\n",
       "    }\n",
       "</style>\n",
       "<table border=\"1\" class=\"dataframe\">\n",
       "  <thead>\n",
       "    <tr style=\"text-align: right;\">\n",
       "      <th></th>\n",
       "      <th>Pclass</th>\n",
       "      <th>SibSp</th>\n",
       "      <th>Parch</th>\n",
       "      <th>Fare</th>\n",
       "      <th>Sex_female</th>\n",
       "      <th>Sex_male</th>\n",
       "      <th>Embarked_C</th>\n",
       "      <th>Embarked_Q</th>\n",
       "      <th>Embarked_S</th>\n",
       "    </tr>\n",
       "    <tr>\n",
       "      <th>PassengerId</th>\n",
       "      <th></th>\n",
       "      <th></th>\n",
       "      <th></th>\n",
       "      <th></th>\n",
       "      <th></th>\n",
       "      <th></th>\n",
       "      <th></th>\n",
       "      <th></th>\n",
       "      <th></th>\n",
       "    </tr>\n",
       "  </thead>\n",
       "  <tbody>\n",
       "    <tr>\n",
       "      <th>1</th>\n",
       "      <td>3.0</td>\n",
       "      <td>1.0</td>\n",
       "      <td>0.0</td>\n",
       "      <td>7.2500</td>\n",
       "      <td>0.0</td>\n",
       "      <td>1.0</td>\n",
       "      <td>0.0</td>\n",
       "      <td>0.0</td>\n",
       "      <td>1.0</td>\n",
       "    </tr>\n",
       "    <tr>\n",
       "      <th>2</th>\n",
       "      <td>1.0</td>\n",
       "      <td>1.0</td>\n",
       "      <td>0.0</td>\n",
       "      <td>71.2833</td>\n",
       "      <td>1.0</td>\n",
       "      <td>0.0</td>\n",
       "      <td>1.0</td>\n",
       "      <td>0.0</td>\n",
       "      <td>0.0</td>\n",
       "    </tr>\n",
       "    <tr>\n",
       "      <th>3</th>\n",
       "      <td>3.0</td>\n",
       "      <td>0.0</td>\n",
       "      <td>0.0</td>\n",
       "      <td>7.9250</td>\n",
       "      <td>1.0</td>\n",
       "      <td>0.0</td>\n",
       "      <td>0.0</td>\n",
       "      <td>0.0</td>\n",
       "      <td>1.0</td>\n",
       "    </tr>\n",
       "    <tr>\n",
       "      <th>4</th>\n",
       "      <td>1.0</td>\n",
       "      <td>1.0</td>\n",
       "      <td>0.0</td>\n",
       "      <td>53.1000</td>\n",
       "      <td>1.0</td>\n",
       "      <td>0.0</td>\n",
       "      <td>0.0</td>\n",
       "      <td>0.0</td>\n",
       "      <td>1.0</td>\n",
       "    </tr>\n",
       "    <tr>\n",
       "      <th>5</th>\n",
       "      <td>3.0</td>\n",
       "      <td>0.0</td>\n",
       "      <td>0.0</td>\n",
       "      <td>8.0500</td>\n",
       "      <td>0.0</td>\n",
       "      <td>1.0</td>\n",
       "      <td>0.0</td>\n",
       "      <td>0.0</td>\n",
       "      <td>1.0</td>\n",
       "    </tr>\n",
       "  </tbody>\n",
       "</table>\n",
       "</div>"
      ],
      "text/plain": [
       "             Pclass  SibSp  Parch     Fare  Sex_female  Sex_male  Embarked_C  \\\n",
       "PassengerId                                                                    \n",
       "1               3.0    1.0    0.0   7.2500         0.0       1.0         0.0   \n",
       "2               1.0    1.0    0.0  71.2833         1.0       0.0         1.0   \n",
       "3               3.0    0.0    0.0   7.9250         1.0       0.0         0.0   \n",
       "4               1.0    1.0    0.0  53.1000         1.0       0.0         0.0   \n",
       "5               3.0    0.0    0.0   8.0500         0.0       1.0         0.0   \n",
       "\n",
       "             Embarked_Q  Embarked_S  \n",
       "PassengerId                          \n",
       "1                   0.0         1.0  \n",
       "2                   0.0         0.0  \n",
       "3                   0.0         1.0  \n",
       "4                   0.0         1.0  \n",
       "5                   0.0         1.0  "
      ]
     },
     "execution_count": 14,
     "metadata": {},
     "output_type": "execute_result"
    }
   ],
   "source": [
    "x_train = x_train.drop(categorical_features, axis=1)\n",
    "x_test = x_test.drop(categorical_features, axis=1)\n",
    "\n",
    "x_train = x_train.join(x_train_encoded)\n",
    "x_test = x_test.join(x_test_encoded)\n",
    "\n",
    "x_train.head()"
   ]
  },
  {
   "cell_type": "markdown",
   "id": "7acded5f",
   "metadata": {
    "papermill": {
     "duration": 0.011025,
     "end_time": "2022-07-17T23:30:36.215285",
     "exception": false,
     "start_time": "2022-07-17T23:30:36.204260",
     "status": "completed"
    },
    "tags": []
   },
   "source": [
    "## Train and test model\n",
    "Create a machine learning model and train and test data."
   ]
  },
  {
   "cell_type": "markdown",
   "id": "1e969b31",
   "metadata": {
    "papermill": {
     "duration": 0.01567,
     "end_time": "2022-07-17T23:30:36.242069",
     "exception": false,
     "start_time": "2022-07-17T23:30:36.226399",
     "status": "completed"
    },
    "tags": []
   },
   "source": [
    "### Create a model"
   ]
  },
  {
   "cell_type": "code",
   "execution_count": 15,
   "id": "a10a3c2e",
   "metadata": {
    "execution": {
     "iopub.execute_input": "2022-07-17T23:30:36.267555Z",
     "iopub.status.busy": "2022-07-17T23:30:36.266698Z",
     "iopub.status.idle": "2022-07-17T23:30:36.272221Z",
     "shell.execute_reply": "2022-07-17T23:30:36.271202Z"
    },
    "papermill": {
     "duration": 0.01991,
     "end_time": "2022-07-17T23:30:36.274243",
     "exception": false,
     "start_time": "2022-07-17T23:30:36.254333",
     "status": "completed"
    },
    "tags": []
   },
   "outputs": [],
   "source": [
    "model = RandomForestClassifier(random_state=0, n_estimators=150)"
   ]
  },
  {
   "cell_type": "markdown",
   "id": "72e176bc",
   "metadata": {
    "papermill": {
     "duration": 0.01074,
     "end_time": "2022-07-17T23:30:36.296348",
     "exception": false,
     "start_time": "2022-07-17T23:30:36.285608",
     "status": "completed"
    },
    "tags": []
   },
   "source": [
    "### train model"
   ]
  },
  {
   "cell_type": "code",
   "execution_count": 16,
   "id": "b2930bfa",
   "metadata": {
    "execution": {
     "iopub.execute_input": "2022-07-17T23:30:36.322969Z",
     "iopub.status.busy": "2022-07-17T23:30:36.322195Z",
     "iopub.status.idle": "2022-07-17T23:30:36.658890Z",
     "shell.execute_reply": "2022-07-17T23:30:36.657779Z"
    },
    "papermill": {
     "duration": 0.354081,
     "end_time": "2022-07-17T23:30:36.661657",
     "exception": false,
     "start_time": "2022-07-17T23:30:36.307576",
     "status": "completed"
    },
    "tags": []
   },
   "outputs": [
    {
     "data": {
      "text/plain": [
       "RandomForestClassifier(n_estimators=150, random_state=0)"
      ]
     },
     "execution_count": 16,
     "metadata": {},
     "output_type": "execute_result"
    }
   ],
   "source": [
    "model.fit(x_train, y_train)"
   ]
  },
  {
   "cell_type": "markdown",
   "id": "b94002ff",
   "metadata": {
    "papermill": {
     "duration": 0.011161,
     "end_time": "2022-07-17T23:30:36.688643",
     "exception": false,
     "start_time": "2022-07-17T23:30:36.677482",
     "status": "completed"
    },
    "tags": []
   },
   "source": [
    "### evaluate model"
   ]
  },
  {
   "cell_type": "code",
   "execution_count": 17,
   "id": "d1a0c220",
   "metadata": {
    "execution": {
     "iopub.execute_input": "2022-07-17T23:30:36.714534Z",
     "iopub.status.busy": "2022-07-17T23:30:36.713716Z",
     "iopub.status.idle": "2022-07-17T23:30:38.304023Z",
     "shell.execute_reply": "2022-07-17T23:30:38.302755Z"
    },
    "papermill": {
     "duration": 1.607027,
     "end_time": "2022-07-17T23:30:38.307287",
     "exception": false,
     "start_time": "2022-07-17T23:30:36.700260",
     "status": "completed"
    },
    "tags": []
   },
   "outputs": [
    {
     "name": "stdout",
     "output_type": "stream",
     "text": [
      "0.7969116816270165\n"
     ]
    }
   ],
   "source": [
    "score = cross_val_score(model, x_train, y_train, cv=5)\n",
    "print(score.mean())"
   ]
  },
  {
   "cell_type": "markdown",
   "id": "8de5452f",
   "metadata": {
    "papermill": {
     "duration": 0.010915,
     "end_time": "2022-07-17T23:30:38.330147",
     "exception": false,
     "start_time": "2022-07-17T23:30:38.319232",
     "status": "completed"
    },
    "tags": []
   },
   "source": [
    "## Submit result"
   ]
  },
  {
   "cell_type": "code",
   "execution_count": 18,
   "id": "888e2690",
   "metadata": {
    "execution": {
     "iopub.execute_input": "2022-07-17T23:30:38.354740Z",
     "iopub.status.busy": "2022-07-17T23:30:38.354059Z",
     "iopub.status.idle": "2022-07-17T23:30:38.395175Z",
     "shell.execute_reply": "2022-07-17T23:30:38.394193Z"
    },
    "papermill": {
     "duration": 0.055879,
     "end_time": "2022-07-17T23:30:38.397531",
     "exception": false,
     "start_time": "2022-07-17T23:30:38.341652",
     "status": "completed"
    },
    "tags": []
   },
   "outputs": [],
   "source": [
    "y_test = model.predict(x_test)\n",
    "result_data = pd.DataFrame({'PassengerId': x_test.index, 'Survived':y_test})\n",
    "result_data.to_csv(\"submission.csv\", index=False)"
   ]
  }
 ],
 "metadata": {
  "kernelspec": {
   "display_name": "Python 3",
   "language": "python",
   "name": "python3"
  },
  "language_info": {
   "codemirror_mode": {
    "name": "ipython",
    "version": 3
   },
   "file_extension": ".py",
   "mimetype": "text/x-python",
   "name": "python",
   "nbconvert_exporter": "python",
   "pygments_lexer": "ipython3",
   "version": "3.7.12"
  },
  "papermill": {
   "default_parameters": {},
   "duration": 14.82572,
   "end_time": "2022-07-17T23:30:39.129204",
   "environment_variables": {},
   "exception": null,
   "input_path": "__notebook__.ipynb",
   "output_path": "__notebook__.ipynb",
   "parameters": {},
   "start_time": "2022-07-17T23:30:24.303484",
   "version": "2.3.4"
  }
 },
 "nbformat": 4,
 "nbformat_minor": 5
}
