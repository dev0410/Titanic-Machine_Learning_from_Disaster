{
 "cells": [
  {
   "cell_type": "markdown",
   "id": "d348fa9c",
   "metadata": {
    "papermill": {
     "duration": 0.010406,
     "end_time": "2022-07-17T22:41:28.069374",
     "exception": false,
     "start_time": "2022-07-17T22:41:28.058968",
     "status": "completed"
    },
    "tags": []
   },
   "source": [
    "# Titanic - Machine Learning from Disaster"
   ]
  },
  {
   "cell_type": "code",
   "execution_count": 1,
   "id": "a4a7cc3a",
   "metadata": {
    "execution": {
     "iopub.execute_input": "2022-07-17T22:41:28.090243Z",
     "iopub.status.busy": "2022-07-17T22:41:28.089522Z",
     "iopub.status.idle": "2022-07-17T22:41:29.516188Z",
     "shell.execute_reply": "2022-07-17T22:41:29.514938Z"
    },
    "papermill": {
     "duration": 1.440317,
     "end_time": "2022-07-17T22:41:29.519068",
     "exception": false,
     "start_time": "2022-07-17T22:41:28.078751",
     "status": "completed"
    },
    "tags": []
   },
   "outputs": [],
   "source": [
    "import pandas as pd\n",
    "from sklearn.preprocessing import OneHotEncoder\n",
    "from sklearn.model_selection import train_test_split\n",
    "from sklearn.ensemble import RandomForestClassifier\n",
    "from sklearn.metrics import accuracy_score\n",
    "from sklearn.impute import SimpleImputer"
   ]
  },
  {
   "cell_type": "markdown",
   "id": "835dd5f2",
   "metadata": {
    "papermill": {
     "duration": 0.009249,
     "end_time": "2022-07-17T22:41:29.537812",
     "exception": false,
     "start_time": "2022-07-17T22:41:29.528563",
     "status": "completed"
    },
    "tags": []
   },
   "source": [
    "## Load datasets\n",
    "Load all datasets for compeition from files.<br>\n",
    "\"train.csv\" is the train data and \"test.csv\" is test data."
   ]
  },
  {
   "cell_type": "markdown",
   "id": "817d71f5",
   "metadata": {
    "papermill": {
     "duration": 0.009012,
     "end_time": "2022-07-17T22:41:29.556261",
     "exception": false,
     "start_time": "2022-07-17T22:41:29.547249",
     "status": "completed"
    },
    "tags": []
   },
   "source": [
    "### load train data"
   ]
  },
  {
   "cell_type": "code",
   "execution_count": 2,
   "id": "c4ae951f",
   "metadata": {
    "execution": {
     "iopub.execute_input": "2022-07-17T22:41:29.576714Z",
     "iopub.status.busy": "2022-07-17T22:41:29.576335Z",
     "iopub.status.idle": "2022-07-17T22:41:29.636038Z",
     "shell.execute_reply": "2022-07-17T22:41:29.634965Z"
    },
    "papermill": {
     "duration": 0.073107,
     "end_time": "2022-07-17T22:41:29.638710",
     "exception": false,
     "start_time": "2022-07-17T22:41:29.565603",
     "status": "completed"
    },
    "tags": []
   },
   "outputs": [
    {
     "data": {
      "text/html": [
       "<div>\n",
       "<style scoped>\n",
       "    .dataframe tbody tr th:only-of-type {\n",
       "        vertical-align: middle;\n",
       "    }\n",
       "\n",
       "    .dataframe tbody tr th {\n",
       "        vertical-align: top;\n",
       "    }\n",
       "\n",
       "    .dataframe thead th {\n",
       "        text-align: right;\n",
       "    }\n",
       "</style>\n",
       "<table border=\"1\" class=\"dataframe\">\n",
       "  <thead>\n",
       "    <tr style=\"text-align: right;\">\n",
       "      <th></th>\n",
       "      <th>Survived</th>\n",
       "      <th>Pclass</th>\n",
       "      <th>Name</th>\n",
       "      <th>Sex</th>\n",
       "      <th>Age</th>\n",
       "      <th>SibSp</th>\n",
       "      <th>Parch</th>\n",
       "      <th>Ticket</th>\n",
       "      <th>Fare</th>\n",
       "      <th>Cabin</th>\n",
       "      <th>Embarked</th>\n",
       "    </tr>\n",
       "    <tr>\n",
       "      <th>PassengerId</th>\n",
       "      <th></th>\n",
       "      <th></th>\n",
       "      <th></th>\n",
       "      <th></th>\n",
       "      <th></th>\n",
       "      <th></th>\n",
       "      <th></th>\n",
       "      <th></th>\n",
       "      <th></th>\n",
       "      <th></th>\n",
       "      <th></th>\n",
       "    </tr>\n",
       "  </thead>\n",
       "  <tbody>\n",
       "    <tr>\n",
       "      <th>1</th>\n",
       "      <td>0</td>\n",
       "      <td>3</td>\n",
       "      <td>Braund, Mr. Owen Harris</td>\n",
       "      <td>male</td>\n",
       "      <td>22.0</td>\n",
       "      <td>1</td>\n",
       "      <td>0</td>\n",
       "      <td>A/5 21171</td>\n",
       "      <td>7.2500</td>\n",
       "      <td>NaN</td>\n",
       "      <td>S</td>\n",
       "    </tr>\n",
       "    <tr>\n",
       "      <th>2</th>\n",
       "      <td>1</td>\n",
       "      <td>1</td>\n",
       "      <td>Cumings, Mrs. John Bradley (Florence Briggs Th...</td>\n",
       "      <td>female</td>\n",
       "      <td>38.0</td>\n",
       "      <td>1</td>\n",
       "      <td>0</td>\n",
       "      <td>PC 17599</td>\n",
       "      <td>71.2833</td>\n",
       "      <td>C85</td>\n",
       "      <td>C</td>\n",
       "    </tr>\n",
       "    <tr>\n",
       "      <th>3</th>\n",
       "      <td>1</td>\n",
       "      <td>3</td>\n",
       "      <td>Heikkinen, Miss. Laina</td>\n",
       "      <td>female</td>\n",
       "      <td>26.0</td>\n",
       "      <td>0</td>\n",
       "      <td>0</td>\n",
       "      <td>STON/O2. 3101282</td>\n",
       "      <td>7.9250</td>\n",
       "      <td>NaN</td>\n",
       "      <td>S</td>\n",
       "    </tr>\n",
       "    <tr>\n",
       "      <th>4</th>\n",
       "      <td>1</td>\n",
       "      <td>1</td>\n",
       "      <td>Futrelle, Mrs. Jacques Heath (Lily May Peel)</td>\n",
       "      <td>female</td>\n",
       "      <td>35.0</td>\n",
       "      <td>1</td>\n",
       "      <td>0</td>\n",
       "      <td>113803</td>\n",
       "      <td>53.1000</td>\n",
       "      <td>C123</td>\n",
       "      <td>S</td>\n",
       "    </tr>\n",
       "    <tr>\n",
       "      <th>5</th>\n",
       "      <td>0</td>\n",
       "      <td>3</td>\n",
       "      <td>Allen, Mr. William Henry</td>\n",
       "      <td>male</td>\n",
       "      <td>35.0</td>\n",
       "      <td>0</td>\n",
       "      <td>0</td>\n",
       "      <td>373450</td>\n",
       "      <td>8.0500</td>\n",
       "      <td>NaN</td>\n",
       "      <td>S</td>\n",
       "    </tr>\n",
       "    <tr>\n",
       "      <th>...</th>\n",
       "      <td>...</td>\n",
       "      <td>...</td>\n",
       "      <td>...</td>\n",
       "      <td>...</td>\n",
       "      <td>...</td>\n",
       "      <td>...</td>\n",
       "      <td>...</td>\n",
       "      <td>...</td>\n",
       "      <td>...</td>\n",
       "      <td>...</td>\n",
       "      <td>...</td>\n",
       "    </tr>\n",
       "    <tr>\n",
       "      <th>887</th>\n",
       "      <td>0</td>\n",
       "      <td>2</td>\n",
       "      <td>Montvila, Rev. Juozas</td>\n",
       "      <td>male</td>\n",
       "      <td>27.0</td>\n",
       "      <td>0</td>\n",
       "      <td>0</td>\n",
       "      <td>211536</td>\n",
       "      <td>13.0000</td>\n",
       "      <td>NaN</td>\n",
       "      <td>S</td>\n",
       "    </tr>\n",
       "    <tr>\n",
       "      <th>888</th>\n",
       "      <td>1</td>\n",
       "      <td>1</td>\n",
       "      <td>Graham, Miss. Margaret Edith</td>\n",
       "      <td>female</td>\n",
       "      <td>19.0</td>\n",
       "      <td>0</td>\n",
       "      <td>0</td>\n",
       "      <td>112053</td>\n",
       "      <td>30.0000</td>\n",
       "      <td>B42</td>\n",
       "      <td>S</td>\n",
       "    </tr>\n",
       "    <tr>\n",
       "      <th>889</th>\n",
       "      <td>0</td>\n",
       "      <td>3</td>\n",
       "      <td>Johnston, Miss. Catherine Helen \"Carrie\"</td>\n",
       "      <td>female</td>\n",
       "      <td>NaN</td>\n",
       "      <td>1</td>\n",
       "      <td>2</td>\n",
       "      <td>W./C. 6607</td>\n",
       "      <td>23.4500</td>\n",
       "      <td>NaN</td>\n",
       "      <td>S</td>\n",
       "    </tr>\n",
       "    <tr>\n",
       "      <th>890</th>\n",
       "      <td>1</td>\n",
       "      <td>1</td>\n",
       "      <td>Behr, Mr. Karl Howell</td>\n",
       "      <td>male</td>\n",
       "      <td>26.0</td>\n",
       "      <td>0</td>\n",
       "      <td>0</td>\n",
       "      <td>111369</td>\n",
       "      <td>30.0000</td>\n",
       "      <td>C148</td>\n",
       "      <td>C</td>\n",
       "    </tr>\n",
       "    <tr>\n",
       "      <th>891</th>\n",
       "      <td>0</td>\n",
       "      <td>3</td>\n",
       "      <td>Dooley, Mr. Patrick</td>\n",
       "      <td>male</td>\n",
       "      <td>32.0</td>\n",
       "      <td>0</td>\n",
       "      <td>0</td>\n",
       "      <td>370376</td>\n",
       "      <td>7.7500</td>\n",
       "      <td>NaN</td>\n",
       "      <td>Q</td>\n",
       "    </tr>\n",
       "  </tbody>\n",
       "</table>\n",
       "<p>891 rows × 11 columns</p>\n",
       "</div>"
      ],
      "text/plain": [
       "             Survived  Pclass  \\\n",
       "PassengerId                     \n",
       "1                   0       3   \n",
       "2                   1       1   \n",
       "3                   1       3   \n",
       "4                   1       1   \n",
       "5                   0       3   \n",
       "...               ...     ...   \n",
       "887                 0       2   \n",
       "888                 1       1   \n",
       "889                 0       3   \n",
       "890                 1       1   \n",
       "891                 0       3   \n",
       "\n",
       "                                                          Name     Sex   Age  \\\n",
       "PassengerId                                                                    \n",
       "1                                      Braund, Mr. Owen Harris    male  22.0   \n",
       "2            Cumings, Mrs. John Bradley (Florence Briggs Th...  female  38.0   \n",
       "3                                       Heikkinen, Miss. Laina  female  26.0   \n",
       "4                 Futrelle, Mrs. Jacques Heath (Lily May Peel)  female  35.0   \n",
       "5                                     Allen, Mr. William Henry    male  35.0   \n",
       "...                                                        ...     ...   ...   \n",
       "887                                      Montvila, Rev. Juozas    male  27.0   \n",
       "888                               Graham, Miss. Margaret Edith  female  19.0   \n",
       "889                   Johnston, Miss. Catherine Helen \"Carrie\"  female   NaN   \n",
       "890                                      Behr, Mr. Karl Howell    male  26.0   \n",
       "891                                        Dooley, Mr. Patrick    male  32.0   \n",
       "\n",
       "             SibSp  Parch            Ticket     Fare Cabin Embarked  \n",
       "PassengerId                                                          \n",
       "1                1      0         A/5 21171   7.2500   NaN        S  \n",
       "2                1      0          PC 17599  71.2833   C85        C  \n",
       "3                0      0  STON/O2. 3101282   7.9250   NaN        S  \n",
       "4                1      0            113803  53.1000  C123        S  \n",
       "5                0      0            373450   8.0500   NaN        S  \n",
       "...            ...    ...               ...      ...   ...      ...  \n",
       "887              0      0            211536  13.0000   NaN        S  \n",
       "888              0      0            112053  30.0000   B42        S  \n",
       "889              1      2        W./C. 6607  23.4500   NaN        S  \n",
       "890              0      0            111369  30.0000  C148        C  \n",
       "891              0      0            370376   7.7500   NaN        Q  \n",
       "\n",
       "[891 rows x 11 columns]"
      ]
     },
     "execution_count": 2,
     "metadata": {},
     "output_type": "execute_result"
    }
   ],
   "source": [
    "df_train = pd.read_csv(\"../input/titanic/train.csv\", index_col='PassengerId')\n",
    "df_train"
   ]
  },
  {
   "cell_type": "markdown",
   "id": "49546c06",
   "metadata": {
    "papermill": {
     "duration": 0.009341,
     "end_time": "2022-07-17T22:41:29.657942",
     "exception": false,
     "start_time": "2022-07-17T22:41:29.648601",
     "status": "completed"
    },
    "tags": []
   },
   "source": [
    "### load test data"
   ]
  },
  {
   "cell_type": "code",
   "execution_count": 3,
   "id": "f641d349",
   "metadata": {
    "execution": {
     "iopub.execute_input": "2022-07-17T22:41:29.680442Z",
     "iopub.status.busy": "2022-07-17T22:41:29.679748Z",
     "iopub.status.idle": "2022-07-17T22:41:29.710300Z",
     "shell.execute_reply": "2022-07-17T22:41:29.709039Z"
    },
    "papermill": {
     "duration": 0.045025,
     "end_time": "2022-07-17T22:41:29.712701",
     "exception": false,
     "start_time": "2022-07-17T22:41:29.667676",
     "status": "completed"
    },
    "tags": []
   },
   "outputs": [
    {
     "data": {
      "text/html": [
       "<div>\n",
       "<style scoped>\n",
       "    .dataframe tbody tr th:only-of-type {\n",
       "        vertical-align: middle;\n",
       "    }\n",
       "\n",
       "    .dataframe tbody tr th {\n",
       "        vertical-align: top;\n",
       "    }\n",
       "\n",
       "    .dataframe thead th {\n",
       "        text-align: right;\n",
       "    }\n",
       "</style>\n",
       "<table border=\"1\" class=\"dataframe\">\n",
       "  <thead>\n",
       "    <tr style=\"text-align: right;\">\n",
       "      <th></th>\n",
       "      <th>Pclass</th>\n",
       "      <th>Name</th>\n",
       "      <th>Sex</th>\n",
       "      <th>Age</th>\n",
       "      <th>SibSp</th>\n",
       "      <th>Parch</th>\n",
       "      <th>Ticket</th>\n",
       "      <th>Fare</th>\n",
       "      <th>Cabin</th>\n",
       "      <th>Embarked</th>\n",
       "    </tr>\n",
       "    <tr>\n",
       "      <th>PassengerId</th>\n",
       "      <th></th>\n",
       "      <th></th>\n",
       "      <th></th>\n",
       "      <th></th>\n",
       "      <th></th>\n",
       "      <th></th>\n",
       "      <th></th>\n",
       "      <th></th>\n",
       "      <th></th>\n",
       "      <th></th>\n",
       "    </tr>\n",
       "  </thead>\n",
       "  <tbody>\n",
       "    <tr>\n",
       "      <th>892</th>\n",
       "      <td>3</td>\n",
       "      <td>Kelly, Mr. James</td>\n",
       "      <td>male</td>\n",
       "      <td>34.5</td>\n",
       "      <td>0</td>\n",
       "      <td>0</td>\n",
       "      <td>330911</td>\n",
       "      <td>7.8292</td>\n",
       "      <td>NaN</td>\n",
       "      <td>Q</td>\n",
       "    </tr>\n",
       "    <tr>\n",
       "      <th>893</th>\n",
       "      <td>3</td>\n",
       "      <td>Wilkes, Mrs. James (Ellen Needs)</td>\n",
       "      <td>female</td>\n",
       "      <td>47.0</td>\n",
       "      <td>1</td>\n",
       "      <td>0</td>\n",
       "      <td>363272</td>\n",
       "      <td>7.0000</td>\n",
       "      <td>NaN</td>\n",
       "      <td>S</td>\n",
       "    </tr>\n",
       "    <tr>\n",
       "      <th>894</th>\n",
       "      <td>2</td>\n",
       "      <td>Myles, Mr. Thomas Francis</td>\n",
       "      <td>male</td>\n",
       "      <td>62.0</td>\n",
       "      <td>0</td>\n",
       "      <td>0</td>\n",
       "      <td>240276</td>\n",
       "      <td>9.6875</td>\n",
       "      <td>NaN</td>\n",
       "      <td>Q</td>\n",
       "    </tr>\n",
       "    <tr>\n",
       "      <th>895</th>\n",
       "      <td>3</td>\n",
       "      <td>Wirz, Mr. Albert</td>\n",
       "      <td>male</td>\n",
       "      <td>27.0</td>\n",
       "      <td>0</td>\n",
       "      <td>0</td>\n",
       "      <td>315154</td>\n",
       "      <td>8.6625</td>\n",
       "      <td>NaN</td>\n",
       "      <td>S</td>\n",
       "    </tr>\n",
       "    <tr>\n",
       "      <th>896</th>\n",
       "      <td>3</td>\n",
       "      <td>Hirvonen, Mrs. Alexander (Helga E Lindqvist)</td>\n",
       "      <td>female</td>\n",
       "      <td>22.0</td>\n",
       "      <td>1</td>\n",
       "      <td>1</td>\n",
       "      <td>3101298</td>\n",
       "      <td>12.2875</td>\n",
       "      <td>NaN</td>\n",
       "      <td>S</td>\n",
       "    </tr>\n",
       "    <tr>\n",
       "      <th>...</th>\n",
       "      <td>...</td>\n",
       "      <td>...</td>\n",
       "      <td>...</td>\n",
       "      <td>...</td>\n",
       "      <td>...</td>\n",
       "      <td>...</td>\n",
       "      <td>...</td>\n",
       "      <td>...</td>\n",
       "      <td>...</td>\n",
       "      <td>...</td>\n",
       "    </tr>\n",
       "    <tr>\n",
       "      <th>1305</th>\n",
       "      <td>3</td>\n",
       "      <td>Spector, Mr. Woolf</td>\n",
       "      <td>male</td>\n",
       "      <td>NaN</td>\n",
       "      <td>0</td>\n",
       "      <td>0</td>\n",
       "      <td>A.5. 3236</td>\n",
       "      <td>8.0500</td>\n",
       "      <td>NaN</td>\n",
       "      <td>S</td>\n",
       "    </tr>\n",
       "    <tr>\n",
       "      <th>1306</th>\n",
       "      <td>1</td>\n",
       "      <td>Oliva y Ocana, Dona. Fermina</td>\n",
       "      <td>female</td>\n",
       "      <td>39.0</td>\n",
       "      <td>0</td>\n",
       "      <td>0</td>\n",
       "      <td>PC 17758</td>\n",
       "      <td>108.9000</td>\n",
       "      <td>C105</td>\n",
       "      <td>C</td>\n",
       "    </tr>\n",
       "    <tr>\n",
       "      <th>1307</th>\n",
       "      <td>3</td>\n",
       "      <td>Saether, Mr. Simon Sivertsen</td>\n",
       "      <td>male</td>\n",
       "      <td>38.5</td>\n",
       "      <td>0</td>\n",
       "      <td>0</td>\n",
       "      <td>SOTON/O.Q. 3101262</td>\n",
       "      <td>7.2500</td>\n",
       "      <td>NaN</td>\n",
       "      <td>S</td>\n",
       "    </tr>\n",
       "    <tr>\n",
       "      <th>1308</th>\n",
       "      <td>3</td>\n",
       "      <td>Ware, Mr. Frederick</td>\n",
       "      <td>male</td>\n",
       "      <td>NaN</td>\n",
       "      <td>0</td>\n",
       "      <td>0</td>\n",
       "      <td>359309</td>\n",
       "      <td>8.0500</td>\n",
       "      <td>NaN</td>\n",
       "      <td>S</td>\n",
       "    </tr>\n",
       "    <tr>\n",
       "      <th>1309</th>\n",
       "      <td>3</td>\n",
       "      <td>Peter, Master. Michael J</td>\n",
       "      <td>male</td>\n",
       "      <td>NaN</td>\n",
       "      <td>1</td>\n",
       "      <td>1</td>\n",
       "      <td>2668</td>\n",
       "      <td>22.3583</td>\n",
       "      <td>NaN</td>\n",
       "      <td>C</td>\n",
       "    </tr>\n",
       "  </tbody>\n",
       "</table>\n",
       "<p>418 rows × 10 columns</p>\n",
       "</div>"
      ],
      "text/plain": [
       "             Pclass                                          Name     Sex  \\\n",
       "PassengerId                                                                 \n",
       "892               3                              Kelly, Mr. James    male   \n",
       "893               3              Wilkes, Mrs. James (Ellen Needs)  female   \n",
       "894               2                     Myles, Mr. Thomas Francis    male   \n",
       "895               3                              Wirz, Mr. Albert    male   \n",
       "896               3  Hirvonen, Mrs. Alexander (Helga E Lindqvist)  female   \n",
       "...             ...                                           ...     ...   \n",
       "1305              3                            Spector, Mr. Woolf    male   \n",
       "1306              1                  Oliva y Ocana, Dona. Fermina  female   \n",
       "1307              3                  Saether, Mr. Simon Sivertsen    male   \n",
       "1308              3                           Ware, Mr. Frederick    male   \n",
       "1309              3                      Peter, Master. Michael J    male   \n",
       "\n",
       "              Age  SibSp  Parch              Ticket      Fare Cabin Embarked  \n",
       "PassengerId                                                                   \n",
       "892          34.5      0      0              330911    7.8292   NaN        Q  \n",
       "893          47.0      1      0              363272    7.0000   NaN        S  \n",
       "894          62.0      0      0              240276    9.6875   NaN        Q  \n",
       "895          27.0      0      0              315154    8.6625   NaN        S  \n",
       "896          22.0      1      1             3101298   12.2875   NaN        S  \n",
       "...           ...    ...    ...                 ...       ...   ...      ...  \n",
       "1305          NaN      0      0           A.5. 3236    8.0500   NaN        S  \n",
       "1306         39.0      0      0            PC 17758  108.9000  C105        C  \n",
       "1307         38.5      0      0  SOTON/O.Q. 3101262    7.2500   NaN        S  \n",
       "1308          NaN      0      0              359309    8.0500   NaN        S  \n",
       "1309          NaN      1      1                2668   22.3583   NaN        C  \n",
       "\n",
       "[418 rows x 10 columns]"
      ]
     },
     "execution_count": 3,
     "metadata": {},
     "output_type": "execute_result"
    }
   ],
   "source": [
    "df_test = pd.read_csv(\"../input/titanic/test.csv\", index_col='PassengerId')\n",
    "df_test"
   ]
  },
  {
   "cell_type": "markdown",
   "id": "196c5a3b",
   "metadata": {
    "papermill": {
     "duration": 0.009704,
     "end_time": "2022-07-17T22:41:29.732584",
     "exception": false,
     "start_time": "2022-07-17T22:41:29.722880",
     "status": "completed"
    },
    "tags": []
   },
   "source": [
    "### join train and test data"
   ]
  },
  {
   "cell_type": "code",
   "execution_count": 4,
   "id": "6ccd76b3",
   "metadata": {
    "execution": {
     "iopub.execute_input": "2022-07-17T22:41:29.755048Z",
     "iopub.status.busy": "2022-07-17T22:41:29.754662Z",
     "iopub.status.idle": "2022-07-17T22:41:29.783586Z",
     "shell.execute_reply": "2022-07-17T22:41:29.782710Z"
    },
    "papermill": {
     "duration": 0.043218,
     "end_time": "2022-07-17T22:41:29.785812",
     "exception": false,
     "start_time": "2022-07-17T22:41:29.742594",
     "status": "completed"
    },
    "tags": []
   },
   "outputs": [
    {
     "data": {
      "text/html": [
       "<div>\n",
       "<style scoped>\n",
       "    .dataframe tbody tr th:only-of-type {\n",
       "        vertical-align: middle;\n",
       "    }\n",
       "\n",
       "    .dataframe tbody tr th {\n",
       "        vertical-align: top;\n",
       "    }\n",
       "\n",
       "    .dataframe thead th {\n",
       "        text-align: right;\n",
       "    }\n",
       "</style>\n",
       "<table border=\"1\" class=\"dataframe\">\n",
       "  <thead>\n",
       "    <tr style=\"text-align: right;\">\n",
       "      <th></th>\n",
       "      <th>Survived</th>\n",
       "      <th>Pclass</th>\n",
       "      <th>Name</th>\n",
       "      <th>Sex</th>\n",
       "      <th>Age</th>\n",
       "      <th>SibSp</th>\n",
       "      <th>Parch</th>\n",
       "      <th>Ticket</th>\n",
       "      <th>Fare</th>\n",
       "      <th>Cabin</th>\n",
       "      <th>Embarked</th>\n",
       "    </tr>\n",
       "    <tr>\n",
       "      <th>PassengerId</th>\n",
       "      <th></th>\n",
       "      <th></th>\n",
       "      <th></th>\n",
       "      <th></th>\n",
       "      <th></th>\n",
       "      <th></th>\n",
       "      <th></th>\n",
       "      <th></th>\n",
       "      <th></th>\n",
       "      <th></th>\n",
       "      <th></th>\n",
       "    </tr>\n",
       "  </thead>\n",
       "  <tbody>\n",
       "    <tr>\n",
       "      <th>1</th>\n",
       "      <td>0.0</td>\n",
       "      <td>3</td>\n",
       "      <td>Braund, Mr. Owen Harris</td>\n",
       "      <td>male</td>\n",
       "      <td>22.0</td>\n",
       "      <td>1</td>\n",
       "      <td>0</td>\n",
       "      <td>A/5 21171</td>\n",
       "      <td>7.2500</td>\n",
       "      <td>NaN</td>\n",
       "      <td>S</td>\n",
       "    </tr>\n",
       "    <tr>\n",
       "      <th>2</th>\n",
       "      <td>1.0</td>\n",
       "      <td>1</td>\n",
       "      <td>Cumings, Mrs. John Bradley (Florence Briggs Th...</td>\n",
       "      <td>female</td>\n",
       "      <td>38.0</td>\n",
       "      <td>1</td>\n",
       "      <td>0</td>\n",
       "      <td>PC 17599</td>\n",
       "      <td>71.2833</td>\n",
       "      <td>C85</td>\n",
       "      <td>C</td>\n",
       "    </tr>\n",
       "    <tr>\n",
       "      <th>3</th>\n",
       "      <td>1.0</td>\n",
       "      <td>3</td>\n",
       "      <td>Heikkinen, Miss. Laina</td>\n",
       "      <td>female</td>\n",
       "      <td>26.0</td>\n",
       "      <td>0</td>\n",
       "      <td>0</td>\n",
       "      <td>STON/O2. 3101282</td>\n",
       "      <td>7.9250</td>\n",
       "      <td>NaN</td>\n",
       "      <td>S</td>\n",
       "    </tr>\n",
       "    <tr>\n",
       "      <th>4</th>\n",
       "      <td>1.0</td>\n",
       "      <td>1</td>\n",
       "      <td>Futrelle, Mrs. Jacques Heath (Lily May Peel)</td>\n",
       "      <td>female</td>\n",
       "      <td>35.0</td>\n",
       "      <td>1</td>\n",
       "      <td>0</td>\n",
       "      <td>113803</td>\n",
       "      <td>53.1000</td>\n",
       "      <td>C123</td>\n",
       "      <td>S</td>\n",
       "    </tr>\n",
       "    <tr>\n",
       "      <th>5</th>\n",
       "      <td>0.0</td>\n",
       "      <td>3</td>\n",
       "      <td>Allen, Mr. William Henry</td>\n",
       "      <td>male</td>\n",
       "      <td>35.0</td>\n",
       "      <td>0</td>\n",
       "      <td>0</td>\n",
       "      <td>373450</td>\n",
       "      <td>8.0500</td>\n",
       "      <td>NaN</td>\n",
       "      <td>S</td>\n",
       "    </tr>\n",
       "    <tr>\n",
       "      <th>...</th>\n",
       "      <td>...</td>\n",
       "      <td>...</td>\n",
       "      <td>...</td>\n",
       "      <td>...</td>\n",
       "      <td>...</td>\n",
       "      <td>...</td>\n",
       "      <td>...</td>\n",
       "      <td>...</td>\n",
       "      <td>...</td>\n",
       "      <td>...</td>\n",
       "      <td>...</td>\n",
       "    </tr>\n",
       "    <tr>\n",
       "      <th>1305</th>\n",
       "      <td>NaN</td>\n",
       "      <td>3</td>\n",
       "      <td>Spector, Mr. Woolf</td>\n",
       "      <td>male</td>\n",
       "      <td>NaN</td>\n",
       "      <td>0</td>\n",
       "      <td>0</td>\n",
       "      <td>A.5. 3236</td>\n",
       "      <td>8.0500</td>\n",
       "      <td>NaN</td>\n",
       "      <td>S</td>\n",
       "    </tr>\n",
       "    <tr>\n",
       "      <th>1306</th>\n",
       "      <td>NaN</td>\n",
       "      <td>1</td>\n",
       "      <td>Oliva y Ocana, Dona. Fermina</td>\n",
       "      <td>female</td>\n",
       "      <td>39.0</td>\n",
       "      <td>0</td>\n",
       "      <td>0</td>\n",
       "      <td>PC 17758</td>\n",
       "      <td>108.9000</td>\n",
       "      <td>C105</td>\n",
       "      <td>C</td>\n",
       "    </tr>\n",
       "    <tr>\n",
       "      <th>1307</th>\n",
       "      <td>NaN</td>\n",
       "      <td>3</td>\n",
       "      <td>Saether, Mr. Simon Sivertsen</td>\n",
       "      <td>male</td>\n",
       "      <td>38.5</td>\n",
       "      <td>0</td>\n",
       "      <td>0</td>\n",
       "      <td>SOTON/O.Q. 3101262</td>\n",
       "      <td>7.2500</td>\n",
       "      <td>NaN</td>\n",
       "      <td>S</td>\n",
       "    </tr>\n",
       "    <tr>\n",
       "      <th>1308</th>\n",
       "      <td>NaN</td>\n",
       "      <td>3</td>\n",
       "      <td>Ware, Mr. Frederick</td>\n",
       "      <td>male</td>\n",
       "      <td>NaN</td>\n",
       "      <td>0</td>\n",
       "      <td>0</td>\n",
       "      <td>359309</td>\n",
       "      <td>8.0500</td>\n",
       "      <td>NaN</td>\n",
       "      <td>S</td>\n",
       "    </tr>\n",
       "    <tr>\n",
       "      <th>1309</th>\n",
       "      <td>NaN</td>\n",
       "      <td>3</td>\n",
       "      <td>Peter, Master. Michael J</td>\n",
       "      <td>male</td>\n",
       "      <td>NaN</td>\n",
       "      <td>1</td>\n",
       "      <td>1</td>\n",
       "      <td>2668</td>\n",
       "      <td>22.3583</td>\n",
       "      <td>NaN</td>\n",
       "      <td>C</td>\n",
       "    </tr>\n",
       "  </tbody>\n",
       "</table>\n",
       "<p>1309 rows × 11 columns</p>\n",
       "</div>"
      ],
      "text/plain": [
       "             Survived  Pclass  \\\n",
       "PassengerId                     \n",
       "1                 0.0       3   \n",
       "2                 1.0       1   \n",
       "3                 1.0       3   \n",
       "4                 1.0       1   \n",
       "5                 0.0       3   \n",
       "...               ...     ...   \n",
       "1305              NaN       3   \n",
       "1306              NaN       1   \n",
       "1307              NaN       3   \n",
       "1308              NaN       3   \n",
       "1309              NaN       3   \n",
       "\n",
       "                                                          Name     Sex   Age  \\\n",
       "PassengerId                                                                    \n",
       "1                                      Braund, Mr. Owen Harris    male  22.0   \n",
       "2            Cumings, Mrs. John Bradley (Florence Briggs Th...  female  38.0   \n",
       "3                                       Heikkinen, Miss. Laina  female  26.0   \n",
       "4                 Futrelle, Mrs. Jacques Heath (Lily May Peel)  female  35.0   \n",
       "5                                     Allen, Mr. William Henry    male  35.0   \n",
       "...                                                        ...     ...   ...   \n",
       "1305                                        Spector, Mr. Woolf    male   NaN   \n",
       "1306                              Oliva y Ocana, Dona. Fermina  female  39.0   \n",
       "1307                              Saether, Mr. Simon Sivertsen    male  38.5   \n",
       "1308                                       Ware, Mr. Frederick    male   NaN   \n",
       "1309                                  Peter, Master. Michael J    male   NaN   \n",
       "\n",
       "             SibSp  Parch              Ticket      Fare Cabin Embarked  \n",
       "PassengerId                                                             \n",
       "1                1      0           A/5 21171    7.2500   NaN        S  \n",
       "2                1      0            PC 17599   71.2833   C85        C  \n",
       "3                0      0    STON/O2. 3101282    7.9250   NaN        S  \n",
       "4                1      0              113803   53.1000  C123        S  \n",
       "5                0      0              373450    8.0500   NaN        S  \n",
       "...            ...    ...                 ...       ...   ...      ...  \n",
       "1305             0      0           A.5. 3236    8.0500   NaN        S  \n",
       "1306             0      0            PC 17758  108.9000  C105        C  \n",
       "1307             0      0  SOTON/O.Q. 3101262    7.2500   NaN        S  \n",
       "1308             0      0              359309    8.0500   NaN        S  \n",
       "1309             1      1                2668   22.3583   NaN        C  \n",
       "\n",
       "[1309 rows x 11 columns]"
      ]
     },
     "execution_count": 4,
     "metadata": {},
     "output_type": "execute_result"
    }
   ],
   "source": [
    "df_full = pd.concat([df_train, df_test])\n",
    "df_full"
   ]
  },
  {
   "cell_type": "markdown",
   "id": "d2266da4",
   "metadata": {
    "papermill": {
     "duration": 0.010444,
     "end_time": "2022-07-17T22:41:29.806840",
     "exception": false,
     "start_time": "2022-07-17T22:41:29.796396",
     "status": "completed"
    },
    "tags": []
   },
   "source": [
    "## analyze data\n",
    "Analyze full data to select and create useful features."
   ]
  },
  {
   "cell_type": "markdown",
   "id": "1bb71cb8",
   "metadata": {
    "papermill": {
     "duration": 0.010547,
     "end_time": "2022-07-17T22:41:29.828113",
     "exception": false,
     "start_time": "2022-07-17T22:41:29.817566",
     "status": "completed"
    },
    "tags": []
   },
   "source": [
    "### find all missing features"
   ]
  },
  {
   "cell_type": "code",
   "execution_count": 5,
   "id": "c346ca2f",
   "metadata": {
    "execution": {
     "iopub.execute_input": "2022-07-17T22:41:29.851425Z",
     "iopub.status.busy": "2022-07-17T22:41:29.851016Z",
     "iopub.status.idle": "2022-07-17T22:41:29.864626Z",
     "shell.execute_reply": "2022-07-17T22:41:29.863427Z"
    },
    "papermill": {
     "duration": 0.02842,
     "end_time": "2022-07-17T22:41:29.867174",
     "exception": false,
     "start_time": "2022-07-17T22:41:29.838754",
     "status": "completed"
    },
    "tags": []
   },
   "outputs": [
    {
     "name": "stdout",
     "output_type": "stream",
     "text": [
      "Age --- 263 / 1309\n",
      "Fare --- 1 / 1309\n",
      "Cabin --- 1014 / 1309\n",
      "Embarked --- 2 / 1309\n"
     ]
    }
   ],
   "source": [
    "missing_features = [column for column in df_full.columns if df_full[column].isnull().any()]\n",
    "missing_features.remove('Survived')\n",
    "for feature in missing_features:\n",
    "    print(feature, '---', df_full[feature].isnull().sum(), '/', df_full.shape[0])"
   ]
  },
  {
   "cell_type": "markdown",
   "id": "7b74924e",
   "metadata": {
    "papermill": {
     "duration": 0.010383,
     "end_time": "2022-07-17T22:41:29.888034",
     "exception": false,
     "start_time": "2022-07-17T22:41:29.877651",
     "status": "completed"
    },
    "tags": []
   },
   "source": [
    "### calculate cardinality of categorical features"
   ]
  },
  {
   "cell_type": "code",
   "execution_count": 6,
   "id": "4a744afd",
   "metadata": {
    "execution": {
     "iopub.execute_input": "2022-07-17T22:41:29.911161Z",
     "iopub.status.busy": "2022-07-17T22:41:29.910727Z",
     "iopub.status.idle": "2022-07-17T22:41:29.920155Z",
     "shell.execute_reply": "2022-07-17T22:41:29.918255Z"
    },
    "papermill": {
     "duration": 0.024352,
     "end_time": "2022-07-17T22:41:29.922923",
     "exception": false,
     "start_time": "2022-07-17T22:41:29.898571",
     "status": "completed"
    },
    "tags": []
   },
   "outputs": [
    {
     "name": "stdout",
     "output_type": "stream",
     "text": [
      "Name --- 1307\n",
      "Sex --- 2\n",
      "Ticket --- 929\n",
      "Cabin --- 187\n",
      "Embarked --- 4\n"
     ]
    }
   ],
   "source": [
    "for column in df_full.columns:\n",
    "    if df_full[column].dtype == object:\n",
    "        print(column, '---', len(df_full[column].unique()))"
   ]
  },
  {
   "cell_type": "markdown",
   "id": "4b3c25ab",
   "metadata": {
    "papermill": {
     "duration": 0.010485,
     "end_time": "2022-07-17T22:41:29.944193",
     "exception": false,
     "start_time": "2022-07-17T22:41:29.933708",
     "status": "completed"
    },
    "tags": []
   },
   "source": [
    "## Split data\n",
    "Split data into input and label data and also split train data into train and validation data."
   ]
  },
  {
   "cell_type": "markdown",
   "id": "b3d08105",
   "metadata": {
    "papermill": {
     "duration": 0.011326,
     "end_time": "2022-07-17T22:41:29.966076",
     "exception": false,
     "start_time": "2022-07-17T22:41:29.954750",
     "status": "completed"
    },
    "tags": []
   },
   "source": [
    "### Split data into input and label data"
   ]
  },
  {
   "cell_type": "code",
   "execution_count": 7,
   "id": "c31bd107",
   "metadata": {
    "execution": {
     "iopub.execute_input": "2022-07-17T22:41:29.989842Z",
     "iopub.status.busy": "2022-07-17T22:41:29.989064Z",
     "iopub.status.idle": "2022-07-17T22:41:29.998726Z",
     "shell.execute_reply": "2022-07-17T22:41:29.997201Z"
    },
    "papermill": {
     "duration": 0.024272,
     "end_time": "2022-07-17T22:41:30.001193",
     "exception": false,
     "start_time": "2022-07-17T22:41:29.976921",
     "status": "completed"
    },
    "tags": []
   },
   "outputs": [
    {
     "name": "stdout",
     "output_type": "stream",
     "text": [
      "(891, 10)\n",
      "(418, 10)\n"
     ]
    }
   ],
   "source": [
    "input_data = df_train.drop('Survived', axis=1)\n",
    "label_data = df_train['Survived']\n",
    "x_test = df_test.copy()\n",
    "print(input_data.shape)\n",
    "print(x_test.shape)"
   ]
  },
  {
   "cell_type": "markdown",
   "id": "16acf9b4",
   "metadata": {
    "papermill": {
     "duration": 0.010574,
     "end_time": "2022-07-17T22:41:30.022644",
     "exception": false,
     "start_time": "2022-07-17T22:41:30.012070",
     "status": "completed"
    },
    "tags": []
   },
   "source": [
    "### Split train data into train and validation data"
   ]
  },
  {
   "cell_type": "code",
   "execution_count": 8,
   "id": "2b12b86a",
   "metadata": {
    "execution": {
     "iopub.execute_input": "2022-07-17T22:41:30.046614Z",
     "iopub.status.busy": "2022-07-17T22:41:30.045884Z",
     "iopub.status.idle": "2022-07-17T22:41:30.066100Z",
     "shell.execute_reply": "2022-07-17T22:41:30.064852Z"
    },
    "papermill": {
     "duration": 0.035059,
     "end_time": "2022-07-17T22:41:30.068839",
     "exception": false,
     "start_time": "2022-07-17T22:41:30.033780",
     "status": "completed"
    },
    "tags": []
   },
   "outputs": [
    {
     "data": {
      "text/html": [
       "<div>\n",
       "<style scoped>\n",
       "    .dataframe tbody tr th:only-of-type {\n",
       "        vertical-align: middle;\n",
       "    }\n",
       "\n",
       "    .dataframe tbody tr th {\n",
       "        vertical-align: top;\n",
       "    }\n",
       "\n",
       "    .dataframe thead th {\n",
       "        text-align: right;\n",
       "    }\n",
       "</style>\n",
       "<table border=\"1\" class=\"dataframe\">\n",
       "  <thead>\n",
       "    <tr style=\"text-align: right;\">\n",
       "      <th></th>\n",
       "      <th>Pclass</th>\n",
       "      <th>Name</th>\n",
       "      <th>Sex</th>\n",
       "      <th>Age</th>\n",
       "      <th>SibSp</th>\n",
       "      <th>Parch</th>\n",
       "      <th>Ticket</th>\n",
       "      <th>Fare</th>\n",
       "      <th>Cabin</th>\n",
       "      <th>Embarked</th>\n",
       "    </tr>\n",
       "    <tr>\n",
       "      <th>PassengerId</th>\n",
       "      <th></th>\n",
       "      <th></th>\n",
       "      <th></th>\n",
       "      <th></th>\n",
       "      <th></th>\n",
       "      <th></th>\n",
       "      <th></th>\n",
       "      <th></th>\n",
       "      <th></th>\n",
       "      <th></th>\n",
       "    </tr>\n",
       "  </thead>\n",
       "  <tbody>\n",
       "    <tr>\n",
       "      <th>141</th>\n",
       "      <td>3</td>\n",
       "      <td>Boulos, Mrs. Joseph (Sultana)</td>\n",
       "      <td>female</td>\n",
       "      <td>NaN</td>\n",
       "      <td>0</td>\n",
       "      <td>2</td>\n",
       "      <td>2678</td>\n",
       "      <td>15.2458</td>\n",
       "      <td>NaN</td>\n",
       "      <td>C</td>\n",
       "    </tr>\n",
       "    <tr>\n",
       "      <th>440</th>\n",
       "      <td>2</td>\n",
       "      <td>Kvillner, Mr. Johan Henrik Johannesson</td>\n",
       "      <td>male</td>\n",
       "      <td>31.0</td>\n",
       "      <td>0</td>\n",
       "      <td>0</td>\n",
       "      <td>C.A. 18723</td>\n",
       "      <td>10.5000</td>\n",
       "      <td>NaN</td>\n",
       "      <td>S</td>\n",
       "    </tr>\n",
       "    <tr>\n",
       "      <th>818</th>\n",
       "      <td>2</td>\n",
       "      <td>Mallet, Mr. Albert</td>\n",
       "      <td>male</td>\n",
       "      <td>31.0</td>\n",
       "      <td>1</td>\n",
       "      <td>1</td>\n",
       "      <td>S.C./PARIS 2079</td>\n",
       "      <td>37.0042</td>\n",
       "      <td>NaN</td>\n",
       "      <td>C</td>\n",
       "    </tr>\n",
       "    <tr>\n",
       "      <th>379</th>\n",
       "      <td>3</td>\n",
       "      <td>Betros, Mr. Tannous</td>\n",
       "      <td>male</td>\n",
       "      <td>20.0</td>\n",
       "      <td>0</td>\n",
       "      <td>0</td>\n",
       "      <td>2648</td>\n",
       "      <td>4.0125</td>\n",
       "      <td>NaN</td>\n",
       "      <td>C</td>\n",
       "    </tr>\n",
       "    <tr>\n",
       "      <th>492</th>\n",
       "      <td>3</td>\n",
       "      <td>Windelov, Mr. Einar</td>\n",
       "      <td>male</td>\n",
       "      <td>21.0</td>\n",
       "      <td>0</td>\n",
       "      <td>0</td>\n",
       "      <td>SOTON/OQ 3101317</td>\n",
       "      <td>7.2500</td>\n",
       "      <td>NaN</td>\n",
       "      <td>S</td>\n",
       "    </tr>\n",
       "  </tbody>\n",
       "</table>\n",
       "</div>"
      ],
      "text/plain": [
       "             Pclass                                    Name     Sex   Age  \\\n",
       "PassengerId                                                                 \n",
       "141               3           Boulos, Mrs. Joseph (Sultana)  female   NaN   \n",
       "440               2  Kvillner, Mr. Johan Henrik Johannesson    male  31.0   \n",
       "818               2                      Mallet, Mr. Albert    male  31.0   \n",
       "379               3                     Betros, Mr. Tannous    male  20.0   \n",
       "492               3                     Windelov, Mr. Einar    male  21.0   \n",
       "\n",
       "             SibSp  Parch            Ticket     Fare Cabin Embarked  \n",
       "PassengerId                                                          \n",
       "141              0      2              2678  15.2458   NaN        C  \n",
       "440              0      0        C.A. 18723  10.5000   NaN        S  \n",
       "818              1      1   S.C./PARIS 2079  37.0042   NaN        C  \n",
       "379              0      0              2648   4.0125   NaN        C  \n",
       "492              0      0  SOTON/OQ 3101317   7.2500   NaN        S  "
      ]
     },
     "execution_count": 8,
     "metadata": {},
     "output_type": "execute_result"
    }
   ],
   "source": [
    "x_train, x_valid, y_train, y_valid = train_test_split(input_data, label_data, test_size=0.2, random_state=0)\n",
    "x_train.head()"
   ]
  },
  {
   "cell_type": "markdown",
   "id": "f3598a15",
   "metadata": {
    "papermill": {
     "duration": 0.011412,
     "end_time": "2022-07-17T22:41:30.091471",
     "exception": false,
     "start_time": "2022-07-17T22:41:30.080059",
     "status": "completed"
    },
    "tags": []
   },
   "source": [
    "## Data cleaning\n",
    "Clean data for the best performance."
   ]
  },
  {
   "cell_type": "markdown",
   "id": "2ee2f9b7",
   "metadata": {
    "papermill": {
     "duration": 0.010777,
     "end_time": "2022-07-17T22:41:30.113678",
     "exception": false,
     "start_time": "2022-07-17T22:41:30.102901",
     "status": "completed"
    },
    "tags": []
   },
   "source": [
    "### Drop missing features"
   ]
  },
  {
   "cell_type": "code",
   "execution_count": 9,
   "id": "ae35b57f",
   "metadata": {
    "execution": {
     "iopub.execute_input": "2022-07-17T22:41:30.137608Z",
     "iopub.status.busy": "2022-07-17T22:41:30.137251Z",
     "iopub.status.idle": "2022-07-17T22:41:30.146526Z",
     "shell.execute_reply": "2022-07-17T22:41:30.145708Z"
    },
    "papermill": {
     "duration": 0.024515,
     "end_time": "2022-07-17T22:41:30.149202",
     "exception": false,
     "start_time": "2022-07-17T22:41:30.124687",
     "status": "completed"
    },
    "tags": []
   },
   "outputs": [
    {
     "name": "stdout",
     "output_type": "stream",
     "text": [
      "Index(['Pclass', 'Name', 'Sex', 'SibSp', 'Parch', 'Ticket', 'Fare'], dtype='object')\n",
      "Index(['Pclass', 'Name', 'Sex', 'SibSp', 'Parch', 'Ticket', 'Fare'], dtype='object')\n",
      "Index(['Pclass', 'Name', 'Sex', 'SibSp', 'Parch', 'Ticket', 'Fare'], dtype='object')\n"
     ]
    }
   ],
   "source": [
    "missing_features = ['Age', 'Cabin', 'Embarked']\n",
    "x_train = x_train.drop(missing_features, axis=1)\n",
    "x_valid = x_valid.drop(missing_features, axis=1)\n",
    "x_test = x_test.drop(missing_features, axis=1)\n",
    "print(x_train.columns)\n",
    "print(x_valid.columns)\n",
    "print(x_test.columns)"
   ]
  },
  {
   "cell_type": "markdown",
   "id": "11907823",
   "metadata": {
    "papermill": {
     "duration": 0.010629,
     "end_time": "2022-07-17T22:41:30.170885",
     "exception": false,
     "start_time": "2022-07-17T22:41:30.160256",
     "status": "completed"
    },
    "tags": []
   },
   "source": [
    "### Drop high-cardinality categorical features"
   ]
  },
  {
   "cell_type": "code",
   "execution_count": 10,
   "id": "d8852ce7",
   "metadata": {
    "execution": {
     "iopub.execute_input": "2022-07-17T22:41:30.194707Z",
     "iopub.status.busy": "2022-07-17T22:41:30.194323Z",
     "iopub.status.idle": "2022-07-17T22:41:30.205088Z",
     "shell.execute_reply": "2022-07-17T22:41:30.204222Z"
    },
    "papermill": {
     "duration": 0.025895,
     "end_time": "2022-07-17T22:41:30.207774",
     "exception": false,
     "start_time": "2022-07-17T22:41:30.181879",
     "status": "completed"
    },
    "tags": []
   },
   "outputs": [
    {
     "name": "stdout",
     "output_type": "stream",
     "text": [
      "Index(['Pclass', 'Sex', 'SibSp', 'Parch', 'Fare'], dtype='object')\n",
      "Index(['Pclass', 'Sex', 'SibSp', 'Parch', 'Fare'], dtype='object')\n",
      "Index(['Pclass', 'Sex', 'SibSp', 'Parch', 'Fare'], dtype='object')\n"
     ]
    }
   ],
   "source": [
    "high_cardinality_features = [column for column in x_train.columns if x_train[column].dtype == object and len(x_train[column].unique()) > 10]\n",
    "x_train = x_train.drop(high_cardinality_features, axis=1)\n",
    "x_valid = x_valid.drop(high_cardinality_features, axis=1)\n",
    "x_test = x_test.drop(high_cardinality_features, axis=1)\n",
    "print(x_train.columns)\n",
    "print(x_valid.columns)\n",
    "print(x_test.columns)"
   ]
  },
  {
   "cell_type": "markdown",
   "id": "01ae462d",
   "metadata": {
    "papermill": {
     "duration": 0.010887,
     "end_time": "2022-07-17T22:41:30.229815",
     "exception": false,
     "start_time": "2022-07-17T22:41:30.218928",
     "status": "completed"
    },
    "tags": []
   },
   "source": [
    "### Fill missing values (Fare)"
   ]
  },
  {
   "cell_type": "code",
   "execution_count": 11,
   "id": "e4801b50",
   "metadata": {
    "execution": {
     "iopub.execute_input": "2022-07-17T22:41:30.254022Z",
     "iopub.status.busy": "2022-07-17T22:41:30.253650Z",
     "iopub.status.idle": "2022-07-17T22:41:30.273080Z",
     "shell.execute_reply": "2022-07-17T22:41:30.271654Z"
    },
    "papermill": {
     "duration": 0.034971,
     "end_time": "2022-07-17T22:41:30.275901",
     "exception": false,
     "start_time": "2022-07-17T22:41:30.240930",
     "status": "completed"
    },
    "tags": []
   },
   "outputs": [
    {
     "name": "stdout",
     "output_type": "stream",
     "text": [
      "['Pclass', 'SibSp', 'Parch', 'Fare']\n"
     ]
    }
   ],
   "source": [
    "# find all numerical features\n",
    "numerical_features = [column for column in x_train.columns if x_train[column].dtype != object]\n",
    "print(numerical_features)\n",
    "\n",
    "# fill missing values\n",
    "imputer = SimpleImputer(strategy='median')\n",
    "x_train[numerical_features] = imputer.fit_transform(x_train[numerical_features])\n",
    "x_valid[numerical_features] = imputer.transform(x_valid[numerical_features])\n",
    "x_test[numerical_features] = imputer.transform(x_test[numerical_features])"
   ]
  },
  {
   "cell_type": "markdown",
   "id": "8dc58819",
   "metadata": {
    "papermill": {
     "duration": 0.011328,
     "end_time": "2022-07-17T22:41:30.298459",
     "exception": false,
     "start_time": "2022-07-17T22:41:30.287131",
     "status": "completed"
    },
    "tags": []
   },
   "source": [
    "### Define one-hot encoder for categorical features"
   ]
  },
  {
   "cell_type": "code",
   "execution_count": 12,
   "id": "f0e710b3",
   "metadata": {
    "execution": {
     "iopub.execute_input": "2022-07-17T22:41:30.323271Z",
     "iopub.status.busy": "2022-07-17T22:41:30.322871Z",
     "iopub.status.idle": "2022-07-17T22:41:30.332379Z",
     "shell.execute_reply": "2022-07-17T22:41:30.331165Z"
    },
    "papermill": {
     "duration": 0.025792,
     "end_time": "2022-07-17T22:41:30.335417",
     "exception": false,
     "start_time": "2022-07-17T22:41:30.309625",
     "status": "completed"
    },
    "tags": []
   },
   "outputs": [
    {
     "name": "stdout",
     "output_type": "stream",
     "text": [
      "['Sex']\n",
      "['Sex_female' 'Sex_male']\n",
      "[array(['female', 'male'], dtype=object)]\n"
     ]
    }
   ],
   "source": [
    "# find all categorical features\n",
    "categorical_features = [column for column in x_train.columns if x_train[column].dtype == object]\n",
    "print(categorical_features)\n",
    "\n",
    "# encode object columns\n",
    "encoder = OneHotEncoder()\n",
    "encoder.fit(x_train[categorical_features])\n",
    "new_feature_names = encoder.get_feature_names_out(categorical_features)\n",
    "print(new_feature_names)\n",
    "print(encoder.categories_)"
   ]
  },
  {
   "cell_type": "markdown",
   "id": "517f75f7",
   "metadata": {
    "papermill": {
     "duration": 0.01164,
     "end_time": "2022-07-17T22:41:30.358363",
     "exception": false,
     "start_time": "2022-07-17T22:41:30.346723",
     "status": "completed"
    },
    "tags": []
   },
   "source": [
    "### Encode categorical features"
   ]
  },
  {
   "cell_type": "code",
   "execution_count": 13,
   "id": "e83a5282",
   "metadata": {
    "execution": {
     "iopub.execute_input": "2022-07-17T22:41:30.383531Z",
     "iopub.status.busy": "2022-07-17T22:41:30.383124Z",
     "iopub.status.idle": "2022-07-17T22:41:30.404010Z",
     "shell.execute_reply": "2022-07-17T22:41:30.403167Z"
    },
    "papermill": {
     "duration": 0.036405,
     "end_time": "2022-07-17T22:41:30.406181",
     "exception": false,
     "start_time": "2022-07-17T22:41:30.369776",
     "status": "completed"
    },
    "tags": []
   },
   "outputs": [
    {
     "data": {
      "text/html": [
       "<div>\n",
       "<style scoped>\n",
       "    .dataframe tbody tr th:only-of-type {\n",
       "        vertical-align: middle;\n",
       "    }\n",
       "\n",
       "    .dataframe tbody tr th {\n",
       "        vertical-align: top;\n",
       "    }\n",
       "\n",
       "    .dataframe thead th {\n",
       "        text-align: right;\n",
       "    }\n",
       "</style>\n",
       "<table border=\"1\" class=\"dataframe\">\n",
       "  <thead>\n",
       "    <tr style=\"text-align: right;\">\n",
       "      <th></th>\n",
       "      <th>Sex_female</th>\n",
       "      <th>Sex_male</th>\n",
       "    </tr>\n",
       "    <tr>\n",
       "      <th>PassengerId</th>\n",
       "      <th></th>\n",
       "      <th></th>\n",
       "    </tr>\n",
       "  </thead>\n",
       "  <tbody>\n",
       "    <tr>\n",
       "      <th>141</th>\n",
       "      <td>1.0</td>\n",
       "      <td>0.0</td>\n",
       "    </tr>\n",
       "    <tr>\n",
       "      <th>440</th>\n",
       "      <td>0.0</td>\n",
       "      <td>1.0</td>\n",
       "    </tr>\n",
       "    <tr>\n",
       "      <th>818</th>\n",
       "      <td>0.0</td>\n",
       "      <td>1.0</td>\n",
       "    </tr>\n",
       "    <tr>\n",
       "      <th>379</th>\n",
       "      <td>0.0</td>\n",
       "      <td>1.0</td>\n",
       "    </tr>\n",
       "    <tr>\n",
       "      <th>492</th>\n",
       "      <td>0.0</td>\n",
       "      <td>1.0</td>\n",
       "    </tr>\n",
       "  </tbody>\n",
       "</table>\n",
       "</div>"
      ],
      "text/plain": [
       "             Sex_female  Sex_male\n",
       "PassengerId                      \n",
       "141                 1.0       0.0\n",
       "440                 0.0       1.0\n",
       "818                 0.0       1.0\n",
       "379                 0.0       1.0\n",
       "492                 0.0       1.0"
      ]
     },
     "execution_count": 13,
     "metadata": {},
     "output_type": "execute_result"
    }
   ],
   "source": [
    "x_train_encoded = pd.DataFrame(encoder.transform(x_train[categorical_features]).toarray(), columns=new_feature_names, index=x_train.index)\n",
    "x_valid_encoded = pd.DataFrame(encoder.transform(x_valid[categorical_features]).toarray(), columns=new_feature_names, index=x_valid.index)\n",
    "x_test_encoded = pd.DataFrame(encoder.transform(x_test[categorical_features]).toarray(), columns=new_feature_names, index=x_test.index)\n",
    "x_train_encoded.head()"
   ]
  },
  {
   "cell_type": "markdown",
   "id": "abdaa32a",
   "metadata": {
    "papermill": {
     "duration": 0.011106,
     "end_time": "2022-07-17T22:41:30.428724",
     "exception": false,
     "start_time": "2022-07-17T22:41:30.417618",
     "status": "completed"
    },
    "tags": []
   },
   "source": [
    "### Replace categorical features with encoded values"
   ]
  },
  {
   "cell_type": "code",
   "execution_count": 14,
   "id": "3b568169",
   "metadata": {
    "execution": {
     "iopub.execute_input": "2022-07-17T22:41:30.453224Z",
     "iopub.status.busy": "2022-07-17T22:41:30.452800Z",
     "iopub.status.idle": "2022-07-17T22:41:30.477954Z",
     "shell.execute_reply": "2022-07-17T22:41:30.477188Z"
    },
    "papermill": {
     "duration": 0.040101,
     "end_time": "2022-07-17T22:41:30.480213",
     "exception": false,
     "start_time": "2022-07-17T22:41:30.440112",
     "status": "completed"
    },
    "tags": []
   },
   "outputs": [
    {
     "data": {
      "text/html": [
       "<div>\n",
       "<style scoped>\n",
       "    .dataframe tbody tr th:only-of-type {\n",
       "        vertical-align: middle;\n",
       "    }\n",
       "\n",
       "    .dataframe tbody tr th {\n",
       "        vertical-align: top;\n",
       "    }\n",
       "\n",
       "    .dataframe thead th {\n",
       "        text-align: right;\n",
       "    }\n",
       "</style>\n",
       "<table border=\"1\" class=\"dataframe\">\n",
       "  <thead>\n",
       "    <tr style=\"text-align: right;\">\n",
       "      <th></th>\n",
       "      <th>Pclass</th>\n",
       "      <th>SibSp</th>\n",
       "      <th>Parch</th>\n",
       "      <th>Fare</th>\n",
       "      <th>Sex_female</th>\n",
       "      <th>Sex_male</th>\n",
       "    </tr>\n",
       "    <tr>\n",
       "      <th>PassengerId</th>\n",
       "      <th></th>\n",
       "      <th></th>\n",
       "      <th></th>\n",
       "      <th></th>\n",
       "      <th></th>\n",
       "      <th></th>\n",
       "    </tr>\n",
       "  </thead>\n",
       "  <tbody>\n",
       "    <tr>\n",
       "      <th>141</th>\n",
       "      <td>3.0</td>\n",
       "      <td>0.0</td>\n",
       "      <td>2.0</td>\n",
       "      <td>15.2458</td>\n",
       "      <td>1.0</td>\n",
       "      <td>0.0</td>\n",
       "    </tr>\n",
       "    <tr>\n",
       "      <th>440</th>\n",
       "      <td>2.0</td>\n",
       "      <td>0.0</td>\n",
       "      <td>0.0</td>\n",
       "      <td>10.5000</td>\n",
       "      <td>0.0</td>\n",
       "      <td>1.0</td>\n",
       "    </tr>\n",
       "    <tr>\n",
       "      <th>818</th>\n",
       "      <td>2.0</td>\n",
       "      <td>1.0</td>\n",
       "      <td>1.0</td>\n",
       "      <td>37.0042</td>\n",
       "      <td>0.0</td>\n",
       "      <td>1.0</td>\n",
       "    </tr>\n",
       "    <tr>\n",
       "      <th>379</th>\n",
       "      <td>3.0</td>\n",
       "      <td>0.0</td>\n",
       "      <td>0.0</td>\n",
       "      <td>4.0125</td>\n",
       "      <td>0.0</td>\n",
       "      <td>1.0</td>\n",
       "    </tr>\n",
       "    <tr>\n",
       "      <th>492</th>\n",
       "      <td>3.0</td>\n",
       "      <td>0.0</td>\n",
       "      <td>0.0</td>\n",
       "      <td>7.2500</td>\n",
       "      <td>0.0</td>\n",
       "      <td>1.0</td>\n",
       "    </tr>\n",
       "  </tbody>\n",
       "</table>\n",
       "</div>"
      ],
      "text/plain": [
       "             Pclass  SibSp  Parch     Fare  Sex_female  Sex_male\n",
       "PassengerId                                                     \n",
       "141             3.0    0.0    2.0  15.2458         1.0       0.0\n",
       "440             2.0    0.0    0.0  10.5000         0.0       1.0\n",
       "818             2.0    1.0    1.0  37.0042         0.0       1.0\n",
       "379             3.0    0.0    0.0   4.0125         0.0       1.0\n",
       "492             3.0    0.0    0.0   7.2500         0.0       1.0"
      ]
     },
     "execution_count": 14,
     "metadata": {},
     "output_type": "execute_result"
    }
   ],
   "source": [
    "x_train = x_train.drop(categorical_features, axis=1)\n",
    "x_valid = x_valid.drop(categorical_features, axis=1)\n",
    "x_test = x_test.drop(categorical_features, axis=1)\n",
    "\n",
    "x_train = x_train.join(x_train_encoded)\n",
    "x_valid = x_valid.join(x_valid_encoded)\n",
    "x_test = x_test.join(x_test_encoded)\n",
    "\n",
    "x_train.head()"
   ]
  },
  {
   "cell_type": "markdown",
   "id": "228bbcf3",
   "metadata": {
    "papermill": {
     "duration": 0.011499,
     "end_time": "2022-07-17T22:41:30.503753",
     "exception": false,
     "start_time": "2022-07-17T22:41:30.492254",
     "status": "completed"
    },
    "tags": []
   },
   "source": [
    "## Train and test model\n",
    "Create a machine learning model and train and test data."
   ]
  },
  {
   "cell_type": "markdown",
   "id": "3c34f6ff",
   "metadata": {
    "papermill": {
     "duration": 0.01157,
     "end_time": "2022-07-17T22:41:30.527246",
     "exception": false,
     "start_time": "2022-07-17T22:41:30.515676",
     "status": "completed"
    },
    "tags": []
   },
   "source": [
    "### Create a model"
   ]
  },
  {
   "cell_type": "code",
   "execution_count": 15,
   "id": "40e228e0",
   "metadata": {
    "execution": {
     "iopub.execute_input": "2022-07-17T22:41:30.553501Z",
     "iopub.status.busy": "2022-07-17T22:41:30.552747Z",
     "iopub.status.idle": "2022-07-17T22:41:30.557013Z",
     "shell.execute_reply": "2022-07-17T22:41:30.556275Z"
    },
    "papermill": {
     "duration": 0.019938,
     "end_time": "2022-07-17T22:41:30.559225",
     "exception": false,
     "start_time": "2022-07-17T22:41:30.539287",
     "status": "completed"
    },
    "tags": []
   },
   "outputs": [],
   "source": [
    "model = RandomForestClassifier(random_state=0)"
   ]
  },
  {
   "cell_type": "markdown",
   "id": "8712bf6c",
   "metadata": {
    "papermill": {
     "duration": 0.011692,
     "end_time": "2022-07-17T22:41:30.582821",
     "exception": false,
     "start_time": "2022-07-17T22:41:30.571129",
     "status": "completed"
    },
    "tags": []
   },
   "source": [
    "### train model"
   ]
  },
  {
   "cell_type": "code",
   "execution_count": 16,
   "id": "70f5492f",
   "metadata": {
    "execution": {
     "iopub.execute_input": "2022-07-17T22:41:30.608894Z",
     "iopub.status.busy": "2022-07-17T22:41:30.608191Z",
     "iopub.status.idle": "2022-07-17T22:41:30.830131Z",
     "shell.execute_reply": "2022-07-17T22:41:30.828932Z"
    },
    "papermill": {
     "duration": 0.237983,
     "end_time": "2022-07-17T22:41:30.832755",
     "exception": false,
     "start_time": "2022-07-17T22:41:30.594772",
     "status": "completed"
    },
    "tags": []
   },
   "outputs": [
    {
     "data": {
      "text/plain": [
       "RandomForestClassifier(random_state=0)"
      ]
     },
     "execution_count": 16,
     "metadata": {},
     "output_type": "execute_result"
    }
   ],
   "source": [
    "model.fit(x_train, y_train)"
   ]
  },
  {
   "cell_type": "markdown",
   "id": "317258e3",
   "metadata": {
    "papermill": {
     "duration": 0.011656,
     "end_time": "2022-07-17T22:41:30.856775",
     "exception": false,
     "start_time": "2022-07-17T22:41:30.845119",
     "status": "completed"
    },
    "tags": []
   },
   "source": [
    "### evaluate model"
   ]
  },
  {
   "cell_type": "code",
   "execution_count": 17,
   "id": "f8202283",
   "metadata": {
    "execution": {
     "iopub.execute_input": "2022-07-17T22:41:30.882303Z",
     "iopub.status.busy": "2022-07-17T22:41:30.881889Z",
     "iopub.status.idle": "2022-07-17T22:41:30.908402Z",
     "shell.execute_reply": "2022-07-17T22:41:30.907051Z"
    },
    "papermill": {
     "duration": 0.042698,
     "end_time": "2022-07-17T22:41:30.911334",
     "exception": false,
     "start_time": "2022-07-17T22:41:30.868636",
     "status": "completed"
    },
    "tags": []
   },
   "outputs": [
    {
     "name": "stdout",
     "output_type": "stream",
     "text": [
      "0.8379888268156425\n"
     ]
    }
   ],
   "source": [
    "y_predict = model.predict(x_valid)\n",
    "score = accuracy_score(y_valid, y_predict)\n",
    "print(score)"
   ]
  },
  {
   "cell_type": "markdown",
   "id": "5605d9e5",
   "metadata": {
    "papermill": {
     "duration": 0.012149,
     "end_time": "2022-07-17T22:41:30.935649",
     "exception": false,
     "start_time": "2022-07-17T22:41:30.923500",
     "status": "completed"
    },
    "tags": []
   },
   "source": [
    "## Submit result"
   ]
  },
  {
   "cell_type": "code",
   "execution_count": 18,
   "id": "407e2ab9",
   "metadata": {
    "execution": {
     "iopub.execute_input": "2022-07-17T22:41:30.963528Z",
     "iopub.status.busy": "2022-07-17T22:41:30.962045Z",
     "iopub.status.idle": "2022-07-17T22:41:30.995326Z",
     "shell.execute_reply": "2022-07-17T22:41:30.993961Z"
    },
    "papermill": {
     "duration": 0.049761,
     "end_time": "2022-07-17T22:41:30.998255",
     "exception": false,
     "start_time": "2022-07-17T22:41:30.948494",
     "status": "completed"
    },
    "tags": []
   },
   "outputs": [],
   "source": [
    "y_test = model.predict(x_test)\n",
    "result_data = pd.DataFrame({'PassengerId': x_test.index, 'Survived':y_test})\n",
    "result_data.to_csv(\"submission.csv\", index=False)"
   ]
  }
 ],
 "metadata": {
  "kernelspec": {
   "display_name": "Python 3",
   "language": "python",
   "name": "python3"
  },
  "language_info": {
   "codemirror_mode": {
    "name": "ipython",
    "version": 3
   },
   "file_extension": ".py",
   "mimetype": "text/x-python",
   "name": "python",
   "nbconvert_exporter": "python",
   "pygments_lexer": "ipython3",
   "version": "3.7.12"
  },
  "papermill": {
   "default_parameters": {},
   "duration": 14.204726,
   "end_time": "2022-07-17T22:41:31.732290",
   "environment_variables": {},
   "exception": null,
   "input_path": "__notebook__.ipynb",
   "output_path": "__notebook__.ipynb",
   "parameters": {},
   "start_time": "2022-07-17T22:41:17.527564",
   "version": "2.3.4"
  }
 },
 "nbformat": 4,
 "nbformat_minor": 5
}
