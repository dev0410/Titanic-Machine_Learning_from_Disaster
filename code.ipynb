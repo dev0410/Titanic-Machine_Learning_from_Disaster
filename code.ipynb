{
 "cells": [
  {
   "cell_type": "markdown",
   "id": "1cf0dbb1",
   "metadata": {
    "papermill": {
     "duration": 0.010053,
     "end_time": "2022-07-14T12:32:24.889170",
     "exception": false,
     "start_time": "2022-07-14T12:32:24.879117",
     "status": "completed"
    },
    "tags": []
   },
   "source": [
    "# Titanic - Machine Learning from Disaster"
   ]
  },
  {
   "cell_type": "code",
   "execution_count": 1,
   "id": "ae20b640",
   "metadata": {
    "execution": {
     "iopub.execute_input": "2022-07-14T12:32:24.909763Z",
     "iopub.status.busy": "2022-07-14T12:32:24.908610Z",
     "iopub.status.idle": "2022-07-14T12:32:26.300247Z",
     "shell.execute_reply": "2022-07-14T12:32:26.299042Z"
    },
    "papermill": {
     "duration": 1.405033,
     "end_time": "2022-07-14T12:32:26.303196",
     "exception": false,
     "start_time": "2022-07-14T12:32:24.898163",
     "status": "completed"
    },
    "tags": []
   },
   "outputs": [],
   "source": [
    "import pandas as pd\n",
    "from sklearn.preprocessing import OneHotEncoder\n",
    "from sklearn.model_selection import train_test_split\n",
    "from sklearn.ensemble import RandomForestClassifier\n",
    "from sklearn.metrics import accuracy_score"
   ]
  },
  {
   "cell_type": "markdown",
   "id": "c65c63e1",
   "metadata": {
    "papermill": {
     "duration": 0.008619,
     "end_time": "2022-07-14T12:32:26.320777",
     "exception": false,
     "start_time": "2022-07-14T12:32:26.312158",
     "status": "completed"
    },
    "tags": []
   },
   "source": [
    "## Load datasets\n",
    "Load all datasets for compeition from files.<br>\n",
    "\"train.csv\" is the train data and \"test.csv\" is test data."
   ]
  },
  {
   "cell_type": "markdown",
   "id": "52a61bae",
   "metadata": {
    "papermill": {
     "duration": 0.008598,
     "end_time": "2022-07-14T12:32:26.338306",
     "exception": false,
     "start_time": "2022-07-14T12:32:26.329708",
     "status": "completed"
    },
    "tags": []
   },
   "source": [
    "### load train data"
   ]
  },
  {
   "cell_type": "code",
   "execution_count": 2,
   "id": "265306a8",
   "metadata": {
    "execution": {
     "iopub.execute_input": "2022-07-14T12:32:26.358949Z",
     "iopub.status.busy": "2022-07-14T12:32:26.358227Z",
     "iopub.status.idle": "2022-07-14T12:32:26.417189Z",
     "shell.execute_reply": "2022-07-14T12:32:26.416015Z"
    },
    "papermill": {
     "duration": 0.072259,
     "end_time": "2022-07-14T12:32:26.419998",
     "exception": false,
     "start_time": "2022-07-14T12:32:26.347739",
     "status": "completed"
    },
    "tags": []
   },
   "outputs": [
    {
     "data": {
      "text/html": [
       "<div>\n",
       "<style scoped>\n",
       "    .dataframe tbody tr th:only-of-type {\n",
       "        vertical-align: middle;\n",
       "    }\n",
       "\n",
       "    .dataframe tbody tr th {\n",
       "        vertical-align: top;\n",
       "    }\n",
       "\n",
       "    .dataframe thead th {\n",
       "        text-align: right;\n",
       "    }\n",
       "</style>\n",
       "<table border=\"1\" class=\"dataframe\">\n",
       "  <thead>\n",
       "    <tr style=\"text-align: right;\">\n",
       "      <th></th>\n",
       "      <th>Survived</th>\n",
       "      <th>Pclass</th>\n",
       "      <th>Name</th>\n",
       "      <th>Sex</th>\n",
       "      <th>Age</th>\n",
       "      <th>SibSp</th>\n",
       "      <th>Parch</th>\n",
       "      <th>Ticket</th>\n",
       "      <th>Fare</th>\n",
       "      <th>Cabin</th>\n",
       "      <th>Embarked</th>\n",
       "    </tr>\n",
       "    <tr>\n",
       "      <th>PassengerId</th>\n",
       "      <th></th>\n",
       "      <th></th>\n",
       "      <th></th>\n",
       "      <th></th>\n",
       "      <th></th>\n",
       "      <th></th>\n",
       "      <th></th>\n",
       "      <th></th>\n",
       "      <th></th>\n",
       "      <th></th>\n",
       "      <th></th>\n",
       "    </tr>\n",
       "  </thead>\n",
       "  <tbody>\n",
       "    <tr>\n",
       "      <th>1</th>\n",
       "      <td>0</td>\n",
       "      <td>3</td>\n",
       "      <td>Braund, Mr. Owen Harris</td>\n",
       "      <td>male</td>\n",
       "      <td>22.0</td>\n",
       "      <td>1</td>\n",
       "      <td>0</td>\n",
       "      <td>A/5 21171</td>\n",
       "      <td>7.2500</td>\n",
       "      <td>NaN</td>\n",
       "      <td>S</td>\n",
       "    </tr>\n",
       "    <tr>\n",
       "      <th>2</th>\n",
       "      <td>1</td>\n",
       "      <td>1</td>\n",
       "      <td>Cumings, Mrs. John Bradley (Florence Briggs Th...</td>\n",
       "      <td>female</td>\n",
       "      <td>38.0</td>\n",
       "      <td>1</td>\n",
       "      <td>0</td>\n",
       "      <td>PC 17599</td>\n",
       "      <td>71.2833</td>\n",
       "      <td>C85</td>\n",
       "      <td>C</td>\n",
       "    </tr>\n",
       "    <tr>\n",
       "      <th>3</th>\n",
       "      <td>1</td>\n",
       "      <td>3</td>\n",
       "      <td>Heikkinen, Miss. Laina</td>\n",
       "      <td>female</td>\n",
       "      <td>26.0</td>\n",
       "      <td>0</td>\n",
       "      <td>0</td>\n",
       "      <td>STON/O2. 3101282</td>\n",
       "      <td>7.9250</td>\n",
       "      <td>NaN</td>\n",
       "      <td>S</td>\n",
       "    </tr>\n",
       "    <tr>\n",
       "      <th>4</th>\n",
       "      <td>1</td>\n",
       "      <td>1</td>\n",
       "      <td>Futrelle, Mrs. Jacques Heath (Lily May Peel)</td>\n",
       "      <td>female</td>\n",
       "      <td>35.0</td>\n",
       "      <td>1</td>\n",
       "      <td>0</td>\n",
       "      <td>113803</td>\n",
       "      <td>53.1000</td>\n",
       "      <td>C123</td>\n",
       "      <td>S</td>\n",
       "    </tr>\n",
       "    <tr>\n",
       "      <th>5</th>\n",
       "      <td>0</td>\n",
       "      <td>3</td>\n",
       "      <td>Allen, Mr. William Henry</td>\n",
       "      <td>male</td>\n",
       "      <td>35.0</td>\n",
       "      <td>0</td>\n",
       "      <td>0</td>\n",
       "      <td>373450</td>\n",
       "      <td>8.0500</td>\n",
       "      <td>NaN</td>\n",
       "      <td>S</td>\n",
       "    </tr>\n",
       "    <tr>\n",
       "      <th>...</th>\n",
       "      <td>...</td>\n",
       "      <td>...</td>\n",
       "      <td>...</td>\n",
       "      <td>...</td>\n",
       "      <td>...</td>\n",
       "      <td>...</td>\n",
       "      <td>...</td>\n",
       "      <td>...</td>\n",
       "      <td>...</td>\n",
       "      <td>...</td>\n",
       "      <td>...</td>\n",
       "    </tr>\n",
       "    <tr>\n",
       "      <th>887</th>\n",
       "      <td>0</td>\n",
       "      <td>2</td>\n",
       "      <td>Montvila, Rev. Juozas</td>\n",
       "      <td>male</td>\n",
       "      <td>27.0</td>\n",
       "      <td>0</td>\n",
       "      <td>0</td>\n",
       "      <td>211536</td>\n",
       "      <td>13.0000</td>\n",
       "      <td>NaN</td>\n",
       "      <td>S</td>\n",
       "    </tr>\n",
       "    <tr>\n",
       "      <th>888</th>\n",
       "      <td>1</td>\n",
       "      <td>1</td>\n",
       "      <td>Graham, Miss. Margaret Edith</td>\n",
       "      <td>female</td>\n",
       "      <td>19.0</td>\n",
       "      <td>0</td>\n",
       "      <td>0</td>\n",
       "      <td>112053</td>\n",
       "      <td>30.0000</td>\n",
       "      <td>B42</td>\n",
       "      <td>S</td>\n",
       "    </tr>\n",
       "    <tr>\n",
       "      <th>889</th>\n",
       "      <td>0</td>\n",
       "      <td>3</td>\n",
       "      <td>Johnston, Miss. Catherine Helen \"Carrie\"</td>\n",
       "      <td>female</td>\n",
       "      <td>NaN</td>\n",
       "      <td>1</td>\n",
       "      <td>2</td>\n",
       "      <td>W./C. 6607</td>\n",
       "      <td>23.4500</td>\n",
       "      <td>NaN</td>\n",
       "      <td>S</td>\n",
       "    </tr>\n",
       "    <tr>\n",
       "      <th>890</th>\n",
       "      <td>1</td>\n",
       "      <td>1</td>\n",
       "      <td>Behr, Mr. Karl Howell</td>\n",
       "      <td>male</td>\n",
       "      <td>26.0</td>\n",
       "      <td>0</td>\n",
       "      <td>0</td>\n",
       "      <td>111369</td>\n",
       "      <td>30.0000</td>\n",
       "      <td>C148</td>\n",
       "      <td>C</td>\n",
       "    </tr>\n",
       "    <tr>\n",
       "      <th>891</th>\n",
       "      <td>0</td>\n",
       "      <td>3</td>\n",
       "      <td>Dooley, Mr. Patrick</td>\n",
       "      <td>male</td>\n",
       "      <td>32.0</td>\n",
       "      <td>0</td>\n",
       "      <td>0</td>\n",
       "      <td>370376</td>\n",
       "      <td>7.7500</td>\n",
       "      <td>NaN</td>\n",
       "      <td>Q</td>\n",
       "    </tr>\n",
       "  </tbody>\n",
       "</table>\n",
       "<p>891 rows × 11 columns</p>\n",
       "</div>"
      ],
      "text/plain": [
       "             Survived  Pclass  \\\n",
       "PassengerId                     \n",
       "1                   0       3   \n",
       "2                   1       1   \n",
       "3                   1       3   \n",
       "4                   1       1   \n",
       "5                   0       3   \n",
       "...               ...     ...   \n",
       "887                 0       2   \n",
       "888                 1       1   \n",
       "889                 0       3   \n",
       "890                 1       1   \n",
       "891                 0       3   \n",
       "\n",
       "                                                          Name     Sex   Age  \\\n",
       "PassengerId                                                                    \n",
       "1                                      Braund, Mr. Owen Harris    male  22.0   \n",
       "2            Cumings, Mrs. John Bradley (Florence Briggs Th...  female  38.0   \n",
       "3                                       Heikkinen, Miss. Laina  female  26.0   \n",
       "4                 Futrelle, Mrs. Jacques Heath (Lily May Peel)  female  35.0   \n",
       "5                                     Allen, Mr. William Henry    male  35.0   \n",
       "...                                                        ...     ...   ...   \n",
       "887                                      Montvila, Rev. Juozas    male  27.0   \n",
       "888                               Graham, Miss. Margaret Edith  female  19.0   \n",
       "889                   Johnston, Miss. Catherine Helen \"Carrie\"  female   NaN   \n",
       "890                                      Behr, Mr. Karl Howell    male  26.0   \n",
       "891                                        Dooley, Mr. Patrick    male  32.0   \n",
       "\n",
       "             SibSp  Parch            Ticket     Fare Cabin Embarked  \n",
       "PassengerId                                                          \n",
       "1                1      0         A/5 21171   7.2500   NaN        S  \n",
       "2                1      0          PC 17599  71.2833   C85        C  \n",
       "3                0      0  STON/O2. 3101282   7.9250   NaN        S  \n",
       "4                1      0            113803  53.1000  C123        S  \n",
       "5                0      0            373450   8.0500   NaN        S  \n",
       "...            ...    ...               ...      ...   ...      ...  \n",
       "887              0      0            211536  13.0000   NaN        S  \n",
       "888              0      0            112053  30.0000   B42        S  \n",
       "889              1      2        W./C. 6607  23.4500   NaN        S  \n",
       "890              0      0            111369  30.0000  C148        C  \n",
       "891              0      0            370376   7.7500   NaN        Q  \n",
       "\n",
       "[891 rows x 11 columns]"
      ]
     },
     "execution_count": 2,
     "metadata": {},
     "output_type": "execute_result"
    }
   ],
   "source": [
    "df_train = pd.read_csv(\"../input/titanic/train.csv\", index_col='PassengerId')\n",
    "df_train"
   ]
  },
  {
   "cell_type": "markdown",
   "id": "1d5b8c51",
   "metadata": {
    "papermill": {
     "duration": 0.009276,
     "end_time": "2022-07-14T12:32:26.439494",
     "exception": false,
     "start_time": "2022-07-14T12:32:26.430218",
     "status": "completed"
    },
    "tags": []
   },
   "source": [
    "### load test data"
   ]
  },
  {
   "cell_type": "code",
   "execution_count": 3,
   "id": "f3a605f2",
   "metadata": {
    "execution": {
     "iopub.execute_input": "2022-07-14T12:32:26.460751Z",
     "iopub.status.busy": "2022-07-14T12:32:26.460026Z",
     "iopub.status.idle": "2022-07-14T12:32:26.492056Z",
     "shell.execute_reply": "2022-07-14T12:32:26.490967Z"
    },
    "papermill": {
     "duration": 0.045715,
     "end_time": "2022-07-14T12:32:26.494704",
     "exception": false,
     "start_time": "2022-07-14T12:32:26.448989",
     "status": "completed"
    },
    "tags": []
   },
   "outputs": [
    {
     "data": {
      "text/html": [
       "<div>\n",
       "<style scoped>\n",
       "    .dataframe tbody tr th:only-of-type {\n",
       "        vertical-align: middle;\n",
       "    }\n",
       "\n",
       "    .dataframe tbody tr th {\n",
       "        vertical-align: top;\n",
       "    }\n",
       "\n",
       "    .dataframe thead th {\n",
       "        text-align: right;\n",
       "    }\n",
       "</style>\n",
       "<table border=\"1\" class=\"dataframe\">\n",
       "  <thead>\n",
       "    <tr style=\"text-align: right;\">\n",
       "      <th></th>\n",
       "      <th>Pclass</th>\n",
       "      <th>Name</th>\n",
       "      <th>Sex</th>\n",
       "      <th>Age</th>\n",
       "      <th>SibSp</th>\n",
       "      <th>Parch</th>\n",
       "      <th>Ticket</th>\n",
       "      <th>Fare</th>\n",
       "      <th>Cabin</th>\n",
       "      <th>Embarked</th>\n",
       "    </tr>\n",
       "    <tr>\n",
       "      <th>PassengerId</th>\n",
       "      <th></th>\n",
       "      <th></th>\n",
       "      <th></th>\n",
       "      <th></th>\n",
       "      <th></th>\n",
       "      <th></th>\n",
       "      <th></th>\n",
       "      <th></th>\n",
       "      <th></th>\n",
       "      <th></th>\n",
       "    </tr>\n",
       "  </thead>\n",
       "  <tbody>\n",
       "    <tr>\n",
       "      <th>892</th>\n",
       "      <td>3</td>\n",
       "      <td>Kelly, Mr. James</td>\n",
       "      <td>male</td>\n",
       "      <td>34.5</td>\n",
       "      <td>0</td>\n",
       "      <td>0</td>\n",
       "      <td>330911</td>\n",
       "      <td>7.8292</td>\n",
       "      <td>NaN</td>\n",
       "      <td>Q</td>\n",
       "    </tr>\n",
       "    <tr>\n",
       "      <th>893</th>\n",
       "      <td>3</td>\n",
       "      <td>Wilkes, Mrs. James (Ellen Needs)</td>\n",
       "      <td>female</td>\n",
       "      <td>47.0</td>\n",
       "      <td>1</td>\n",
       "      <td>0</td>\n",
       "      <td>363272</td>\n",
       "      <td>7.0000</td>\n",
       "      <td>NaN</td>\n",
       "      <td>S</td>\n",
       "    </tr>\n",
       "    <tr>\n",
       "      <th>894</th>\n",
       "      <td>2</td>\n",
       "      <td>Myles, Mr. Thomas Francis</td>\n",
       "      <td>male</td>\n",
       "      <td>62.0</td>\n",
       "      <td>0</td>\n",
       "      <td>0</td>\n",
       "      <td>240276</td>\n",
       "      <td>9.6875</td>\n",
       "      <td>NaN</td>\n",
       "      <td>Q</td>\n",
       "    </tr>\n",
       "    <tr>\n",
       "      <th>895</th>\n",
       "      <td>3</td>\n",
       "      <td>Wirz, Mr. Albert</td>\n",
       "      <td>male</td>\n",
       "      <td>27.0</td>\n",
       "      <td>0</td>\n",
       "      <td>0</td>\n",
       "      <td>315154</td>\n",
       "      <td>8.6625</td>\n",
       "      <td>NaN</td>\n",
       "      <td>S</td>\n",
       "    </tr>\n",
       "    <tr>\n",
       "      <th>896</th>\n",
       "      <td>3</td>\n",
       "      <td>Hirvonen, Mrs. Alexander (Helga E Lindqvist)</td>\n",
       "      <td>female</td>\n",
       "      <td>22.0</td>\n",
       "      <td>1</td>\n",
       "      <td>1</td>\n",
       "      <td>3101298</td>\n",
       "      <td>12.2875</td>\n",
       "      <td>NaN</td>\n",
       "      <td>S</td>\n",
       "    </tr>\n",
       "    <tr>\n",
       "      <th>...</th>\n",
       "      <td>...</td>\n",
       "      <td>...</td>\n",
       "      <td>...</td>\n",
       "      <td>...</td>\n",
       "      <td>...</td>\n",
       "      <td>...</td>\n",
       "      <td>...</td>\n",
       "      <td>...</td>\n",
       "      <td>...</td>\n",
       "      <td>...</td>\n",
       "    </tr>\n",
       "    <tr>\n",
       "      <th>1305</th>\n",
       "      <td>3</td>\n",
       "      <td>Spector, Mr. Woolf</td>\n",
       "      <td>male</td>\n",
       "      <td>NaN</td>\n",
       "      <td>0</td>\n",
       "      <td>0</td>\n",
       "      <td>A.5. 3236</td>\n",
       "      <td>8.0500</td>\n",
       "      <td>NaN</td>\n",
       "      <td>S</td>\n",
       "    </tr>\n",
       "    <tr>\n",
       "      <th>1306</th>\n",
       "      <td>1</td>\n",
       "      <td>Oliva y Ocana, Dona. Fermina</td>\n",
       "      <td>female</td>\n",
       "      <td>39.0</td>\n",
       "      <td>0</td>\n",
       "      <td>0</td>\n",
       "      <td>PC 17758</td>\n",
       "      <td>108.9000</td>\n",
       "      <td>C105</td>\n",
       "      <td>C</td>\n",
       "    </tr>\n",
       "    <tr>\n",
       "      <th>1307</th>\n",
       "      <td>3</td>\n",
       "      <td>Saether, Mr. Simon Sivertsen</td>\n",
       "      <td>male</td>\n",
       "      <td>38.5</td>\n",
       "      <td>0</td>\n",
       "      <td>0</td>\n",
       "      <td>SOTON/O.Q. 3101262</td>\n",
       "      <td>7.2500</td>\n",
       "      <td>NaN</td>\n",
       "      <td>S</td>\n",
       "    </tr>\n",
       "    <tr>\n",
       "      <th>1308</th>\n",
       "      <td>3</td>\n",
       "      <td>Ware, Mr. Frederick</td>\n",
       "      <td>male</td>\n",
       "      <td>NaN</td>\n",
       "      <td>0</td>\n",
       "      <td>0</td>\n",
       "      <td>359309</td>\n",
       "      <td>8.0500</td>\n",
       "      <td>NaN</td>\n",
       "      <td>S</td>\n",
       "    </tr>\n",
       "    <tr>\n",
       "      <th>1309</th>\n",
       "      <td>3</td>\n",
       "      <td>Peter, Master. Michael J</td>\n",
       "      <td>male</td>\n",
       "      <td>NaN</td>\n",
       "      <td>1</td>\n",
       "      <td>1</td>\n",
       "      <td>2668</td>\n",
       "      <td>22.3583</td>\n",
       "      <td>NaN</td>\n",
       "      <td>C</td>\n",
       "    </tr>\n",
       "  </tbody>\n",
       "</table>\n",
       "<p>418 rows × 10 columns</p>\n",
       "</div>"
      ],
      "text/plain": [
       "             Pclass                                          Name     Sex  \\\n",
       "PassengerId                                                                 \n",
       "892               3                              Kelly, Mr. James    male   \n",
       "893               3              Wilkes, Mrs. James (Ellen Needs)  female   \n",
       "894               2                     Myles, Mr. Thomas Francis    male   \n",
       "895               3                              Wirz, Mr. Albert    male   \n",
       "896               3  Hirvonen, Mrs. Alexander (Helga E Lindqvist)  female   \n",
       "...             ...                                           ...     ...   \n",
       "1305              3                            Spector, Mr. Woolf    male   \n",
       "1306              1                  Oliva y Ocana, Dona. Fermina  female   \n",
       "1307              3                  Saether, Mr. Simon Sivertsen    male   \n",
       "1308              3                           Ware, Mr. Frederick    male   \n",
       "1309              3                      Peter, Master. Michael J    male   \n",
       "\n",
       "              Age  SibSp  Parch              Ticket      Fare Cabin Embarked  \n",
       "PassengerId                                                                   \n",
       "892          34.5      0      0              330911    7.8292   NaN        Q  \n",
       "893          47.0      1      0              363272    7.0000   NaN        S  \n",
       "894          62.0      0      0              240276    9.6875   NaN        Q  \n",
       "895          27.0      0      0              315154    8.6625   NaN        S  \n",
       "896          22.0      1      1             3101298   12.2875   NaN        S  \n",
       "...           ...    ...    ...                 ...       ...   ...      ...  \n",
       "1305          NaN      0      0           A.5. 3236    8.0500   NaN        S  \n",
       "1306         39.0      0      0            PC 17758  108.9000  C105        C  \n",
       "1307         38.5      0      0  SOTON/O.Q. 3101262    7.2500   NaN        S  \n",
       "1308          NaN      0      0              359309    8.0500   NaN        S  \n",
       "1309          NaN      1      1                2668   22.3583   NaN        C  \n",
       "\n",
       "[418 rows x 10 columns]"
      ]
     },
     "execution_count": 3,
     "metadata": {},
     "output_type": "execute_result"
    }
   ],
   "source": [
    "df_test = pd.read_csv(\"../input/titanic/test.csv\", index_col='PassengerId')\n",
    "df_test"
   ]
  },
  {
   "cell_type": "markdown",
   "id": "793e6249",
   "metadata": {
    "papermill": {
     "duration": 0.009793,
     "end_time": "2022-07-14T12:32:26.514445",
     "exception": false,
     "start_time": "2022-07-14T12:32:26.504652",
     "status": "completed"
    },
    "tags": []
   },
   "source": [
    "### join train and test data"
   ]
  },
  {
   "cell_type": "code",
   "execution_count": 4,
   "id": "129ee21b",
   "metadata": {
    "execution": {
     "iopub.execute_input": "2022-07-14T12:32:26.536374Z",
     "iopub.status.busy": "2022-07-14T12:32:26.535977Z",
     "iopub.status.idle": "2022-07-14T12:32:26.565902Z",
     "shell.execute_reply": "2022-07-14T12:32:26.564953Z"
    },
    "papermill": {
     "duration": 0.043986,
     "end_time": "2022-07-14T12:32:26.568432",
     "exception": false,
     "start_time": "2022-07-14T12:32:26.524446",
     "status": "completed"
    },
    "tags": []
   },
   "outputs": [
    {
     "data": {
      "text/html": [
       "<div>\n",
       "<style scoped>\n",
       "    .dataframe tbody tr th:only-of-type {\n",
       "        vertical-align: middle;\n",
       "    }\n",
       "\n",
       "    .dataframe tbody tr th {\n",
       "        vertical-align: top;\n",
       "    }\n",
       "\n",
       "    .dataframe thead th {\n",
       "        text-align: right;\n",
       "    }\n",
       "</style>\n",
       "<table border=\"1\" class=\"dataframe\">\n",
       "  <thead>\n",
       "    <tr style=\"text-align: right;\">\n",
       "      <th></th>\n",
       "      <th>Survived</th>\n",
       "      <th>Pclass</th>\n",
       "      <th>Name</th>\n",
       "      <th>Sex</th>\n",
       "      <th>Age</th>\n",
       "      <th>SibSp</th>\n",
       "      <th>Parch</th>\n",
       "      <th>Ticket</th>\n",
       "      <th>Fare</th>\n",
       "      <th>Cabin</th>\n",
       "      <th>Embarked</th>\n",
       "    </tr>\n",
       "    <tr>\n",
       "      <th>PassengerId</th>\n",
       "      <th></th>\n",
       "      <th></th>\n",
       "      <th></th>\n",
       "      <th></th>\n",
       "      <th></th>\n",
       "      <th></th>\n",
       "      <th></th>\n",
       "      <th></th>\n",
       "      <th></th>\n",
       "      <th></th>\n",
       "      <th></th>\n",
       "    </tr>\n",
       "  </thead>\n",
       "  <tbody>\n",
       "    <tr>\n",
       "      <th>1</th>\n",
       "      <td>0.0</td>\n",
       "      <td>3</td>\n",
       "      <td>Braund, Mr. Owen Harris</td>\n",
       "      <td>male</td>\n",
       "      <td>22.0</td>\n",
       "      <td>1</td>\n",
       "      <td>0</td>\n",
       "      <td>A/5 21171</td>\n",
       "      <td>7.2500</td>\n",
       "      <td>NaN</td>\n",
       "      <td>S</td>\n",
       "    </tr>\n",
       "    <tr>\n",
       "      <th>2</th>\n",
       "      <td>1.0</td>\n",
       "      <td>1</td>\n",
       "      <td>Cumings, Mrs. John Bradley (Florence Briggs Th...</td>\n",
       "      <td>female</td>\n",
       "      <td>38.0</td>\n",
       "      <td>1</td>\n",
       "      <td>0</td>\n",
       "      <td>PC 17599</td>\n",
       "      <td>71.2833</td>\n",
       "      <td>C85</td>\n",
       "      <td>C</td>\n",
       "    </tr>\n",
       "    <tr>\n",
       "      <th>3</th>\n",
       "      <td>1.0</td>\n",
       "      <td>3</td>\n",
       "      <td>Heikkinen, Miss. Laina</td>\n",
       "      <td>female</td>\n",
       "      <td>26.0</td>\n",
       "      <td>0</td>\n",
       "      <td>0</td>\n",
       "      <td>STON/O2. 3101282</td>\n",
       "      <td>7.9250</td>\n",
       "      <td>NaN</td>\n",
       "      <td>S</td>\n",
       "    </tr>\n",
       "    <tr>\n",
       "      <th>4</th>\n",
       "      <td>1.0</td>\n",
       "      <td>1</td>\n",
       "      <td>Futrelle, Mrs. Jacques Heath (Lily May Peel)</td>\n",
       "      <td>female</td>\n",
       "      <td>35.0</td>\n",
       "      <td>1</td>\n",
       "      <td>0</td>\n",
       "      <td>113803</td>\n",
       "      <td>53.1000</td>\n",
       "      <td>C123</td>\n",
       "      <td>S</td>\n",
       "    </tr>\n",
       "    <tr>\n",
       "      <th>5</th>\n",
       "      <td>0.0</td>\n",
       "      <td>3</td>\n",
       "      <td>Allen, Mr. William Henry</td>\n",
       "      <td>male</td>\n",
       "      <td>35.0</td>\n",
       "      <td>0</td>\n",
       "      <td>0</td>\n",
       "      <td>373450</td>\n",
       "      <td>8.0500</td>\n",
       "      <td>NaN</td>\n",
       "      <td>S</td>\n",
       "    </tr>\n",
       "    <tr>\n",
       "      <th>...</th>\n",
       "      <td>...</td>\n",
       "      <td>...</td>\n",
       "      <td>...</td>\n",
       "      <td>...</td>\n",
       "      <td>...</td>\n",
       "      <td>...</td>\n",
       "      <td>...</td>\n",
       "      <td>...</td>\n",
       "      <td>...</td>\n",
       "      <td>...</td>\n",
       "      <td>...</td>\n",
       "    </tr>\n",
       "    <tr>\n",
       "      <th>1305</th>\n",
       "      <td>NaN</td>\n",
       "      <td>3</td>\n",
       "      <td>Spector, Mr. Woolf</td>\n",
       "      <td>male</td>\n",
       "      <td>NaN</td>\n",
       "      <td>0</td>\n",
       "      <td>0</td>\n",
       "      <td>A.5. 3236</td>\n",
       "      <td>8.0500</td>\n",
       "      <td>NaN</td>\n",
       "      <td>S</td>\n",
       "    </tr>\n",
       "    <tr>\n",
       "      <th>1306</th>\n",
       "      <td>NaN</td>\n",
       "      <td>1</td>\n",
       "      <td>Oliva y Ocana, Dona. Fermina</td>\n",
       "      <td>female</td>\n",
       "      <td>39.0</td>\n",
       "      <td>0</td>\n",
       "      <td>0</td>\n",
       "      <td>PC 17758</td>\n",
       "      <td>108.9000</td>\n",
       "      <td>C105</td>\n",
       "      <td>C</td>\n",
       "    </tr>\n",
       "    <tr>\n",
       "      <th>1307</th>\n",
       "      <td>NaN</td>\n",
       "      <td>3</td>\n",
       "      <td>Saether, Mr. Simon Sivertsen</td>\n",
       "      <td>male</td>\n",
       "      <td>38.5</td>\n",
       "      <td>0</td>\n",
       "      <td>0</td>\n",
       "      <td>SOTON/O.Q. 3101262</td>\n",
       "      <td>7.2500</td>\n",
       "      <td>NaN</td>\n",
       "      <td>S</td>\n",
       "    </tr>\n",
       "    <tr>\n",
       "      <th>1308</th>\n",
       "      <td>NaN</td>\n",
       "      <td>3</td>\n",
       "      <td>Ware, Mr. Frederick</td>\n",
       "      <td>male</td>\n",
       "      <td>NaN</td>\n",
       "      <td>0</td>\n",
       "      <td>0</td>\n",
       "      <td>359309</td>\n",
       "      <td>8.0500</td>\n",
       "      <td>NaN</td>\n",
       "      <td>S</td>\n",
       "    </tr>\n",
       "    <tr>\n",
       "      <th>1309</th>\n",
       "      <td>NaN</td>\n",
       "      <td>3</td>\n",
       "      <td>Peter, Master. Michael J</td>\n",
       "      <td>male</td>\n",
       "      <td>NaN</td>\n",
       "      <td>1</td>\n",
       "      <td>1</td>\n",
       "      <td>2668</td>\n",
       "      <td>22.3583</td>\n",
       "      <td>NaN</td>\n",
       "      <td>C</td>\n",
       "    </tr>\n",
       "  </tbody>\n",
       "</table>\n",
       "<p>1309 rows × 11 columns</p>\n",
       "</div>"
      ],
      "text/plain": [
       "             Survived  Pclass  \\\n",
       "PassengerId                     \n",
       "1                 0.0       3   \n",
       "2                 1.0       1   \n",
       "3                 1.0       3   \n",
       "4                 1.0       1   \n",
       "5                 0.0       3   \n",
       "...               ...     ...   \n",
       "1305              NaN       3   \n",
       "1306              NaN       1   \n",
       "1307              NaN       3   \n",
       "1308              NaN       3   \n",
       "1309              NaN       3   \n",
       "\n",
       "                                                          Name     Sex   Age  \\\n",
       "PassengerId                                                                    \n",
       "1                                      Braund, Mr. Owen Harris    male  22.0   \n",
       "2            Cumings, Mrs. John Bradley (Florence Briggs Th...  female  38.0   \n",
       "3                                       Heikkinen, Miss. Laina  female  26.0   \n",
       "4                 Futrelle, Mrs. Jacques Heath (Lily May Peel)  female  35.0   \n",
       "5                                     Allen, Mr. William Henry    male  35.0   \n",
       "...                                                        ...     ...   ...   \n",
       "1305                                        Spector, Mr. Woolf    male   NaN   \n",
       "1306                              Oliva y Ocana, Dona. Fermina  female  39.0   \n",
       "1307                              Saether, Mr. Simon Sivertsen    male  38.5   \n",
       "1308                                       Ware, Mr. Frederick    male   NaN   \n",
       "1309                                  Peter, Master. Michael J    male   NaN   \n",
       "\n",
       "             SibSp  Parch              Ticket      Fare Cabin Embarked  \n",
       "PassengerId                                                             \n",
       "1                1      0           A/5 21171    7.2500   NaN        S  \n",
       "2                1      0            PC 17599   71.2833   C85        C  \n",
       "3                0      0    STON/O2. 3101282    7.9250   NaN        S  \n",
       "4                1      0              113803   53.1000  C123        S  \n",
       "5                0      0              373450    8.0500   NaN        S  \n",
       "...            ...    ...                 ...       ...   ...      ...  \n",
       "1305             0      0           A.5. 3236    8.0500   NaN        S  \n",
       "1306             0      0            PC 17758  108.9000  C105        C  \n",
       "1307             0      0  SOTON/O.Q. 3101262    7.2500   NaN        S  \n",
       "1308             0      0              359309    8.0500   NaN        S  \n",
       "1309             1      1                2668   22.3583   NaN        C  \n",
       "\n",
       "[1309 rows x 11 columns]"
      ]
     },
     "execution_count": 4,
     "metadata": {},
     "output_type": "execute_result"
    }
   ],
   "source": [
    "df_full = pd.concat([df_train, df_test])\n",
    "df_full"
   ]
  },
  {
   "cell_type": "markdown",
   "id": "f92092c3",
   "metadata": {
    "papermill": {
     "duration": 0.010486,
     "end_time": "2022-07-14T12:32:26.590401",
     "exception": false,
     "start_time": "2022-07-14T12:32:26.579915",
     "status": "completed"
    },
    "tags": []
   },
   "source": [
    "## analyze data\n",
    "Analyze full data to select and create useful features."
   ]
  },
  {
   "cell_type": "markdown",
   "id": "c5c75128",
   "metadata": {
    "papermill": {
     "duration": 0.010804,
     "end_time": "2022-07-14T12:32:26.611998",
     "exception": false,
     "start_time": "2022-07-14T12:32:26.601194",
     "status": "completed"
    },
    "tags": []
   },
   "source": [
    "### find all missing features"
   ]
  },
  {
   "cell_type": "code",
   "execution_count": 5,
   "id": "690054c1",
   "metadata": {
    "execution": {
     "iopub.execute_input": "2022-07-14T12:32:26.634828Z",
     "iopub.status.busy": "2022-07-14T12:32:26.633915Z",
     "iopub.status.idle": "2022-07-14T12:32:26.649191Z",
     "shell.execute_reply": "2022-07-14T12:32:26.648027Z"
    },
    "papermill": {
     "duration": 0.029218,
     "end_time": "2022-07-14T12:32:26.651523",
     "exception": false,
     "start_time": "2022-07-14T12:32:26.622305",
     "status": "completed"
    },
    "tags": []
   },
   "outputs": [
    {
     "name": "stdout",
     "output_type": "stream",
     "text": [
      "Age --- 263 / 1309\n",
      "Fare --- 1 / 1309\n",
      "Cabin --- 1014 / 1309\n",
      "Embarked --- 2 / 1309\n"
     ]
    }
   ],
   "source": [
    "missing_features = [column for column in df_full.columns if df_full[column].isnull().any()]\n",
    "missing_features.remove('Survived')\n",
    "for feature in missing_features:\n",
    "    print(feature, '---', df_full[feature].isnull().sum(), '/', df_full.shape[0])"
   ]
  },
  {
   "cell_type": "markdown",
   "id": "bba71fe8",
   "metadata": {
    "papermill": {
     "duration": 0.010471,
     "end_time": "2022-07-14T12:32:26.672635",
     "exception": false,
     "start_time": "2022-07-14T12:32:26.662164",
     "status": "completed"
    },
    "tags": []
   },
   "source": [
    "### calculate cardinality of categorical features"
   ]
  },
  {
   "cell_type": "code",
   "execution_count": 6,
   "id": "52a05584",
   "metadata": {
    "execution": {
     "iopub.execute_input": "2022-07-14T12:32:26.696626Z",
     "iopub.status.busy": "2022-07-14T12:32:26.695470Z",
     "iopub.status.idle": "2022-07-14T12:32:26.705258Z",
     "shell.execute_reply": "2022-07-14T12:32:26.703944Z"
    },
    "papermill": {
     "duration": 0.023951,
     "end_time": "2022-07-14T12:32:26.707394",
     "exception": false,
     "start_time": "2022-07-14T12:32:26.683443",
     "status": "completed"
    },
    "tags": []
   },
   "outputs": [
    {
     "name": "stdout",
     "output_type": "stream",
     "text": [
      "Name --- 1307\n",
      "Sex --- 2\n",
      "Ticket --- 929\n",
      "Cabin --- 187\n",
      "Embarked --- 4\n"
     ]
    }
   ],
   "source": [
    "for column in df_full.columns:\n",
    "    if df_full[column].dtype == object:\n",
    "        print(column, '---', len(df_full[column].unique()))"
   ]
  },
  {
   "cell_type": "markdown",
   "id": "f5ca1b14",
   "metadata": {
    "papermill": {
     "duration": 0.010061,
     "end_time": "2022-07-14T12:32:26.728062",
     "exception": false,
     "start_time": "2022-07-14T12:32:26.718001",
     "status": "completed"
    },
    "tags": []
   },
   "source": [
    "## Split data\n",
    "Split data into input and label data and also split train data into train and validation data."
   ]
  },
  {
   "cell_type": "markdown",
   "id": "1f4cc0e1",
   "metadata": {
    "papermill": {
     "duration": 0.009776,
     "end_time": "2022-07-14T12:32:26.748139",
     "exception": false,
     "start_time": "2022-07-14T12:32:26.738363",
     "status": "completed"
    },
    "tags": []
   },
   "source": [
    "### Split data into input and label data"
   ]
  },
  {
   "cell_type": "code",
   "execution_count": 7,
   "id": "3e9144c7",
   "metadata": {
    "execution": {
     "iopub.execute_input": "2022-07-14T12:32:26.770692Z",
     "iopub.status.busy": "2022-07-14T12:32:26.770086Z",
     "iopub.status.idle": "2022-07-14T12:32:26.778092Z",
     "shell.execute_reply": "2022-07-14T12:32:26.776947Z"
    },
    "papermill": {
     "duration": 0.022177,
     "end_time": "2022-07-14T12:32:26.780433",
     "exception": false,
     "start_time": "2022-07-14T12:32:26.758256",
     "status": "completed"
    },
    "tags": []
   },
   "outputs": [
    {
     "name": "stdout",
     "output_type": "stream",
     "text": [
      "(891, 10)\n",
      "(418, 10)\n"
     ]
    }
   ],
   "source": [
    "input_data = df_train.drop('Survived', axis=1)\n",
    "label_data = df_train['Survived']\n",
    "x_test = df_test.copy()\n",
    "print(input_data.shape)\n",
    "print(x_test.shape)"
   ]
  },
  {
   "cell_type": "markdown",
   "id": "af50f0a7",
   "metadata": {
    "papermill": {
     "duration": 0.010063,
     "end_time": "2022-07-14T12:32:26.800970",
     "exception": false,
     "start_time": "2022-07-14T12:32:26.790907",
     "status": "completed"
    },
    "tags": []
   },
   "source": [
    "### Split train data into train and validation data"
   ]
  },
  {
   "cell_type": "code",
   "execution_count": 8,
   "id": "908f486c",
   "metadata": {
    "execution": {
     "iopub.execute_input": "2022-07-14T12:32:26.824803Z",
     "iopub.status.busy": "2022-07-14T12:32:26.823545Z",
     "iopub.status.idle": "2022-07-14T12:32:26.844200Z",
     "shell.execute_reply": "2022-07-14T12:32:26.842974Z"
    },
    "papermill": {
     "duration": 0.035177,
     "end_time": "2022-07-14T12:32:26.846937",
     "exception": false,
     "start_time": "2022-07-14T12:32:26.811760",
     "status": "completed"
    },
    "tags": []
   },
   "outputs": [
    {
     "data": {
      "text/html": [
       "<div>\n",
       "<style scoped>\n",
       "    .dataframe tbody tr th:only-of-type {\n",
       "        vertical-align: middle;\n",
       "    }\n",
       "\n",
       "    .dataframe tbody tr th {\n",
       "        vertical-align: top;\n",
       "    }\n",
       "\n",
       "    .dataframe thead th {\n",
       "        text-align: right;\n",
       "    }\n",
       "</style>\n",
       "<table border=\"1\" class=\"dataframe\">\n",
       "  <thead>\n",
       "    <tr style=\"text-align: right;\">\n",
       "      <th></th>\n",
       "      <th>Pclass</th>\n",
       "      <th>Name</th>\n",
       "      <th>Sex</th>\n",
       "      <th>Age</th>\n",
       "      <th>SibSp</th>\n",
       "      <th>Parch</th>\n",
       "      <th>Ticket</th>\n",
       "      <th>Fare</th>\n",
       "      <th>Cabin</th>\n",
       "      <th>Embarked</th>\n",
       "    </tr>\n",
       "    <tr>\n",
       "      <th>PassengerId</th>\n",
       "      <th></th>\n",
       "      <th></th>\n",
       "      <th></th>\n",
       "      <th></th>\n",
       "      <th></th>\n",
       "      <th></th>\n",
       "      <th></th>\n",
       "      <th></th>\n",
       "      <th></th>\n",
       "      <th></th>\n",
       "    </tr>\n",
       "  </thead>\n",
       "  <tbody>\n",
       "    <tr>\n",
       "      <th>141</th>\n",
       "      <td>3</td>\n",
       "      <td>Boulos, Mrs. Joseph (Sultana)</td>\n",
       "      <td>female</td>\n",
       "      <td>NaN</td>\n",
       "      <td>0</td>\n",
       "      <td>2</td>\n",
       "      <td>2678</td>\n",
       "      <td>15.2458</td>\n",
       "      <td>NaN</td>\n",
       "      <td>C</td>\n",
       "    </tr>\n",
       "    <tr>\n",
       "      <th>440</th>\n",
       "      <td>2</td>\n",
       "      <td>Kvillner, Mr. Johan Henrik Johannesson</td>\n",
       "      <td>male</td>\n",
       "      <td>31.0</td>\n",
       "      <td>0</td>\n",
       "      <td>0</td>\n",
       "      <td>C.A. 18723</td>\n",
       "      <td>10.5000</td>\n",
       "      <td>NaN</td>\n",
       "      <td>S</td>\n",
       "    </tr>\n",
       "    <tr>\n",
       "      <th>818</th>\n",
       "      <td>2</td>\n",
       "      <td>Mallet, Mr. Albert</td>\n",
       "      <td>male</td>\n",
       "      <td>31.0</td>\n",
       "      <td>1</td>\n",
       "      <td>1</td>\n",
       "      <td>S.C./PARIS 2079</td>\n",
       "      <td>37.0042</td>\n",
       "      <td>NaN</td>\n",
       "      <td>C</td>\n",
       "    </tr>\n",
       "    <tr>\n",
       "      <th>379</th>\n",
       "      <td>3</td>\n",
       "      <td>Betros, Mr. Tannous</td>\n",
       "      <td>male</td>\n",
       "      <td>20.0</td>\n",
       "      <td>0</td>\n",
       "      <td>0</td>\n",
       "      <td>2648</td>\n",
       "      <td>4.0125</td>\n",
       "      <td>NaN</td>\n",
       "      <td>C</td>\n",
       "    </tr>\n",
       "    <tr>\n",
       "      <th>492</th>\n",
       "      <td>3</td>\n",
       "      <td>Windelov, Mr. Einar</td>\n",
       "      <td>male</td>\n",
       "      <td>21.0</td>\n",
       "      <td>0</td>\n",
       "      <td>0</td>\n",
       "      <td>SOTON/OQ 3101317</td>\n",
       "      <td>7.2500</td>\n",
       "      <td>NaN</td>\n",
       "      <td>S</td>\n",
       "    </tr>\n",
       "  </tbody>\n",
       "</table>\n",
       "</div>"
      ],
      "text/plain": [
       "             Pclass                                    Name     Sex   Age  \\\n",
       "PassengerId                                                                 \n",
       "141               3           Boulos, Mrs. Joseph (Sultana)  female   NaN   \n",
       "440               2  Kvillner, Mr. Johan Henrik Johannesson    male  31.0   \n",
       "818               2                      Mallet, Mr. Albert    male  31.0   \n",
       "379               3                     Betros, Mr. Tannous    male  20.0   \n",
       "492               3                     Windelov, Mr. Einar    male  21.0   \n",
       "\n",
       "             SibSp  Parch            Ticket     Fare Cabin Embarked  \n",
       "PassengerId                                                          \n",
       "141              0      2              2678  15.2458   NaN        C  \n",
       "440              0      0        C.A. 18723  10.5000   NaN        S  \n",
       "818              1      1   S.C./PARIS 2079  37.0042   NaN        C  \n",
       "379              0      0              2648   4.0125   NaN        C  \n",
       "492              0      0  SOTON/OQ 3101317   7.2500   NaN        S  "
      ]
     },
     "execution_count": 8,
     "metadata": {},
     "output_type": "execute_result"
    }
   ],
   "source": [
    "x_train, x_valid, y_train, y_valid = train_test_split(input_data, label_data, test_size=0.2, random_state=0)\n",
    "x_train.head()"
   ]
  },
  {
   "cell_type": "markdown",
   "id": "b7cf77d5",
   "metadata": {
    "papermill": {
     "duration": 0.010437,
     "end_time": "2022-07-14T12:32:26.868461",
     "exception": false,
     "start_time": "2022-07-14T12:32:26.858024",
     "status": "completed"
    },
    "tags": []
   },
   "source": [
    "## Data cleaning\n",
    "Clean data for the best performance."
   ]
  },
  {
   "cell_type": "markdown",
   "id": "fd671d2b",
   "metadata": {
    "papermill": {
     "duration": 0.010966,
     "end_time": "2022-07-14T12:32:26.890215",
     "exception": false,
     "start_time": "2022-07-14T12:32:26.879249",
     "status": "completed"
    },
    "tags": []
   },
   "source": [
    "### Drop missing features"
   ]
  },
  {
   "cell_type": "code",
   "execution_count": 9,
   "id": "609c53b4",
   "metadata": {
    "execution": {
     "iopub.execute_input": "2022-07-14T12:32:26.913702Z",
     "iopub.status.busy": "2022-07-14T12:32:26.913097Z",
     "iopub.status.idle": "2022-07-14T12:32:26.924123Z",
     "shell.execute_reply": "2022-07-14T12:32:26.922875Z"
    },
    "papermill": {
     "duration": 0.02566,
     "end_time": "2022-07-14T12:32:26.926584",
     "exception": false,
     "start_time": "2022-07-14T12:32:26.900924",
     "status": "completed"
    },
    "tags": []
   },
   "outputs": [
    {
     "name": "stdout",
     "output_type": "stream",
     "text": [
      "Index(['Pclass', 'Name', 'Sex', 'SibSp', 'Parch', 'Ticket'], dtype='object')\n",
      "Index(['Pclass', 'Name', 'Sex', 'SibSp', 'Parch', 'Ticket'], dtype='object')\n",
      "Index(['Pclass', 'Name', 'Sex', 'SibSp', 'Parch', 'Ticket'], dtype='object')\n"
     ]
    }
   ],
   "source": [
    "x_train = x_train.drop(missing_features, axis=1)\n",
    "x_valid = x_valid.drop(missing_features, axis=1)\n",
    "x_test = x_test.drop(missing_features, axis=1)\n",
    "print(x_train.columns)\n",
    "print(x_valid.columns)\n",
    "print(x_test.columns)"
   ]
  },
  {
   "cell_type": "markdown",
   "id": "168a66b1",
   "metadata": {
    "papermill": {
     "duration": 0.010671,
     "end_time": "2022-07-14T12:32:26.948541",
     "exception": false,
     "start_time": "2022-07-14T12:32:26.937870",
     "status": "completed"
    },
    "tags": []
   },
   "source": [
    "### Drop high-cardinality categorical features"
   ]
  },
  {
   "cell_type": "code",
   "execution_count": 10,
   "id": "7685e40b",
   "metadata": {
    "execution": {
     "iopub.execute_input": "2022-07-14T12:32:26.973465Z",
     "iopub.status.busy": "2022-07-14T12:32:26.973028Z",
     "iopub.status.idle": "2022-07-14T12:32:26.985962Z",
     "shell.execute_reply": "2022-07-14T12:32:26.984882Z"
    },
    "papermill": {
     "duration": 0.027175,
     "end_time": "2022-07-14T12:32:26.988000",
     "exception": false,
     "start_time": "2022-07-14T12:32:26.960825",
     "status": "completed"
    },
    "tags": []
   },
   "outputs": [
    {
     "name": "stdout",
     "output_type": "stream",
     "text": [
      "Index(['Pclass', 'Sex', 'SibSp', 'Parch'], dtype='object')\n",
      "Index(['Pclass', 'Sex', 'SibSp', 'Parch'], dtype='object')\n",
      "Index(['Pclass', 'Sex', 'SibSp', 'Parch'], dtype='object')\n"
     ]
    }
   ],
   "source": [
    "high_cardinality_features = [column for column in x_train.columns if x_train[column].dtype == object and len(x_train[column].unique()) > 10]\n",
    "x_train = x_train.drop(high_cardinality_features, axis=1)\n",
    "x_valid = x_valid.drop(high_cardinality_features, axis=1)\n",
    "x_test = x_test.drop(high_cardinality_features, axis=1)\n",
    "print(x_train.columns)\n",
    "print(x_valid.columns)\n",
    "print(x_test.columns)"
   ]
  },
  {
   "cell_type": "markdown",
   "id": "fbdb9405",
   "metadata": {
    "papermill": {
     "duration": 0.010534,
     "end_time": "2022-07-14T12:32:27.009259",
     "exception": false,
     "start_time": "2022-07-14T12:32:26.998725",
     "status": "completed"
    },
    "tags": []
   },
   "source": [
    "### Define one-hot encoder for categorical features"
   ]
  },
  {
   "cell_type": "code",
   "execution_count": 11,
   "id": "773d45ef",
   "metadata": {
    "execution": {
     "iopub.execute_input": "2022-07-14T12:32:27.033357Z",
     "iopub.status.busy": "2022-07-14T12:32:27.032560Z",
     "iopub.status.idle": "2022-07-14T12:32:27.042246Z",
     "shell.execute_reply": "2022-07-14T12:32:27.040865Z"
    },
    "papermill": {
     "duration": 0.024254,
     "end_time": "2022-07-14T12:32:27.044329",
     "exception": false,
     "start_time": "2022-07-14T12:32:27.020075",
     "status": "completed"
    },
    "tags": []
   },
   "outputs": [
    {
     "name": "stdout",
     "output_type": "stream",
     "text": [
      "['Sex']\n",
      "['Sex_female' 'Sex_male']\n",
      "[array(['female', 'male'], dtype=object)]\n"
     ]
    }
   ],
   "source": [
    "# find all categorical features\n",
    "categorical_features = [column for column in x_train.columns if x_train[column].dtype == object]\n",
    "print(categorical_features)\n",
    "\n",
    "# encode object columns\n",
    "encoder = OneHotEncoder()\n",
    "encoder.fit(x_train[categorical_features])\n",
    "new_feature_names = encoder.get_feature_names_out(categorical_features)\n",
    "print(new_feature_names)\n",
    "print(encoder.categories_)"
   ]
  },
  {
   "cell_type": "markdown",
   "id": "d5c612f7",
   "metadata": {
    "papermill": {
     "duration": 0.010484,
     "end_time": "2022-07-14T12:32:27.065640",
     "exception": false,
     "start_time": "2022-07-14T12:32:27.055156",
     "status": "completed"
    },
    "tags": []
   },
   "source": [
    "### Encode categorical features"
   ]
  },
  {
   "cell_type": "code",
   "execution_count": 12,
   "id": "63be9665",
   "metadata": {
    "execution": {
     "iopub.execute_input": "2022-07-14T12:32:27.089629Z",
     "iopub.status.busy": "2022-07-14T12:32:27.088939Z",
     "iopub.status.idle": "2022-07-14T12:32:27.110033Z",
     "shell.execute_reply": "2022-07-14T12:32:27.108849Z"
    },
    "papermill": {
     "duration": 0.035857,
     "end_time": "2022-07-14T12:32:27.112287",
     "exception": false,
     "start_time": "2022-07-14T12:32:27.076430",
     "status": "completed"
    },
    "tags": []
   },
   "outputs": [
    {
     "data": {
      "text/html": [
       "<div>\n",
       "<style scoped>\n",
       "    .dataframe tbody tr th:only-of-type {\n",
       "        vertical-align: middle;\n",
       "    }\n",
       "\n",
       "    .dataframe tbody tr th {\n",
       "        vertical-align: top;\n",
       "    }\n",
       "\n",
       "    .dataframe thead th {\n",
       "        text-align: right;\n",
       "    }\n",
       "</style>\n",
       "<table border=\"1\" class=\"dataframe\">\n",
       "  <thead>\n",
       "    <tr style=\"text-align: right;\">\n",
       "      <th></th>\n",
       "      <th>Sex_female</th>\n",
       "      <th>Sex_male</th>\n",
       "    </tr>\n",
       "    <tr>\n",
       "      <th>PassengerId</th>\n",
       "      <th></th>\n",
       "      <th></th>\n",
       "    </tr>\n",
       "  </thead>\n",
       "  <tbody>\n",
       "    <tr>\n",
       "      <th>141</th>\n",
       "      <td>1.0</td>\n",
       "      <td>0.0</td>\n",
       "    </tr>\n",
       "    <tr>\n",
       "      <th>440</th>\n",
       "      <td>0.0</td>\n",
       "      <td>1.0</td>\n",
       "    </tr>\n",
       "    <tr>\n",
       "      <th>818</th>\n",
       "      <td>0.0</td>\n",
       "      <td>1.0</td>\n",
       "    </tr>\n",
       "    <tr>\n",
       "      <th>379</th>\n",
       "      <td>0.0</td>\n",
       "      <td>1.0</td>\n",
       "    </tr>\n",
       "    <tr>\n",
       "      <th>492</th>\n",
       "      <td>0.0</td>\n",
       "      <td>1.0</td>\n",
       "    </tr>\n",
       "  </tbody>\n",
       "</table>\n",
       "</div>"
      ],
      "text/plain": [
       "             Sex_female  Sex_male\n",
       "PassengerId                      \n",
       "141                 1.0       0.0\n",
       "440                 0.0       1.0\n",
       "818                 0.0       1.0\n",
       "379                 0.0       1.0\n",
       "492                 0.0       1.0"
      ]
     },
     "execution_count": 12,
     "metadata": {},
     "output_type": "execute_result"
    }
   ],
   "source": [
    "x_train_encoded = pd.DataFrame(encoder.transform(x_train[categorical_features]).toarray(), columns=new_feature_names, index=x_train.index)\n",
    "x_valid_encoded = pd.DataFrame(encoder.transform(x_valid[categorical_features]).toarray(), columns=new_feature_names, index=x_valid.index)\n",
    "x_test_encoded = pd.DataFrame(encoder.transform(x_test[categorical_features]).toarray(), columns=new_feature_names, index=x_test.index)\n",
    "x_train_encoded.head()"
   ]
  },
  {
   "cell_type": "markdown",
   "id": "d2f8b203",
   "metadata": {
    "papermill": {
     "duration": 0.01083,
     "end_time": "2022-07-14T12:32:27.134503",
     "exception": false,
     "start_time": "2022-07-14T12:32:27.123673",
     "status": "completed"
    },
    "tags": []
   },
   "source": [
    "### Replace categorical features with encoded values"
   ]
  },
  {
   "cell_type": "code",
   "execution_count": 13,
   "id": "94670a6a",
   "metadata": {
    "execution": {
     "iopub.execute_input": "2022-07-14T12:32:27.159527Z",
     "iopub.status.busy": "2022-07-14T12:32:27.158321Z",
     "iopub.status.idle": "2022-07-14T12:32:27.181710Z",
     "shell.execute_reply": "2022-07-14T12:32:27.180849Z"
    },
    "papermill": {
     "duration": 0.03818,
     "end_time": "2022-07-14T12:32:27.184011",
     "exception": false,
     "start_time": "2022-07-14T12:32:27.145831",
     "status": "completed"
    },
    "tags": []
   },
   "outputs": [
    {
     "data": {
      "text/html": [
       "<div>\n",
       "<style scoped>\n",
       "    .dataframe tbody tr th:only-of-type {\n",
       "        vertical-align: middle;\n",
       "    }\n",
       "\n",
       "    .dataframe tbody tr th {\n",
       "        vertical-align: top;\n",
       "    }\n",
       "\n",
       "    .dataframe thead th {\n",
       "        text-align: right;\n",
       "    }\n",
       "</style>\n",
       "<table border=\"1\" class=\"dataframe\">\n",
       "  <thead>\n",
       "    <tr style=\"text-align: right;\">\n",
       "      <th></th>\n",
       "      <th>Pclass</th>\n",
       "      <th>SibSp</th>\n",
       "      <th>Parch</th>\n",
       "      <th>Sex_female</th>\n",
       "      <th>Sex_male</th>\n",
       "    </tr>\n",
       "    <tr>\n",
       "      <th>PassengerId</th>\n",
       "      <th></th>\n",
       "      <th></th>\n",
       "      <th></th>\n",
       "      <th></th>\n",
       "      <th></th>\n",
       "    </tr>\n",
       "  </thead>\n",
       "  <tbody>\n",
       "    <tr>\n",
       "      <th>141</th>\n",
       "      <td>3</td>\n",
       "      <td>0</td>\n",
       "      <td>2</td>\n",
       "      <td>1.0</td>\n",
       "      <td>0.0</td>\n",
       "    </tr>\n",
       "    <tr>\n",
       "      <th>440</th>\n",
       "      <td>2</td>\n",
       "      <td>0</td>\n",
       "      <td>0</td>\n",
       "      <td>0.0</td>\n",
       "      <td>1.0</td>\n",
       "    </tr>\n",
       "    <tr>\n",
       "      <th>818</th>\n",
       "      <td>2</td>\n",
       "      <td>1</td>\n",
       "      <td>1</td>\n",
       "      <td>0.0</td>\n",
       "      <td>1.0</td>\n",
       "    </tr>\n",
       "    <tr>\n",
       "      <th>379</th>\n",
       "      <td>3</td>\n",
       "      <td>0</td>\n",
       "      <td>0</td>\n",
       "      <td>0.0</td>\n",
       "      <td>1.0</td>\n",
       "    </tr>\n",
       "    <tr>\n",
       "      <th>492</th>\n",
       "      <td>3</td>\n",
       "      <td>0</td>\n",
       "      <td>0</td>\n",
       "      <td>0.0</td>\n",
       "      <td>1.0</td>\n",
       "    </tr>\n",
       "  </tbody>\n",
       "</table>\n",
       "</div>"
      ],
      "text/plain": [
       "             Pclass  SibSp  Parch  Sex_female  Sex_male\n",
       "PassengerId                                            \n",
       "141               3      0      2         1.0       0.0\n",
       "440               2      0      0         0.0       1.0\n",
       "818               2      1      1         0.0       1.0\n",
       "379               3      0      0         0.0       1.0\n",
       "492               3      0      0         0.0       1.0"
      ]
     },
     "execution_count": 13,
     "metadata": {},
     "output_type": "execute_result"
    }
   ],
   "source": [
    "x_train = x_train.drop(categorical_features, axis=1)\n",
    "x_valid = x_valid.drop(categorical_features, axis=1)\n",
    "x_test = x_test.drop(categorical_features, axis=1)\n",
    "\n",
    "x_train = x_train.join(x_train_encoded)\n",
    "x_valid = x_valid.join(x_valid_encoded)\n",
    "x_test = x_test.join(x_test_encoded)\n",
    "\n",
    "x_train.head()"
   ]
  },
  {
   "cell_type": "markdown",
   "id": "4a7344d1",
   "metadata": {
    "papermill": {
     "duration": 0.010927,
     "end_time": "2022-07-14T12:32:27.206317",
     "exception": false,
     "start_time": "2022-07-14T12:32:27.195390",
     "status": "completed"
    },
    "tags": []
   },
   "source": [
    "## Train and test model\n",
    "Create a machine learning model and train and test data."
   ]
  },
  {
   "cell_type": "markdown",
   "id": "8ce2b28e",
   "metadata": {
    "papermill": {
     "duration": 0.010946,
     "end_time": "2022-07-14T12:32:27.228561",
     "exception": false,
     "start_time": "2022-07-14T12:32:27.217615",
     "status": "completed"
    },
    "tags": []
   },
   "source": [
    "### Create a model"
   ]
  },
  {
   "cell_type": "code",
   "execution_count": 14,
   "id": "d61c0ac8",
   "metadata": {
    "execution": {
     "iopub.execute_input": "2022-07-14T12:32:27.253209Z",
     "iopub.status.busy": "2022-07-14T12:32:27.252807Z",
     "iopub.status.idle": "2022-07-14T12:32:27.257969Z",
     "shell.execute_reply": "2022-07-14T12:32:27.256838Z"
    },
    "papermill": {
     "duration": 0.020346,
     "end_time": "2022-07-14T12:32:27.260374",
     "exception": false,
     "start_time": "2022-07-14T12:32:27.240028",
     "status": "completed"
    },
    "tags": []
   },
   "outputs": [],
   "source": [
    "model = RandomForestClassifier(random_state=0)"
   ]
  },
  {
   "cell_type": "markdown",
   "id": "58d33dff",
   "metadata": {
    "papermill": {
     "duration": 0.011055,
     "end_time": "2022-07-14T12:32:27.282817",
     "exception": false,
     "start_time": "2022-07-14T12:32:27.271762",
     "status": "completed"
    },
    "tags": []
   },
   "source": [
    "### train model"
   ]
  },
  {
   "cell_type": "code",
   "execution_count": 15,
   "id": "2da05aba",
   "metadata": {
    "execution": {
     "iopub.execute_input": "2022-07-14T12:32:27.307708Z",
     "iopub.status.busy": "2022-07-14T12:32:27.306957Z",
     "iopub.status.idle": "2022-07-14T12:32:27.511794Z",
     "shell.execute_reply": "2022-07-14T12:32:27.510848Z"
    },
    "papermill": {
     "duration": 0.219926,
     "end_time": "2022-07-14T12:32:27.514181",
     "exception": false,
     "start_time": "2022-07-14T12:32:27.294255",
     "status": "completed"
    },
    "tags": []
   },
   "outputs": [
    {
     "data": {
      "text/plain": [
       "RandomForestClassifier(random_state=0)"
      ]
     },
     "execution_count": 15,
     "metadata": {},
     "output_type": "execute_result"
    }
   ],
   "source": [
    "model.fit(x_train, y_train)"
   ]
  },
  {
   "cell_type": "markdown",
   "id": "0ade8df3",
   "metadata": {
    "papermill": {
     "duration": 0.01107,
     "end_time": "2022-07-14T12:32:27.536638",
     "exception": false,
     "start_time": "2022-07-14T12:32:27.525568",
     "status": "completed"
    },
    "tags": []
   },
   "source": [
    "### evaluate model"
   ]
  },
  {
   "cell_type": "code",
   "execution_count": 16,
   "id": "558b1d86",
   "metadata": {
    "execution": {
     "iopub.execute_input": "2022-07-14T12:32:27.561820Z",
     "iopub.status.busy": "2022-07-14T12:32:27.561163Z",
     "iopub.status.idle": "2022-07-14T12:32:27.584194Z",
     "shell.execute_reply": "2022-07-14T12:32:27.582864Z"
    },
    "papermill": {
     "duration": 0.038372,
     "end_time": "2022-07-14T12:32:27.586588",
     "exception": false,
     "start_time": "2022-07-14T12:32:27.548216",
     "status": "completed"
    },
    "tags": []
   },
   "outputs": [
    {
     "name": "stdout",
     "output_type": "stream",
     "text": [
      "0.7988826815642458\n"
     ]
    }
   ],
   "source": [
    "y_predict = model.predict(x_valid)\n",
    "score = accuracy_score(y_valid, y_predict)\n",
    "print(score)"
   ]
  },
  {
   "cell_type": "markdown",
   "id": "7b3d2ba0",
   "metadata": {
    "papermill": {
     "duration": 0.011244,
     "end_time": "2022-07-14T12:32:27.609694",
     "exception": false,
     "start_time": "2022-07-14T12:32:27.598450",
     "status": "completed"
    },
    "tags": []
   },
   "source": [
    "## Submit result"
   ]
  },
  {
   "cell_type": "code",
   "execution_count": 17,
   "id": "e5be9277",
   "metadata": {
    "execution": {
     "iopub.execute_input": "2022-07-14T12:32:27.635519Z",
     "iopub.status.busy": "2022-07-14T12:32:27.634349Z",
     "iopub.status.idle": "2022-07-14T12:32:27.666041Z",
     "shell.execute_reply": "2022-07-14T12:32:27.664795Z"
    },
    "papermill": {
     "duration": 0.047763,
     "end_time": "2022-07-14T12:32:27.669158",
     "exception": false,
     "start_time": "2022-07-14T12:32:27.621395",
     "status": "completed"
    },
    "tags": []
   },
   "outputs": [],
   "source": [
    "y_test = model.predict(x_test)\n",
    "result_data = pd.DataFrame({'PassengerId': x_test.index, 'Survived':y_test})\n",
    "result_data.to_csv(\"submission.csv\", index=False)"
   ]
  }
 ],
 "metadata": {
  "kernelspec": {
   "display_name": "Python 3",
   "language": "python",
   "name": "python3"
  },
  "language_info": {
   "codemirror_mode": {
    "name": "ipython",
    "version": 3
   },
   "file_extension": ".py",
   "mimetype": "text/x-python",
   "name": "python",
   "nbconvert_exporter": "python",
   "pygments_lexer": "ipython3",
   "version": "3.7.12"
  },
  "papermill": {
   "default_parameters": {},
   "duration": 13.208471,
   "end_time": "2022-07-14T12:32:28.407206",
   "environment_variables": {},
   "exception": null,
   "input_path": "__notebook__.ipynb",
   "output_path": "__notebook__.ipynb",
   "parameters": {},
   "start_time": "2022-07-14T12:32:15.198735",
   "version": "2.3.4"
  }
 },
 "nbformat": 4,
 "nbformat_minor": 5
}
