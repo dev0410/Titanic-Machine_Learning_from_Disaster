{
 "cells": [
  {
   "cell_type": "markdown",
   "id": "4e149235",
   "metadata": {
    "papermill": {
     "duration": 0.011568,
     "end_time": "2022-07-20T21:02:07.526449",
     "exception": false,
     "start_time": "2022-07-20T21:02:07.514881",
     "status": "completed"
    },
    "tags": []
   },
   "source": [
    "# Titanic - Machine Learning from Disaster"
   ]
  },
  {
   "cell_type": "code",
   "execution_count": 1,
   "id": "f1fff200",
   "metadata": {
    "execution": {
     "iopub.execute_input": "2022-07-20T21:02:07.549772Z",
     "iopub.status.busy": "2022-07-20T21:02:07.549020Z",
     "iopub.status.idle": "2022-07-20T21:02:09.114636Z",
     "shell.execute_reply": "2022-07-20T21:02:09.113051Z"
    },
    "papermill": {
     "duration": 1.581154,
     "end_time": "2022-07-20T21:02:09.118071",
     "exception": false,
     "start_time": "2022-07-20T21:02:07.536917",
     "status": "completed"
    },
    "tags": []
   },
   "outputs": [],
   "source": [
    "import pandas as pd\n",
    "from sklearn.preprocessing import OneHotEncoder, OrdinalEncoder\n",
    "from sklearn.model_selection import train_test_split\n",
    "from sklearn.ensemble import RandomForestClassifier\n",
    "from sklearn.impute import SimpleImputer\n",
    "from sklearn.metrics import accuracy_score\n",
    "from sklearn.model_selection import cross_val_score"
   ]
  },
  {
   "cell_type": "markdown",
   "id": "be61b004",
   "metadata": {
    "papermill": {
     "duration": 0.009871,
     "end_time": "2022-07-20T21:02:09.138388",
     "exception": false,
     "start_time": "2022-07-20T21:02:09.128517",
     "status": "completed"
    },
    "tags": []
   },
   "source": [
    "## Load datasets\n",
    "Load all datasets for compeition from files.<br>\n",
    "\"train.csv\" is the train data and \"test.csv\" is test data."
   ]
  },
  {
   "cell_type": "markdown",
   "id": "307c5e2c",
   "metadata": {
    "papermill": {
     "duration": 0.009968,
     "end_time": "2022-07-20T21:02:09.158563",
     "exception": false,
     "start_time": "2022-07-20T21:02:09.148595",
     "status": "completed"
    },
    "tags": []
   },
   "source": [
    "### load train data"
   ]
  },
  {
   "cell_type": "code",
   "execution_count": 2,
   "id": "5270a4e4",
   "metadata": {
    "execution": {
     "iopub.execute_input": "2022-07-20T21:02:09.184341Z",
     "iopub.status.busy": "2022-07-20T21:02:09.183695Z",
     "iopub.status.idle": "2022-07-20T21:02:09.250651Z",
     "shell.execute_reply": "2022-07-20T21:02:09.249503Z"
    },
    "papermill": {
     "duration": 0.083612,
     "end_time": "2022-07-20T21:02:09.254129",
     "exception": false,
     "start_time": "2022-07-20T21:02:09.170517",
     "status": "completed"
    },
    "tags": []
   },
   "outputs": [
    {
     "data": {
      "text/html": [
       "<div>\n",
       "<style scoped>\n",
       "    .dataframe tbody tr th:only-of-type {\n",
       "        vertical-align: middle;\n",
       "    }\n",
       "\n",
       "    .dataframe tbody tr th {\n",
       "        vertical-align: top;\n",
       "    }\n",
       "\n",
       "    .dataframe thead th {\n",
       "        text-align: right;\n",
       "    }\n",
       "</style>\n",
       "<table border=\"1\" class=\"dataframe\">\n",
       "  <thead>\n",
       "    <tr style=\"text-align: right;\">\n",
       "      <th></th>\n",
       "      <th>Survived</th>\n",
       "      <th>Pclass</th>\n",
       "      <th>Name</th>\n",
       "      <th>Sex</th>\n",
       "      <th>Age</th>\n",
       "      <th>SibSp</th>\n",
       "      <th>Parch</th>\n",
       "      <th>Ticket</th>\n",
       "      <th>Fare</th>\n",
       "      <th>Cabin</th>\n",
       "      <th>Embarked</th>\n",
       "    </tr>\n",
       "    <tr>\n",
       "      <th>PassengerId</th>\n",
       "      <th></th>\n",
       "      <th></th>\n",
       "      <th></th>\n",
       "      <th></th>\n",
       "      <th></th>\n",
       "      <th></th>\n",
       "      <th></th>\n",
       "      <th></th>\n",
       "      <th></th>\n",
       "      <th></th>\n",
       "      <th></th>\n",
       "    </tr>\n",
       "  </thead>\n",
       "  <tbody>\n",
       "    <tr>\n",
       "      <th>1</th>\n",
       "      <td>0</td>\n",
       "      <td>3</td>\n",
       "      <td>Braund, Mr. Owen Harris</td>\n",
       "      <td>male</td>\n",
       "      <td>22.0</td>\n",
       "      <td>1</td>\n",
       "      <td>0</td>\n",
       "      <td>A/5 21171</td>\n",
       "      <td>7.2500</td>\n",
       "      <td>NaN</td>\n",
       "      <td>S</td>\n",
       "    </tr>\n",
       "    <tr>\n",
       "      <th>2</th>\n",
       "      <td>1</td>\n",
       "      <td>1</td>\n",
       "      <td>Cumings, Mrs. John Bradley (Florence Briggs Th...</td>\n",
       "      <td>female</td>\n",
       "      <td>38.0</td>\n",
       "      <td>1</td>\n",
       "      <td>0</td>\n",
       "      <td>PC 17599</td>\n",
       "      <td>71.2833</td>\n",
       "      <td>C85</td>\n",
       "      <td>C</td>\n",
       "    </tr>\n",
       "    <tr>\n",
       "      <th>3</th>\n",
       "      <td>1</td>\n",
       "      <td>3</td>\n",
       "      <td>Heikkinen, Miss. Laina</td>\n",
       "      <td>female</td>\n",
       "      <td>26.0</td>\n",
       "      <td>0</td>\n",
       "      <td>0</td>\n",
       "      <td>STON/O2. 3101282</td>\n",
       "      <td>7.9250</td>\n",
       "      <td>NaN</td>\n",
       "      <td>S</td>\n",
       "    </tr>\n",
       "    <tr>\n",
       "      <th>4</th>\n",
       "      <td>1</td>\n",
       "      <td>1</td>\n",
       "      <td>Futrelle, Mrs. Jacques Heath (Lily May Peel)</td>\n",
       "      <td>female</td>\n",
       "      <td>35.0</td>\n",
       "      <td>1</td>\n",
       "      <td>0</td>\n",
       "      <td>113803</td>\n",
       "      <td>53.1000</td>\n",
       "      <td>C123</td>\n",
       "      <td>S</td>\n",
       "    </tr>\n",
       "    <tr>\n",
       "      <th>5</th>\n",
       "      <td>0</td>\n",
       "      <td>3</td>\n",
       "      <td>Allen, Mr. William Henry</td>\n",
       "      <td>male</td>\n",
       "      <td>35.0</td>\n",
       "      <td>0</td>\n",
       "      <td>0</td>\n",
       "      <td>373450</td>\n",
       "      <td>8.0500</td>\n",
       "      <td>NaN</td>\n",
       "      <td>S</td>\n",
       "    </tr>\n",
       "    <tr>\n",
       "      <th>...</th>\n",
       "      <td>...</td>\n",
       "      <td>...</td>\n",
       "      <td>...</td>\n",
       "      <td>...</td>\n",
       "      <td>...</td>\n",
       "      <td>...</td>\n",
       "      <td>...</td>\n",
       "      <td>...</td>\n",
       "      <td>...</td>\n",
       "      <td>...</td>\n",
       "      <td>...</td>\n",
       "    </tr>\n",
       "    <tr>\n",
       "      <th>887</th>\n",
       "      <td>0</td>\n",
       "      <td>2</td>\n",
       "      <td>Montvila, Rev. Juozas</td>\n",
       "      <td>male</td>\n",
       "      <td>27.0</td>\n",
       "      <td>0</td>\n",
       "      <td>0</td>\n",
       "      <td>211536</td>\n",
       "      <td>13.0000</td>\n",
       "      <td>NaN</td>\n",
       "      <td>S</td>\n",
       "    </tr>\n",
       "    <tr>\n",
       "      <th>888</th>\n",
       "      <td>1</td>\n",
       "      <td>1</td>\n",
       "      <td>Graham, Miss. Margaret Edith</td>\n",
       "      <td>female</td>\n",
       "      <td>19.0</td>\n",
       "      <td>0</td>\n",
       "      <td>0</td>\n",
       "      <td>112053</td>\n",
       "      <td>30.0000</td>\n",
       "      <td>B42</td>\n",
       "      <td>S</td>\n",
       "    </tr>\n",
       "    <tr>\n",
       "      <th>889</th>\n",
       "      <td>0</td>\n",
       "      <td>3</td>\n",
       "      <td>Johnston, Miss. Catherine Helen \"Carrie\"</td>\n",
       "      <td>female</td>\n",
       "      <td>NaN</td>\n",
       "      <td>1</td>\n",
       "      <td>2</td>\n",
       "      <td>W./C. 6607</td>\n",
       "      <td>23.4500</td>\n",
       "      <td>NaN</td>\n",
       "      <td>S</td>\n",
       "    </tr>\n",
       "    <tr>\n",
       "      <th>890</th>\n",
       "      <td>1</td>\n",
       "      <td>1</td>\n",
       "      <td>Behr, Mr. Karl Howell</td>\n",
       "      <td>male</td>\n",
       "      <td>26.0</td>\n",
       "      <td>0</td>\n",
       "      <td>0</td>\n",
       "      <td>111369</td>\n",
       "      <td>30.0000</td>\n",
       "      <td>C148</td>\n",
       "      <td>C</td>\n",
       "    </tr>\n",
       "    <tr>\n",
       "      <th>891</th>\n",
       "      <td>0</td>\n",
       "      <td>3</td>\n",
       "      <td>Dooley, Mr. Patrick</td>\n",
       "      <td>male</td>\n",
       "      <td>32.0</td>\n",
       "      <td>0</td>\n",
       "      <td>0</td>\n",
       "      <td>370376</td>\n",
       "      <td>7.7500</td>\n",
       "      <td>NaN</td>\n",
       "      <td>Q</td>\n",
       "    </tr>\n",
       "  </tbody>\n",
       "</table>\n",
       "<p>891 rows × 11 columns</p>\n",
       "</div>"
      ],
      "text/plain": [
       "             Survived  Pclass  \\\n",
       "PassengerId                     \n",
       "1                   0       3   \n",
       "2                   1       1   \n",
       "3                   1       3   \n",
       "4                   1       1   \n",
       "5                   0       3   \n",
       "...               ...     ...   \n",
       "887                 0       2   \n",
       "888                 1       1   \n",
       "889                 0       3   \n",
       "890                 1       1   \n",
       "891                 0       3   \n",
       "\n",
       "                                                          Name     Sex   Age  \\\n",
       "PassengerId                                                                    \n",
       "1                                      Braund, Mr. Owen Harris    male  22.0   \n",
       "2            Cumings, Mrs. John Bradley (Florence Briggs Th...  female  38.0   \n",
       "3                                       Heikkinen, Miss. Laina  female  26.0   \n",
       "4                 Futrelle, Mrs. Jacques Heath (Lily May Peel)  female  35.0   \n",
       "5                                     Allen, Mr. William Henry    male  35.0   \n",
       "...                                                        ...     ...   ...   \n",
       "887                                      Montvila, Rev. Juozas    male  27.0   \n",
       "888                               Graham, Miss. Margaret Edith  female  19.0   \n",
       "889                   Johnston, Miss. Catherine Helen \"Carrie\"  female   NaN   \n",
       "890                                      Behr, Mr. Karl Howell    male  26.0   \n",
       "891                                        Dooley, Mr. Patrick    male  32.0   \n",
       "\n",
       "             SibSp  Parch            Ticket     Fare Cabin Embarked  \n",
       "PassengerId                                                          \n",
       "1                1      0         A/5 21171   7.2500   NaN        S  \n",
       "2                1      0          PC 17599  71.2833   C85        C  \n",
       "3                0      0  STON/O2. 3101282   7.9250   NaN        S  \n",
       "4                1      0            113803  53.1000  C123        S  \n",
       "5                0      0            373450   8.0500   NaN        S  \n",
       "...            ...    ...               ...      ...   ...      ...  \n",
       "887              0      0            211536  13.0000   NaN        S  \n",
       "888              0      0            112053  30.0000   B42        S  \n",
       "889              1      2        W./C. 6607  23.4500   NaN        S  \n",
       "890              0      0            111369  30.0000  C148        C  \n",
       "891              0      0            370376   7.7500   NaN        Q  \n",
       "\n",
       "[891 rows x 11 columns]"
      ]
     },
     "execution_count": 2,
     "metadata": {},
     "output_type": "execute_result"
    }
   ],
   "source": [
    "df_train = pd.read_csv(\"../input/titanic/train.csv\", index_col='PassengerId')\n",
    "df_train"
   ]
  },
  {
   "cell_type": "markdown",
   "id": "c622a936",
   "metadata": {
    "papermill": {
     "duration": 0.012832,
     "end_time": "2022-07-20T21:02:09.277985",
     "exception": false,
     "start_time": "2022-07-20T21:02:09.265153",
     "status": "completed"
    },
    "tags": []
   },
   "source": [
    "### load test data"
   ]
  },
  {
   "cell_type": "code",
   "execution_count": 3,
   "id": "92c32b31",
   "metadata": {
    "execution": {
     "iopub.execute_input": "2022-07-20T21:02:09.304633Z",
     "iopub.status.busy": "2022-07-20T21:02:09.303729Z",
     "iopub.status.idle": "2022-07-20T21:02:09.338799Z",
     "shell.execute_reply": "2022-07-20T21:02:09.337560Z"
    },
    "papermill": {
     "duration": 0.051331,
     "end_time": "2022-07-20T21:02:09.341478",
     "exception": false,
     "start_time": "2022-07-20T21:02:09.290147",
     "status": "completed"
    },
    "tags": []
   },
   "outputs": [
    {
     "data": {
      "text/html": [
       "<div>\n",
       "<style scoped>\n",
       "    .dataframe tbody tr th:only-of-type {\n",
       "        vertical-align: middle;\n",
       "    }\n",
       "\n",
       "    .dataframe tbody tr th {\n",
       "        vertical-align: top;\n",
       "    }\n",
       "\n",
       "    .dataframe thead th {\n",
       "        text-align: right;\n",
       "    }\n",
       "</style>\n",
       "<table border=\"1\" class=\"dataframe\">\n",
       "  <thead>\n",
       "    <tr style=\"text-align: right;\">\n",
       "      <th></th>\n",
       "      <th>Pclass</th>\n",
       "      <th>Name</th>\n",
       "      <th>Sex</th>\n",
       "      <th>Age</th>\n",
       "      <th>SibSp</th>\n",
       "      <th>Parch</th>\n",
       "      <th>Ticket</th>\n",
       "      <th>Fare</th>\n",
       "      <th>Cabin</th>\n",
       "      <th>Embarked</th>\n",
       "    </tr>\n",
       "    <tr>\n",
       "      <th>PassengerId</th>\n",
       "      <th></th>\n",
       "      <th></th>\n",
       "      <th></th>\n",
       "      <th></th>\n",
       "      <th></th>\n",
       "      <th></th>\n",
       "      <th></th>\n",
       "      <th></th>\n",
       "      <th></th>\n",
       "      <th></th>\n",
       "    </tr>\n",
       "  </thead>\n",
       "  <tbody>\n",
       "    <tr>\n",
       "      <th>892</th>\n",
       "      <td>3</td>\n",
       "      <td>Kelly, Mr. James</td>\n",
       "      <td>male</td>\n",
       "      <td>34.5</td>\n",
       "      <td>0</td>\n",
       "      <td>0</td>\n",
       "      <td>330911</td>\n",
       "      <td>7.8292</td>\n",
       "      <td>NaN</td>\n",
       "      <td>Q</td>\n",
       "    </tr>\n",
       "    <tr>\n",
       "      <th>893</th>\n",
       "      <td>3</td>\n",
       "      <td>Wilkes, Mrs. James (Ellen Needs)</td>\n",
       "      <td>female</td>\n",
       "      <td>47.0</td>\n",
       "      <td>1</td>\n",
       "      <td>0</td>\n",
       "      <td>363272</td>\n",
       "      <td>7.0000</td>\n",
       "      <td>NaN</td>\n",
       "      <td>S</td>\n",
       "    </tr>\n",
       "    <tr>\n",
       "      <th>894</th>\n",
       "      <td>2</td>\n",
       "      <td>Myles, Mr. Thomas Francis</td>\n",
       "      <td>male</td>\n",
       "      <td>62.0</td>\n",
       "      <td>0</td>\n",
       "      <td>0</td>\n",
       "      <td>240276</td>\n",
       "      <td>9.6875</td>\n",
       "      <td>NaN</td>\n",
       "      <td>Q</td>\n",
       "    </tr>\n",
       "    <tr>\n",
       "      <th>895</th>\n",
       "      <td>3</td>\n",
       "      <td>Wirz, Mr. Albert</td>\n",
       "      <td>male</td>\n",
       "      <td>27.0</td>\n",
       "      <td>0</td>\n",
       "      <td>0</td>\n",
       "      <td>315154</td>\n",
       "      <td>8.6625</td>\n",
       "      <td>NaN</td>\n",
       "      <td>S</td>\n",
       "    </tr>\n",
       "    <tr>\n",
       "      <th>896</th>\n",
       "      <td>3</td>\n",
       "      <td>Hirvonen, Mrs. Alexander (Helga E Lindqvist)</td>\n",
       "      <td>female</td>\n",
       "      <td>22.0</td>\n",
       "      <td>1</td>\n",
       "      <td>1</td>\n",
       "      <td>3101298</td>\n",
       "      <td>12.2875</td>\n",
       "      <td>NaN</td>\n",
       "      <td>S</td>\n",
       "    </tr>\n",
       "    <tr>\n",
       "      <th>...</th>\n",
       "      <td>...</td>\n",
       "      <td>...</td>\n",
       "      <td>...</td>\n",
       "      <td>...</td>\n",
       "      <td>...</td>\n",
       "      <td>...</td>\n",
       "      <td>...</td>\n",
       "      <td>...</td>\n",
       "      <td>...</td>\n",
       "      <td>...</td>\n",
       "    </tr>\n",
       "    <tr>\n",
       "      <th>1305</th>\n",
       "      <td>3</td>\n",
       "      <td>Spector, Mr. Woolf</td>\n",
       "      <td>male</td>\n",
       "      <td>NaN</td>\n",
       "      <td>0</td>\n",
       "      <td>0</td>\n",
       "      <td>A.5. 3236</td>\n",
       "      <td>8.0500</td>\n",
       "      <td>NaN</td>\n",
       "      <td>S</td>\n",
       "    </tr>\n",
       "    <tr>\n",
       "      <th>1306</th>\n",
       "      <td>1</td>\n",
       "      <td>Oliva y Ocana, Dona. Fermina</td>\n",
       "      <td>female</td>\n",
       "      <td>39.0</td>\n",
       "      <td>0</td>\n",
       "      <td>0</td>\n",
       "      <td>PC 17758</td>\n",
       "      <td>108.9000</td>\n",
       "      <td>C105</td>\n",
       "      <td>C</td>\n",
       "    </tr>\n",
       "    <tr>\n",
       "      <th>1307</th>\n",
       "      <td>3</td>\n",
       "      <td>Saether, Mr. Simon Sivertsen</td>\n",
       "      <td>male</td>\n",
       "      <td>38.5</td>\n",
       "      <td>0</td>\n",
       "      <td>0</td>\n",
       "      <td>SOTON/O.Q. 3101262</td>\n",
       "      <td>7.2500</td>\n",
       "      <td>NaN</td>\n",
       "      <td>S</td>\n",
       "    </tr>\n",
       "    <tr>\n",
       "      <th>1308</th>\n",
       "      <td>3</td>\n",
       "      <td>Ware, Mr. Frederick</td>\n",
       "      <td>male</td>\n",
       "      <td>NaN</td>\n",
       "      <td>0</td>\n",
       "      <td>0</td>\n",
       "      <td>359309</td>\n",
       "      <td>8.0500</td>\n",
       "      <td>NaN</td>\n",
       "      <td>S</td>\n",
       "    </tr>\n",
       "    <tr>\n",
       "      <th>1309</th>\n",
       "      <td>3</td>\n",
       "      <td>Peter, Master. Michael J</td>\n",
       "      <td>male</td>\n",
       "      <td>NaN</td>\n",
       "      <td>1</td>\n",
       "      <td>1</td>\n",
       "      <td>2668</td>\n",
       "      <td>22.3583</td>\n",
       "      <td>NaN</td>\n",
       "      <td>C</td>\n",
       "    </tr>\n",
       "  </tbody>\n",
       "</table>\n",
       "<p>418 rows × 10 columns</p>\n",
       "</div>"
      ],
      "text/plain": [
       "             Pclass                                          Name     Sex  \\\n",
       "PassengerId                                                                 \n",
       "892               3                              Kelly, Mr. James    male   \n",
       "893               3              Wilkes, Mrs. James (Ellen Needs)  female   \n",
       "894               2                     Myles, Mr. Thomas Francis    male   \n",
       "895               3                              Wirz, Mr. Albert    male   \n",
       "896               3  Hirvonen, Mrs. Alexander (Helga E Lindqvist)  female   \n",
       "...             ...                                           ...     ...   \n",
       "1305              3                            Spector, Mr. Woolf    male   \n",
       "1306              1                  Oliva y Ocana, Dona. Fermina  female   \n",
       "1307              3                  Saether, Mr. Simon Sivertsen    male   \n",
       "1308              3                           Ware, Mr. Frederick    male   \n",
       "1309              3                      Peter, Master. Michael J    male   \n",
       "\n",
       "              Age  SibSp  Parch              Ticket      Fare Cabin Embarked  \n",
       "PassengerId                                                                   \n",
       "892          34.5      0      0              330911    7.8292   NaN        Q  \n",
       "893          47.0      1      0              363272    7.0000   NaN        S  \n",
       "894          62.0      0      0              240276    9.6875   NaN        Q  \n",
       "895          27.0      0      0              315154    8.6625   NaN        S  \n",
       "896          22.0      1      1             3101298   12.2875   NaN        S  \n",
       "...           ...    ...    ...                 ...       ...   ...      ...  \n",
       "1305          NaN      0      0           A.5. 3236    8.0500   NaN        S  \n",
       "1306         39.0      0      0            PC 17758  108.9000  C105        C  \n",
       "1307         38.5      0      0  SOTON/O.Q. 3101262    7.2500   NaN        S  \n",
       "1308          NaN      0      0              359309    8.0500   NaN        S  \n",
       "1309          NaN      1      1                2668   22.3583   NaN        C  \n",
       "\n",
       "[418 rows x 10 columns]"
      ]
     },
     "execution_count": 3,
     "metadata": {},
     "output_type": "execute_result"
    }
   ],
   "source": [
    "df_test = pd.read_csv(\"../input/titanic/test.csv\", index_col='PassengerId')\n",
    "df_test"
   ]
  },
  {
   "cell_type": "markdown",
   "id": "86c41c14",
   "metadata": {
    "papermill": {
     "duration": 0.010721,
     "end_time": "2022-07-20T21:02:09.363462",
     "exception": false,
     "start_time": "2022-07-20T21:02:09.352741",
     "status": "completed"
    },
    "tags": []
   },
   "source": [
    "### join train and test data"
   ]
  },
  {
   "cell_type": "code",
   "execution_count": 4,
   "id": "c6f6f8ff",
   "metadata": {
    "execution": {
     "iopub.execute_input": "2022-07-20T21:02:09.388428Z",
     "iopub.status.busy": "2022-07-20T21:02:09.387915Z",
     "iopub.status.idle": "2022-07-20T21:02:09.420974Z",
     "shell.execute_reply": "2022-07-20T21:02:09.419384Z"
    },
    "papermill": {
     "duration": 0.049541,
     "end_time": "2022-07-20T21:02:09.424954",
     "exception": false,
     "start_time": "2022-07-20T21:02:09.375413",
     "status": "completed"
    },
    "tags": []
   },
   "outputs": [
    {
     "data": {
      "text/html": [
       "<div>\n",
       "<style scoped>\n",
       "    .dataframe tbody tr th:only-of-type {\n",
       "        vertical-align: middle;\n",
       "    }\n",
       "\n",
       "    .dataframe tbody tr th {\n",
       "        vertical-align: top;\n",
       "    }\n",
       "\n",
       "    .dataframe thead th {\n",
       "        text-align: right;\n",
       "    }\n",
       "</style>\n",
       "<table border=\"1\" class=\"dataframe\">\n",
       "  <thead>\n",
       "    <tr style=\"text-align: right;\">\n",
       "      <th></th>\n",
       "      <th>Survived</th>\n",
       "      <th>Pclass</th>\n",
       "      <th>Name</th>\n",
       "      <th>Sex</th>\n",
       "      <th>Age</th>\n",
       "      <th>SibSp</th>\n",
       "      <th>Parch</th>\n",
       "      <th>Ticket</th>\n",
       "      <th>Fare</th>\n",
       "      <th>Cabin</th>\n",
       "      <th>Embarked</th>\n",
       "    </tr>\n",
       "    <tr>\n",
       "      <th>PassengerId</th>\n",
       "      <th></th>\n",
       "      <th></th>\n",
       "      <th></th>\n",
       "      <th></th>\n",
       "      <th></th>\n",
       "      <th></th>\n",
       "      <th></th>\n",
       "      <th></th>\n",
       "      <th></th>\n",
       "      <th></th>\n",
       "      <th></th>\n",
       "    </tr>\n",
       "  </thead>\n",
       "  <tbody>\n",
       "    <tr>\n",
       "      <th>1</th>\n",
       "      <td>0.0</td>\n",
       "      <td>3</td>\n",
       "      <td>Braund, Mr. Owen Harris</td>\n",
       "      <td>male</td>\n",
       "      <td>22.0</td>\n",
       "      <td>1</td>\n",
       "      <td>0</td>\n",
       "      <td>A/5 21171</td>\n",
       "      <td>7.2500</td>\n",
       "      <td>NaN</td>\n",
       "      <td>S</td>\n",
       "    </tr>\n",
       "    <tr>\n",
       "      <th>2</th>\n",
       "      <td>1.0</td>\n",
       "      <td>1</td>\n",
       "      <td>Cumings, Mrs. John Bradley (Florence Briggs Th...</td>\n",
       "      <td>female</td>\n",
       "      <td>38.0</td>\n",
       "      <td>1</td>\n",
       "      <td>0</td>\n",
       "      <td>PC 17599</td>\n",
       "      <td>71.2833</td>\n",
       "      <td>C85</td>\n",
       "      <td>C</td>\n",
       "    </tr>\n",
       "    <tr>\n",
       "      <th>3</th>\n",
       "      <td>1.0</td>\n",
       "      <td>3</td>\n",
       "      <td>Heikkinen, Miss. Laina</td>\n",
       "      <td>female</td>\n",
       "      <td>26.0</td>\n",
       "      <td>0</td>\n",
       "      <td>0</td>\n",
       "      <td>STON/O2. 3101282</td>\n",
       "      <td>7.9250</td>\n",
       "      <td>NaN</td>\n",
       "      <td>S</td>\n",
       "    </tr>\n",
       "    <tr>\n",
       "      <th>4</th>\n",
       "      <td>1.0</td>\n",
       "      <td>1</td>\n",
       "      <td>Futrelle, Mrs. Jacques Heath (Lily May Peel)</td>\n",
       "      <td>female</td>\n",
       "      <td>35.0</td>\n",
       "      <td>1</td>\n",
       "      <td>0</td>\n",
       "      <td>113803</td>\n",
       "      <td>53.1000</td>\n",
       "      <td>C123</td>\n",
       "      <td>S</td>\n",
       "    </tr>\n",
       "    <tr>\n",
       "      <th>5</th>\n",
       "      <td>0.0</td>\n",
       "      <td>3</td>\n",
       "      <td>Allen, Mr. William Henry</td>\n",
       "      <td>male</td>\n",
       "      <td>35.0</td>\n",
       "      <td>0</td>\n",
       "      <td>0</td>\n",
       "      <td>373450</td>\n",
       "      <td>8.0500</td>\n",
       "      <td>NaN</td>\n",
       "      <td>S</td>\n",
       "    </tr>\n",
       "    <tr>\n",
       "      <th>...</th>\n",
       "      <td>...</td>\n",
       "      <td>...</td>\n",
       "      <td>...</td>\n",
       "      <td>...</td>\n",
       "      <td>...</td>\n",
       "      <td>...</td>\n",
       "      <td>...</td>\n",
       "      <td>...</td>\n",
       "      <td>...</td>\n",
       "      <td>...</td>\n",
       "      <td>...</td>\n",
       "    </tr>\n",
       "    <tr>\n",
       "      <th>1305</th>\n",
       "      <td>NaN</td>\n",
       "      <td>3</td>\n",
       "      <td>Spector, Mr. Woolf</td>\n",
       "      <td>male</td>\n",
       "      <td>NaN</td>\n",
       "      <td>0</td>\n",
       "      <td>0</td>\n",
       "      <td>A.5. 3236</td>\n",
       "      <td>8.0500</td>\n",
       "      <td>NaN</td>\n",
       "      <td>S</td>\n",
       "    </tr>\n",
       "    <tr>\n",
       "      <th>1306</th>\n",
       "      <td>NaN</td>\n",
       "      <td>1</td>\n",
       "      <td>Oliva y Ocana, Dona. Fermina</td>\n",
       "      <td>female</td>\n",
       "      <td>39.0</td>\n",
       "      <td>0</td>\n",
       "      <td>0</td>\n",
       "      <td>PC 17758</td>\n",
       "      <td>108.9000</td>\n",
       "      <td>C105</td>\n",
       "      <td>C</td>\n",
       "    </tr>\n",
       "    <tr>\n",
       "      <th>1307</th>\n",
       "      <td>NaN</td>\n",
       "      <td>3</td>\n",
       "      <td>Saether, Mr. Simon Sivertsen</td>\n",
       "      <td>male</td>\n",
       "      <td>38.5</td>\n",
       "      <td>0</td>\n",
       "      <td>0</td>\n",
       "      <td>SOTON/O.Q. 3101262</td>\n",
       "      <td>7.2500</td>\n",
       "      <td>NaN</td>\n",
       "      <td>S</td>\n",
       "    </tr>\n",
       "    <tr>\n",
       "      <th>1308</th>\n",
       "      <td>NaN</td>\n",
       "      <td>3</td>\n",
       "      <td>Ware, Mr. Frederick</td>\n",
       "      <td>male</td>\n",
       "      <td>NaN</td>\n",
       "      <td>0</td>\n",
       "      <td>0</td>\n",
       "      <td>359309</td>\n",
       "      <td>8.0500</td>\n",
       "      <td>NaN</td>\n",
       "      <td>S</td>\n",
       "    </tr>\n",
       "    <tr>\n",
       "      <th>1309</th>\n",
       "      <td>NaN</td>\n",
       "      <td>3</td>\n",
       "      <td>Peter, Master. Michael J</td>\n",
       "      <td>male</td>\n",
       "      <td>NaN</td>\n",
       "      <td>1</td>\n",
       "      <td>1</td>\n",
       "      <td>2668</td>\n",
       "      <td>22.3583</td>\n",
       "      <td>NaN</td>\n",
       "      <td>C</td>\n",
       "    </tr>\n",
       "  </tbody>\n",
       "</table>\n",
       "<p>1309 rows × 11 columns</p>\n",
       "</div>"
      ],
      "text/plain": [
       "             Survived  Pclass  \\\n",
       "PassengerId                     \n",
       "1                 0.0       3   \n",
       "2                 1.0       1   \n",
       "3                 1.0       3   \n",
       "4                 1.0       1   \n",
       "5                 0.0       3   \n",
       "...               ...     ...   \n",
       "1305              NaN       3   \n",
       "1306              NaN       1   \n",
       "1307              NaN       3   \n",
       "1308              NaN       3   \n",
       "1309              NaN       3   \n",
       "\n",
       "                                                          Name     Sex   Age  \\\n",
       "PassengerId                                                                    \n",
       "1                                      Braund, Mr. Owen Harris    male  22.0   \n",
       "2            Cumings, Mrs. John Bradley (Florence Briggs Th...  female  38.0   \n",
       "3                                       Heikkinen, Miss. Laina  female  26.0   \n",
       "4                 Futrelle, Mrs. Jacques Heath (Lily May Peel)  female  35.0   \n",
       "5                                     Allen, Mr. William Henry    male  35.0   \n",
       "...                                                        ...     ...   ...   \n",
       "1305                                        Spector, Mr. Woolf    male   NaN   \n",
       "1306                              Oliva y Ocana, Dona. Fermina  female  39.0   \n",
       "1307                              Saether, Mr. Simon Sivertsen    male  38.5   \n",
       "1308                                       Ware, Mr. Frederick    male   NaN   \n",
       "1309                                  Peter, Master. Michael J    male   NaN   \n",
       "\n",
       "             SibSp  Parch              Ticket      Fare Cabin Embarked  \n",
       "PassengerId                                                             \n",
       "1                1      0           A/5 21171    7.2500   NaN        S  \n",
       "2                1      0            PC 17599   71.2833   C85        C  \n",
       "3                0      0    STON/O2. 3101282    7.9250   NaN        S  \n",
       "4                1      0              113803   53.1000  C123        S  \n",
       "5                0      0              373450    8.0500   NaN        S  \n",
       "...            ...    ...                 ...       ...   ...      ...  \n",
       "1305             0      0           A.5. 3236    8.0500   NaN        S  \n",
       "1306             0      0            PC 17758  108.9000  C105        C  \n",
       "1307             0      0  SOTON/O.Q. 3101262    7.2500   NaN        S  \n",
       "1308             0      0              359309    8.0500   NaN        S  \n",
       "1309             1      1                2668   22.3583   NaN        C  \n",
       "\n",
       "[1309 rows x 11 columns]"
      ]
     },
     "execution_count": 4,
     "metadata": {},
     "output_type": "execute_result"
    }
   ],
   "source": [
    "df_full = pd.concat([df_train, df_test])\n",
    "df_full"
   ]
  },
  {
   "cell_type": "markdown",
   "id": "ba8c5389",
   "metadata": {
    "papermill": {
     "duration": 0.012205,
     "end_time": "2022-07-20T21:02:09.449944",
     "exception": false,
     "start_time": "2022-07-20T21:02:09.437739",
     "status": "completed"
    },
    "tags": []
   },
   "source": [
    "## analyze data\n",
    "Analyze full data to select and create useful features."
   ]
  },
  {
   "cell_type": "markdown",
   "id": "830658b8",
   "metadata": {
    "papermill": {
     "duration": 0.011019,
     "end_time": "2022-07-20T21:02:09.474442",
     "exception": false,
     "start_time": "2022-07-20T21:02:09.463423",
     "status": "completed"
    },
    "tags": []
   },
   "source": [
    "### find all missing features"
   ]
  },
  {
   "cell_type": "code",
   "execution_count": 5,
   "id": "7a3b700c",
   "metadata": {
    "execution": {
     "iopub.execute_input": "2022-07-20T21:02:09.499501Z",
     "iopub.status.busy": "2022-07-20T21:02:09.498970Z",
     "iopub.status.idle": "2022-07-20T21:02:09.515497Z",
     "shell.execute_reply": "2022-07-20T21:02:09.514172Z"
    },
    "papermill": {
     "duration": 0.032509,
     "end_time": "2022-07-20T21:02:09.518322",
     "exception": false,
     "start_time": "2022-07-20T21:02:09.485813",
     "status": "completed"
    },
    "tags": []
   },
   "outputs": [
    {
     "name": "stdout",
     "output_type": "stream",
     "text": [
      "Age --- 263 / 1309\n",
      "Fare --- 1 / 1309\n",
      "Cabin --- 1014 / 1309\n",
      "Embarked --- 2 / 1309\n"
     ]
    }
   ],
   "source": [
    "missing_features = [column for column in df_full.columns if df_full[column].isnull().any()]\n",
    "missing_features.remove('Survived')\n",
    "for feature in missing_features:\n",
    "    print(feature, '---', df_full[feature].isnull().sum(), '/', df_full.shape[0])"
   ]
  },
  {
   "cell_type": "markdown",
   "id": "4b1c36ca",
   "metadata": {
    "papermill": {
     "duration": 0.011629,
     "end_time": "2022-07-20T21:02:09.541466",
     "exception": false,
     "start_time": "2022-07-20T21:02:09.529837",
     "status": "completed"
    },
    "tags": []
   },
   "source": [
    "### calculate cardinality of categorical features"
   ]
  },
  {
   "cell_type": "code",
   "execution_count": 6,
   "id": "85565584",
   "metadata": {
    "execution": {
     "iopub.execute_input": "2022-07-20T21:02:09.569795Z",
     "iopub.status.busy": "2022-07-20T21:02:09.568426Z",
     "iopub.status.idle": "2022-07-20T21:02:09.579284Z",
     "shell.execute_reply": "2022-07-20T21:02:09.578223Z"
    },
    "papermill": {
     "duration": 0.027949,
     "end_time": "2022-07-20T21:02:09.582825",
     "exception": false,
     "start_time": "2022-07-20T21:02:09.554876",
     "status": "completed"
    },
    "tags": []
   },
   "outputs": [
    {
     "name": "stdout",
     "output_type": "stream",
     "text": [
      "Name --- 1307\n",
      "Sex --- 2\n",
      "Ticket --- 929\n",
      "Cabin --- 187\n",
      "Embarked --- 4\n"
     ]
    }
   ],
   "source": [
    "for column in df_full.columns:\n",
    "    if df_full[column].dtype == object:\n",
    "        print(column, '---', len(df_full[column].unique()))"
   ]
  },
  {
   "cell_type": "markdown",
   "id": "8cc77123",
   "metadata": {
    "papermill": {
     "duration": 0.011326,
     "end_time": "2022-07-20T21:02:09.606553",
     "exception": false,
     "start_time": "2022-07-20T21:02:09.595227",
     "status": "completed"
    },
    "tags": []
   },
   "source": [
    "## Split data\n",
    "Split data into input and label data and also split train data into train and validation data."
   ]
  },
  {
   "cell_type": "markdown",
   "id": "6a17cf38",
   "metadata": {
    "papermill": {
     "duration": 0.010925,
     "end_time": "2022-07-20T21:02:09.628896",
     "exception": false,
     "start_time": "2022-07-20T21:02:09.617971",
     "status": "completed"
    },
    "tags": []
   },
   "source": [
    "### Split data into input and label data"
   ]
  },
  {
   "cell_type": "code",
   "execution_count": 7,
   "id": "5869f0a5",
   "metadata": {
    "execution": {
     "iopub.execute_input": "2022-07-20T21:02:09.655457Z",
     "iopub.status.busy": "2022-07-20T21:02:09.653952Z",
     "iopub.status.idle": "2022-07-20T21:02:09.664371Z",
     "shell.execute_reply": "2022-07-20T21:02:09.662903Z"
    },
    "papermill": {
     "duration": 0.026429,
     "end_time": "2022-07-20T21:02:09.667285",
     "exception": false,
     "start_time": "2022-07-20T21:02:09.640856",
     "status": "completed"
    },
    "tags": []
   },
   "outputs": [
    {
     "name": "stdout",
     "output_type": "stream",
     "text": [
      "(891, 10)\n",
      "(418, 10)\n"
     ]
    }
   ],
   "source": [
    "x_train = df_train.drop('Survived', axis=1)\n",
    "y_train = df_train['Survived']\n",
    "x_test = df_test.copy()\n",
    "print(x_train.shape)\n",
    "print(x_test.shape)"
   ]
  },
  {
   "cell_type": "markdown",
   "id": "f4d15c11",
   "metadata": {
    "papermill": {
     "duration": 0.01199,
     "end_time": "2022-07-20T21:02:09.690944",
     "exception": false,
     "start_time": "2022-07-20T21:02:09.678954",
     "status": "completed"
    },
    "tags": []
   },
   "source": [
    "## Data cleaning\n",
    "Clean data for the best performance."
   ]
  },
  {
   "cell_type": "markdown",
   "id": "2cd7d92c",
   "metadata": {
    "papermill": {
     "duration": 0.011029,
     "end_time": "2022-07-20T21:02:09.713630",
     "exception": false,
     "start_time": "2022-07-20T21:02:09.702601",
     "status": "completed"
    },
    "tags": []
   },
   "source": [
    "### Drop missing features"
   ]
  },
  {
   "cell_type": "code",
   "execution_count": 8,
   "id": "39e820c8",
   "metadata": {
    "execution": {
     "iopub.execute_input": "2022-07-20T21:02:09.739984Z",
     "iopub.status.busy": "2022-07-20T21:02:09.738321Z",
     "iopub.status.idle": "2022-07-20T21:02:09.748907Z",
     "shell.execute_reply": "2022-07-20T21:02:09.747884Z"
    },
    "papermill": {
     "duration": 0.027474,
     "end_time": "2022-07-20T21:02:09.752666",
     "exception": false,
     "start_time": "2022-07-20T21:02:09.725192",
     "status": "completed"
    },
    "tags": []
   },
   "outputs": [
    {
     "name": "stdout",
     "output_type": "stream",
     "text": [
      "Index(['Pclass', 'Name', 'Sex', 'SibSp', 'Parch', 'Ticket', 'Fare',\n",
      "       'Embarked'],\n",
      "      dtype='object')\n",
      "Index(['Pclass', 'Name', 'Sex', 'SibSp', 'Parch', 'Ticket', 'Fare',\n",
      "       'Embarked'],\n",
      "      dtype='object')\n"
     ]
    }
   ],
   "source": [
    "missing_features = ['Cabin', 'Age']\n",
    "x_train = x_train.drop(missing_features, axis=1)\n",
    "x_test = x_test.drop(missing_features, axis=1)\n",
    "print(x_train.columns)\n",
    "print(x_test.columns)"
   ]
  },
  {
   "cell_type": "markdown",
   "id": "d533bb7c",
   "metadata": {
    "papermill": {
     "duration": 0.011243,
     "end_time": "2022-07-20T21:02:09.776337",
     "exception": false,
     "start_time": "2022-07-20T21:02:09.765094",
     "status": "completed"
    },
    "tags": []
   },
   "source": [
    "### Drop high-cardinality categorical features"
   ]
  },
  {
   "cell_type": "code",
   "execution_count": 9,
   "id": "89fdf335",
   "metadata": {
    "execution": {
     "iopub.execute_input": "2022-07-20T21:02:09.803042Z",
     "iopub.status.busy": "2022-07-20T21:02:09.802339Z",
     "iopub.status.idle": "2022-07-20T21:02:09.814713Z",
     "shell.execute_reply": "2022-07-20T21:02:09.813432Z"
    },
    "papermill": {
     "duration": 0.029885,
     "end_time": "2022-07-20T21:02:09.817952",
     "exception": false,
     "start_time": "2022-07-20T21:02:09.788067",
     "status": "completed"
    },
    "tags": []
   },
   "outputs": [
    {
     "name": "stdout",
     "output_type": "stream",
     "text": [
      "Index(['Pclass', 'Sex', 'SibSp', 'Parch', 'Fare', 'Embarked'], dtype='object')\n",
      "Index(['Pclass', 'Sex', 'SibSp', 'Parch', 'Fare', 'Embarked'], dtype='object')\n"
     ]
    }
   ],
   "source": [
    "high_cardinality_features = [column for column in x_train.columns if x_train[column].dtype == object and len(x_train[column].unique()) > 10]\n",
    "x_train = x_train.drop(high_cardinality_features, axis=1)\n",
    "x_test = x_test.drop(high_cardinality_features, axis=1)\n",
    "print(x_train.columns)\n",
    "print(x_test.columns)"
   ]
  },
  {
   "cell_type": "markdown",
   "id": "298415f6",
   "metadata": {
    "papermill": {
     "duration": 0.011282,
     "end_time": "2022-07-20T21:02:09.842511",
     "exception": false,
     "start_time": "2022-07-20T21:02:09.831229",
     "status": "completed"
    },
    "tags": []
   },
   "source": [
    "### Fill missing values (numerical)"
   ]
  },
  {
   "cell_type": "code",
   "execution_count": 10,
   "id": "fa70df82",
   "metadata": {
    "execution": {
     "iopub.execute_input": "2022-07-20T21:02:09.871676Z",
     "iopub.status.busy": "2022-07-20T21:02:09.870907Z",
     "iopub.status.idle": "2022-07-20T21:02:09.887547Z",
     "shell.execute_reply": "2022-07-20T21:02:09.886519Z"
    },
    "papermill": {
     "duration": 0.035469,
     "end_time": "2022-07-20T21:02:09.890059",
     "exception": false,
     "start_time": "2022-07-20T21:02:09.854590",
     "status": "completed"
    },
    "tags": []
   },
   "outputs": [
    {
     "name": "stdout",
     "output_type": "stream",
     "text": [
      "['Pclass', 'SibSp', 'Parch', 'Fare']\n"
     ]
    }
   ],
   "source": [
    "# find all numerical features\n",
    "numerical_features = [column for column in x_train.columns if x_train[column].dtype != object]\n",
    "print(numerical_features)\n",
    "\n",
    "# fill missing values\n",
    "imputer = SimpleImputer()\n",
    "x_train[numerical_features] = imputer.fit_transform(x_train[numerical_features])\n",
    "x_test[numerical_features] = imputer.transform(x_test[numerical_features])"
   ]
  },
  {
   "cell_type": "markdown",
   "id": "02b7724b",
   "metadata": {
    "papermill": {
     "duration": 0.011202,
     "end_time": "2022-07-20T21:02:09.913403",
     "exception": false,
     "start_time": "2022-07-20T21:02:09.902201",
     "status": "completed"
    },
    "tags": []
   },
   "source": [
    "### Fill missing values (categorical)"
   ]
  },
  {
   "cell_type": "code",
   "execution_count": 11,
   "id": "8b79ae15",
   "metadata": {
    "execution": {
     "iopub.execute_input": "2022-07-20T21:02:09.939466Z",
     "iopub.status.busy": "2022-07-20T21:02:09.938733Z",
     "iopub.status.idle": "2022-07-20T21:02:09.954859Z",
     "shell.execute_reply": "2022-07-20T21:02:09.953636Z"
    },
    "papermill": {
     "duration": 0.032502,
     "end_time": "2022-07-20T21:02:09.957702",
     "exception": false,
     "start_time": "2022-07-20T21:02:09.925200",
     "status": "completed"
    },
    "tags": []
   },
   "outputs": [
    {
     "name": "stdout",
     "output_type": "stream",
     "text": [
      "['Sex', 'Embarked']\n"
     ]
    }
   ],
   "source": [
    "# find all numerical features\n",
    "categorical_features = [column for column in x_train.columns if x_train[column].dtype == object]\n",
    "print(categorical_features)\n",
    "\n",
    "# fill missing values\n",
    "imputer = SimpleImputer(strategy=\"most_frequent\")\n",
    "x_train[categorical_features] = imputer.fit_transform(x_train[categorical_features])\n",
    "x_test[categorical_features] = imputer.transform(x_test[categorical_features])"
   ]
  },
  {
   "cell_type": "markdown",
   "id": "8b645dcd",
   "metadata": {
    "papermill": {
     "duration": 0.011454,
     "end_time": "2022-07-20T21:02:09.980996",
     "exception": false,
     "start_time": "2022-07-20T21:02:09.969542",
     "status": "completed"
    },
    "tags": []
   },
   "source": [
    "### ordinal encode for categorical features"
   ]
  },
  {
   "cell_type": "code",
   "execution_count": 12,
   "id": "b67a4695",
   "metadata": {
    "execution": {
     "iopub.execute_input": "2022-07-20T21:02:10.007715Z",
     "iopub.status.busy": "2022-07-20T21:02:10.007218Z",
     "iopub.status.idle": "2022-07-20T21:02:10.024257Z",
     "shell.execute_reply": "2022-07-20T21:02:10.022902Z"
    },
    "papermill": {
     "duration": 0.033633,
     "end_time": "2022-07-20T21:02:10.027035",
     "exception": false,
     "start_time": "2022-07-20T21:02:09.993402",
     "status": "completed"
    },
    "tags": []
   },
   "outputs": [
    {
     "name": "stdout",
     "output_type": "stream",
     "text": [
      "['Sex', 'Embarked']\n"
     ]
    }
   ],
   "source": [
    "# find all categorical features\n",
    "categorical_features = [column for column in x_train.columns if x_train[column].dtype == object]\n",
    "print(categorical_features)\n",
    "\n",
    "# ordinal encode\n",
    "oridnal_encoder = OrdinalEncoder()\n",
    "x_train[categorical_features] = oridnal_encoder.fit_transform(x_train[categorical_features])\n",
    "x_test[categorical_features] = oridnal_encoder.transform(x_test[categorical_features])"
   ]
  },
  {
   "cell_type": "markdown",
   "id": "3a9d62a4",
   "metadata": {
    "papermill": {
     "duration": 0.011412,
     "end_time": "2022-07-20T21:02:10.050479",
     "exception": false,
     "start_time": "2022-07-20T21:02:10.039067",
     "status": "completed"
    },
    "tags": []
   },
   "source": [
    "### Define one-hot encoder for categorical features"
   ]
  },
  {
   "cell_type": "markdown",
   "id": "251eccfb",
   "metadata": {
    "execution": {
     "iopub.execute_input": "2022-07-20T19:12:25.883478Z",
     "iopub.status.busy": "2022-07-20T19:12:25.883041Z",
     "iopub.status.idle": "2022-07-20T19:12:25.893290Z",
     "shell.execute_reply": "2022-07-20T19:12:25.891915Z",
     "shell.execute_reply.started": "2022-07-20T19:12:25.883438Z"
    },
    "papermill": {
     "duration": 0.012263,
     "end_time": "2022-07-20T21:02:10.074569",
     "exception": false,
     "start_time": "2022-07-20T21:02:10.062306",
     "status": "completed"
    },
    "tags": []
   },
   "source": [
    "# find all categorical features\n",
    "categorical_features = [column for column in x_train.columns if x_train[column].dtype == object]\n",
    "print(categorical_features)\n",
    "\n",
    "# encode object columns\n",
    "encoder = OneHotEncoder()\n",
    "encoder.fit(x_train[categorical_features])\n",
    "new_feature_names = encoder.get_feature_names_out(categorical_features)\n",
    "print(new_feature_names)\n",
    "print(encoder.categories_)"
   ]
  },
  {
   "cell_type": "markdown",
   "id": "9694e681",
   "metadata": {
    "papermill": {
     "duration": 0.011549,
     "end_time": "2022-07-20T21:02:10.098378",
     "exception": false,
     "start_time": "2022-07-20T21:02:10.086829",
     "status": "completed"
    },
    "tags": []
   },
   "source": [
    "### Encode categorical features"
   ]
  },
  {
   "cell_type": "markdown",
   "id": "cb684e5e",
   "metadata": {
    "execution": {
     "iopub.execute_input": "2022-07-20T19:12:25.895410Z",
     "iopub.status.busy": "2022-07-20T19:12:25.894834Z",
     "iopub.status.idle": "2022-07-20T19:12:25.912767Z",
     "shell.execute_reply": "2022-07-20T19:12:25.911907Z",
     "shell.execute_reply.started": "2022-07-20T19:12:25.895372Z"
    },
    "papermill": {
     "duration": 0.012109,
     "end_time": "2022-07-20T21:02:10.122920",
     "exception": false,
     "start_time": "2022-07-20T21:02:10.110811",
     "status": "completed"
    },
    "tags": []
   },
   "source": [
    "x_train_encoded = pd.DataFrame(encoder.transform(x_train[categorical_features]).toarray(), columns=new_feature_names, index=x_train.index)\n",
    "x_test_encoded = pd.DataFrame(encoder.transform(x_test[categorical_features]).toarray(), columns=new_feature_names, index=x_test.index)\n",
    "x_train_encoded.head()"
   ]
  },
  {
   "cell_type": "markdown",
   "id": "e3634685",
   "metadata": {
    "papermill": {
     "duration": 0.011794,
     "end_time": "2022-07-20T21:02:10.146605",
     "exception": false,
     "start_time": "2022-07-20T21:02:10.134811",
     "status": "completed"
    },
    "tags": []
   },
   "source": [
    "### Replace categorical features with encoded values"
   ]
  },
  {
   "cell_type": "markdown",
   "id": "325c350e",
   "metadata": {
    "execution": {
     "iopub.execute_input": "2022-07-20T19:12:25.914410Z",
     "iopub.status.busy": "2022-07-20T19:12:25.913797Z",
     "iopub.status.idle": "2022-07-20T19:12:25.934612Z",
     "shell.execute_reply": "2022-07-20T19:12:25.933638Z",
     "shell.execute_reply.started": "2022-07-20T19:12:25.914371Z"
    },
    "papermill": {
     "duration": 0.011586,
     "end_time": "2022-07-20T21:02:10.170284",
     "exception": false,
     "start_time": "2022-07-20T21:02:10.158698",
     "status": "completed"
    },
    "tags": []
   },
   "source": [
    "x_train = x_train.drop(categorical_features, axis=1)\n",
    "x_test = x_test.drop(categorical_features, axis=1)\n",
    "\n",
    "x_train = x_train.join(x_train_encoded)\n",
    "x_test = x_test.join(x_test_encoded)\n",
    "\n",
    "x_train.head()"
   ]
  },
  {
   "cell_type": "markdown",
   "id": "d209bc2c",
   "metadata": {
    "papermill": {
     "duration": 0.011537,
     "end_time": "2022-07-20T21:02:10.193818",
     "exception": false,
     "start_time": "2022-07-20T21:02:10.182281",
     "status": "completed"
    },
    "tags": []
   },
   "source": [
    "## Train and test model\n",
    "Create a machine learning model and train and test data."
   ]
  },
  {
   "cell_type": "markdown",
   "id": "bfa0c509",
   "metadata": {
    "papermill": {
     "duration": 0.011711,
     "end_time": "2022-07-20T21:02:10.217400",
     "exception": false,
     "start_time": "2022-07-20T21:02:10.205689",
     "status": "completed"
    },
    "tags": []
   },
   "source": [
    "### Create a model"
   ]
  },
  {
   "cell_type": "code",
   "execution_count": 13,
   "id": "432b31d8",
   "metadata": {
    "execution": {
     "iopub.execute_input": "2022-07-20T21:02:10.243308Z",
     "iopub.status.busy": "2022-07-20T21:02:10.242818Z",
     "iopub.status.idle": "2022-07-20T21:02:10.248796Z",
     "shell.execute_reply": "2022-07-20T21:02:10.247461Z"
    },
    "papermill": {
     "duration": 0.021883,
     "end_time": "2022-07-20T21:02:10.251265",
     "exception": false,
     "start_time": "2022-07-20T21:02:10.229382",
     "status": "completed"
    },
    "tags": []
   },
   "outputs": [],
   "source": [
    "model = RandomForestClassifier(random_state=0, n_estimators=100)"
   ]
  },
  {
   "cell_type": "markdown",
   "id": "4942877a",
   "metadata": {
    "papermill": {
     "duration": 0.011509,
     "end_time": "2022-07-20T21:02:10.274606",
     "exception": false,
     "start_time": "2022-07-20T21:02:10.263097",
     "status": "completed"
    },
    "tags": []
   },
   "source": [
    "### train model"
   ]
  },
  {
   "cell_type": "code",
   "execution_count": 14,
   "id": "176dd97b",
   "metadata": {
    "execution": {
     "iopub.execute_input": "2022-07-20T21:02:10.300244Z",
     "iopub.status.busy": "2022-07-20T21:02:10.299777Z",
     "iopub.status.idle": "2022-07-20T21:02:10.530717Z",
     "shell.execute_reply": "2022-07-20T21:02:10.529570Z"
    },
    "papermill": {
     "duration": 0.247177,
     "end_time": "2022-07-20T21:02:10.533494",
     "exception": false,
     "start_time": "2022-07-20T21:02:10.286317",
     "status": "completed"
    },
    "tags": []
   },
   "outputs": [
    {
     "data": {
      "text/plain": [
       "RandomForestClassifier(random_state=0)"
      ]
     },
     "execution_count": 14,
     "metadata": {},
     "output_type": "execute_result"
    }
   ],
   "source": [
    "model.fit(x_train, y_train)"
   ]
  },
  {
   "cell_type": "markdown",
   "id": "f5a43f7a",
   "metadata": {
    "papermill": {
     "duration": 0.012066,
     "end_time": "2022-07-20T21:02:10.557724",
     "exception": false,
     "start_time": "2022-07-20T21:02:10.545658",
     "status": "completed"
    },
    "tags": []
   },
   "source": [
    "### evaluate model"
   ]
  },
  {
   "cell_type": "code",
   "execution_count": 15,
   "id": "376ec321",
   "metadata": {
    "execution": {
     "iopub.execute_input": "2022-07-20T21:02:10.584962Z",
     "iopub.status.busy": "2022-07-20T21:02:10.584008Z",
     "iopub.status.idle": "2022-07-20T21:02:11.828606Z",
     "shell.execute_reply": "2022-07-20T21:02:11.827134Z"
    },
    "papermill": {
     "duration": 1.261679,
     "end_time": "2022-07-20T21:02:11.831785",
     "exception": false,
     "start_time": "2022-07-20T21:02:10.570106",
     "status": "completed"
    },
    "tags": []
   },
   "outputs": [
    {
     "name": "stdout",
     "output_type": "stream",
     "text": [
      "0.7924235766744083\n"
     ]
    }
   ],
   "source": [
    "score = cross_val_score(model, x_train, y_train, cv=5)\n",
    "print(score.mean())"
   ]
  },
  {
   "cell_type": "markdown",
   "id": "7328eabb",
   "metadata": {
    "papermill": {
     "duration": 0.012288,
     "end_time": "2022-07-20T21:02:11.857327",
     "exception": false,
     "start_time": "2022-07-20T21:02:11.845039",
     "status": "completed"
    },
    "tags": []
   },
   "source": [
    "## Submit result"
   ]
  },
  {
   "cell_type": "code",
   "execution_count": 16,
   "id": "9d60147f",
   "metadata": {
    "execution": {
     "iopub.execute_input": "2022-07-20T21:02:11.885220Z",
     "iopub.status.busy": "2022-07-20T21:02:11.884755Z",
     "iopub.status.idle": "2022-07-20T21:02:11.921636Z",
     "shell.execute_reply": "2022-07-20T21:02:11.920220Z"
    },
    "papermill": {
     "duration": 0.054058,
     "end_time": "2022-07-20T21:02:11.924697",
     "exception": false,
     "start_time": "2022-07-20T21:02:11.870639",
     "status": "completed"
    },
    "tags": []
   },
   "outputs": [],
   "source": [
    "y_test = model.predict(x_test)\n",
    "result_data = pd.DataFrame({'PassengerId': x_test.index, 'Survived':y_test})\n",
    "result_data.to_csv(\"submission.csv\", index=False)"
   ]
  }
 ],
 "metadata": {
  "kernelspec": {
   "display_name": "Python 3",
   "language": "python",
   "name": "python3"
  },
  "language_info": {
   "codemirror_mode": {
    "name": "ipython",
    "version": 3
   },
   "file_extension": ".py",
   "mimetype": "text/x-python",
   "name": "python",
   "nbconvert_exporter": "python",
   "pygments_lexer": "ipython3",
   "version": "3.7.12"
  },
  "papermill": {
   "default_parameters": {},
   "duration": 17.885801,
   "end_time": "2022-07-20T21:02:13.063931",
   "environment_variables": {},
   "exception": null,
   "input_path": "__notebook__.ipynb",
   "output_path": "__notebook__.ipynb",
   "parameters": {},
   "start_time": "2022-07-20T21:01:55.178130",
   "version": "2.3.4"
  }
 },
 "nbformat": 4,
 "nbformat_minor": 5
}
